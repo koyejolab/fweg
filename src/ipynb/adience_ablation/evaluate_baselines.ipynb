{
 "cells": [
  {
   "cell_type": "code",
   "execution_count": 1,
   "metadata": {},
   "outputs": [],
   "source": [
    "%load_ext autoreload\n",
    "%autoreload 2"
   ]
  },
  {
   "cell_type": "code",
   "execution_count": 2,
   "metadata": {},
   "outputs": [
    {
     "name": "stderr",
     "output_type": "stream",
     "text": [
      "Using TensorFlow backend.\n"
     ]
    }
   ],
   "source": [
    "import pickle\n",
    "import os\n",
    "import csv\n",
    "import numpy as np\n",
    "import tensorflow as tf\n",
    "from sklearn import metrics \n",
    "\n",
    "BASE_DIR = '../../../'\n",
    "import sys\n",
    "sys.path.append(BASE_DIR)\n",
    "\n",
    "# custom code\n",
    "import utils.utils\n",
    "CONFIG = utils.utils.load_config(\"../../config.json\")\n",
    "\n",
    "import utils.metrics\n",
    "import utils.record"
   ]
  },
  {
   "cell_type": "code",
   "execution_count": 6,
   "metadata": {},
   "outputs": [
    {
     "name": "stdout",
     "output_type": "stream",
     "text": [
      "adience_ablation 15 0.5\n"
     ]
    }
   ],
   "source": [
    "DATASET = os.path.basename(os.getcwd()) # name of folder this file is in\n",
    "RANDOM_SEED = CONFIG['random_seed']\n",
    "EPOCHS = CONFIG[\"experiment_configs\"][DATASET][\"epochs\"]\n",
    "BATCH_SIZE = CONFIG[\"experiment_configs\"][DATASET][\"batch_size\"]\n",
    "IMAGE_X_SIZE = CONFIG[\"experiment_configs\"][DATASET][\"image_x_size\"]\n",
    "IMAGE_Y_SIZE = CONFIG[\"experiment_configs\"][DATASET][\"image_y_size\"]\n",
    "IMAGE_SIZE = (IMAGE_Y_SIZE, IMAGE_X_SIZE)\n",
    "VAL_FULL_SPLIT = CONFIG['experiment_configs'][DATASET]['val_full_split']\n",
    "HYPER_VAL_SPLIT = CONFIG['experiment_configs'][DATASET]['hyper_val_split']\n",
    "\n",
    "print(DATASET, RANDOM_SEED, VAL_FULL_SPLIT)\n",
    "\n",
    "# folders for processed, models\n",
    "DATA_F = os.path.join(BASE_DIR, f\"data/{DATASET}/\")\n",
    "PROCESSED_DIR = os.path.join(BASE_DIR, f'processed/{DATASET}/rs={RANDOM_SEED}/vs={VAL_FULL_SPLIT}')\n",
    "MODELS_DIR = os.path.join(BASE_DIR, f'models/{DATASET}/rs={RANDOM_SEED}/vs={VAL_FULL_SPLIT}')\n",
    "RESULTS_DIR = os.path.join(BASE_DIR, 'results')\n",
    "\n",
    "BASE_MODEL_SAVEPATH = utils.utils.get_savepath(MODELS_DIR, DATASET, \".h5\", mt=\"base\") # mt = model_type\n",
    "\n",
    "# base model saved here\n",
    "if not os.path.exists(BASE_MODEL_SAVEPATH):\n",
    "    print(f\"warning: no model has been run for rs={RANDOM_SEED}\")"
   ]
  },
  {
   "cell_type": "code",
   "execution_count": 7,
   "metadata": {},
   "outputs": [],
   "source": [
    "os.makedirs(RESULTS_DIR, exist_ok=True)"
   ]
  },
  {
   "cell_type": "code",
   "execution_count": 8,
   "metadata": {},
   "outputs": [
    {
     "name": "stdout",
     "output_type": "stream",
     "text": [
      "Found 1992 files belonging to 2 classes.\n",
      "Using 996 files for training.\n",
      "Found 1992 files belonging to 2 classes.\n",
      "Using 996 files for validation.\n",
      "Found 1992 files belonging to 2 classes.\n"
     ]
    }
   ],
   "source": [
    "val_ds = tf.keras.preprocessing.image_dataset_from_directory(\n",
    "    directory=os.path.join(PROCESSED_DIR, \"val\"),\n",
    "    batch_size=BATCH_SIZE,\n",
    "    image_size=IMAGE_SIZE,\n",
    "    label_mode='categorical',\n",
    "    follow_links=True,\n",
    "    seed = RANDOM_SEED,\n",
    ")\n",
    "\n",
    "hyper_val_ds = tf.keras.preprocessing.image_dataset_from_directory(\n",
    "    directory=os.path.join(PROCESSED_DIR, \"hyper_val\"),\n",
    "    batch_size=BATCH_SIZE,\n",
    "    image_size=IMAGE_SIZE,\n",
    "    label_mode='categorical',\n",
    "    follow_links=True,\n",
    "    seed = RANDOM_SEED,\n",
    ")\n",
    "\n",
    "test_ds = tf.keras.preprocessing.image_dataset_from_directory(\n",
    "    directory=os.path.join(PROCESSED_DIR, \"test\"),\n",
    "    batch_size=BATCH_SIZE,\n",
    "    image_size=IMAGE_SIZE,\n",
    "    label_mode='categorical',\n",
    "    follow_links=True,\n",
    "    seed = RANDOM_SEED,\n",
    ")"
   ]
  },
  {
   "cell_type": "code",
   "execution_count": 9,
   "metadata": {},
   "outputs": [],
   "source": [
    "'''\n",
    "This will standardize the pixel data\n",
    "'''\n",
    "def preprocess(imgs, labels):\n",
    "    # turn from <0..255> to <0..1>\n",
    "    imgs = imgs / 255.0\n",
    "    means = np.array( [0.5, 0.5, 0.5] )\n",
    "    stds = np.array( [0.5, 0.5, 0.5] )\n",
    "    imgs = (imgs - means) / stds\n",
    "    return imgs, labels"
   ]
  },
  {
   "cell_type": "code",
   "execution_count": 10,
   "metadata": {},
   "outputs": [],
   "source": [
    "val_ds = val_ds.map(preprocess)\n",
    "hyper_val_ds = hyper_val_ds.map(preprocess)\n",
    "test_ds = test_ds.map(preprocess)"
   ]
  },
  {
   "cell_type": "code",
   "execution_count": 11,
   "metadata": {},
   "outputs": [],
   "source": [
    "model = utils.utils.make_resnet(\n",
    "    depth=2,\n",
    "    random_state=RANDOM_SEED,\n",
    "    input_shape=(*IMAGE_SIZE, 3),\n",
    "    nc=2,\n",
    ")"
   ]
  },
  {
   "cell_type": "code",
   "execution_count": 12,
   "metadata": {},
   "outputs": [],
   "source": [
    "model_types = [\n",
    "    \"base\",\n",
    "    \"ft\",\n",
    "]\n",
    "\n",
    "metric_list = [\n",
    "    'Accuracy',\n",
    "]"
   ]
  },
  {
   "cell_type": "code",
   "execution_count": 15,
   "metadata": {},
   "outputs": [
    {
     "name": "stdout",
     "output_type": "stream",
     "text": [
      "Results file does not exist, creating it...\n"
     ]
    }
   ],
   "source": [
    "os.makedirs(RESULTS_DIR, exist_ok=True)\n",
    "savepath = os.path.join(RESULTS_DIR, f\"results_ablation_vs={VAL_FULL_SPLIT}.csv\")\n",
    "saver = utils.record.Results_Recorder(savepath, DATASET)"
   ]
  },
  {
   "cell_type": "code",
   "execution_count": 16,
   "metadata": {},
   "outputs": [
    {
     "name": "stderr",
     "output_type": "stream",
     "text": [
      "\r",
      "  0%|          | 0/32 [00:00<?, ?it/s]"
     ]
    },
    {
     "name": "stdout",
     "output_type": "stream",
     "text": [
      "Model Type: base\n"
     ]
    },
    {
     "name": "stderr",
     "output_type": "stream",
     "text": [
      "100%|██████████| 32/32 [00:08<00:00,  3.73it/s]\n",
      "100%|██████████| 32/32 [00:06<00:00,  4.79it/s]\n",
      "100%|██████████| 63/63 [00:13<00:00,  4.75it/s]\n",
      "  0%|          | 0/32 [00:00<?, ?it/s]"
     ]
    },
    {
     "name": "stdout",
     "output_type": "stream",
     "text": [
      "Model Type: ft\n"
     ]
    },
    {
     "name": "stderr",
     "output_type": "stream",
     "text": [
      "100%|██████████| 32/32 [00:06<00:00,  4.83it/s]\n",
      "100%|██████████| 32/32 [00:06<00:00,  4.91it/s]\n",
      "100%|██████████| 63/63 [00:13<00:00,  4.79it/s]\n"
     ]
    }
   ],
   "source": [
    "for mt in model_types:\n",
    "    print(f\"Model Type: {mt}\")\n",
    "    modelpath = utils.utils.get_savepath(MODELS_DIR, DATASET, \".h5\", mt=mt)\n",
    "    model.load_weights(modelpath)\n",
    "    \n",
    "    val_preds, val_labels = utils.utils.compute_preds(model, val_ds)\n",
    "    hyper_val_preds, hyper_val_labels = utils.utils.compute_preds(model, hyper_val_ds)\n",
    "    test_preds, test_labels = utils.utils.compute_preds(model, test_ds)\n",
    "\n",
    "    val_preds = np.argmax(val_preds, axis=1)\n",
    "    hyper_val_preds = np.argmax(hyper_val_preds, axis=1)\n",
    "    test_preds = np.argmax(test_preds, axis=1)\n",
    "\n",
    "    val_conf = metrics.confusion_matrix(val_labels, val_preds, normalize='all')\n",
    "    hyper_val_conf = metrics.confusion_matrix(hyper_val_labels, hyper_val_preds, normalize='all')\n",
    "    test_conf = metrics.confusion_matrix(test_labels, test_preds, normalize='all')\n",
    "    \n",
    "    for metric in metric_list:\n",
    "        val_score = utils.metrics.eval_metric(val_conf, metric)\n",
    "        hyper_val_score = utils.metrics.eval_metric(hyper_val_conf, metric)\n",
    "        test_score = utils.metrics.eval_metric(test_conf, metric)\n",
    "        \n",
    "        saver.save(RANDOM_SEED, metric, mt, val_score, hyper_val_score, test_score, None)"
   ]
  },
  {
   "cell_type": "code",
   "execution_count": 17,
   "metadata": {},
   "outputs": [],
   "source": [
    "saver.close()"
   ]
  },
  {
   "cell_type": "code",
   "execution_count": null,
   "metadata": {},
   "outputs": [],
   "source": []
  }
 ],
 "metadata": {
  "environment": {
   "name": "tf2-2-3-gpu.2-3.m56",
   "type": "gcloud",
   "uri": "gcr.io/deeplearning-platform-release/tf2-2-3-gpu.2-3:m56"
  },
  "kernelspec": {
   "display_name": "Python 3",
   "language": "python",
   "name": "python3"
  },
  "language_info": {
   "codemirror_mode": {
    "name": "ipython",
    "version": 3
   },
   "file_extension": ".py",
   "mimetype": "text/x-python",
   "name": "python",
   "nbconvert_exporter": "python",
   "pygments_lexer": "ipython3",
   "version": "3.7.8"
  }
 },
 "nbformat": 4,
 "nbformat_minor": 4
}
