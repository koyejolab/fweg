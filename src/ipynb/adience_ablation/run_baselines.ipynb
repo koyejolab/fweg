{
 "cells": [
  {
   "cell_type": "code",
   "execution_count": 1,
   "metadata": {},
   "outputs": [],
   "source": [
    "%load_ext autoreload\n",
    "%autoreload 2"
   ]
  },
  {
   "cell_type": "code",
   "execution_count": 2,
   "metadata": {},
   "outputs": [
    {
     "name": "stderr",
     "output_type": "stream",
     "text": [
      "Using TensorFlow backend.\n"
     ]
    }
   ],
   "source": [
    "import pickle\n",
    "import os\n",
    "import numpy as np\n",
    "import tensorflow as tf\n",
    "import keras.backend as K\n",
    "import matplotlib.pyplot as plt\n",
    "from sklearn import model_selection\n",
    "from tqdm.notebook import tqdm\n",
    "import umap\n",
    "import time\n",
    "\n",
    "BASE_DIR = '../../../'\n",
    "import sys\n",
    "sys.path.append(BASE_DIR)\n",
    "\n",
    "# custom code\n",
    "import utils.utils\n",
    "CONFIG = utils.utils.load_config(\"../../config.json\")\n",
    "import utils.papers\n",
    "import utils.custom_tf"
   ]
  },
  {
   "cell_type": "code",
   "execution_count": 4,
   "metadata": {},
   "outputs": [
    {
     "name": "stdout",
     "output_type": "stream",
     "text": [
      "adience_ablation 15 0.5\n"
     ]
    }
   ],
   "source": [
    "DATASET = os.path.basename(os.getcwd()) # name of folder this file is in\n",
    "RANDOM_SEED = CONFIG['random_seed']\n",
    "EPOCHS = CONFIG[\"experiment_configs\"][DATASET][\"epochs\"]\n",
    "BATCH_SIZE = CONFIG[\"experiment_configs\"][DATASET][\"batch_size\"]\n",
    "IMAGE_X_SIZE = CONFIG[\"experiment_configs\"][DATASET][\"image_x_size\"]\n",
    "IMAGE_Y_SIZE = CONFIG[\"experiment_configs\"][DATASET][\"image_y_size\"]\n",
    "IMAGE_SIZE = (IMAGE_Y_SIZE, IMAGE_X_SIZE)\n",
    "VAL_FULL_SPLIT = CONFIG['experiment_configs'][DATASET]['val_full_split']\n",
    "HYPER_VAL_SPLIT = CONFIG['experiment_configs'][DATASET]['hyper_val_split']\n",
    "\n",
    "print(DATASET, RANDOM_SEED, VAL_FULL_SPLIT)\n",
    "\n",
    "# folders for processed, models\n",
    "DATA_F = os.path.join(BASE_DIR, f\"data/{DATASET}/\")\n",
    "PROCESSED_DIR = os.path.join(BASE_DIR, f'processed/{DATASET}/rs={RANDOM_SEED}/vs={VAL_FULL_SPLIT}')\n",
    "MODELS_DIR = os.path.join(BASE_DIR, f'models/{DATASET}/rs={RANDOM_SEED}/vs={VAL_FULL_SPLIT}')\n",
    "\n",
    "BASE_MODEL_SAVEPATH = utils.utils.get_savepath(MODELS_DIR, DATASET, \".h5\", mt=\"base\") # mt = model_type\n",
    "\n",
    "# base model saved here\n",
    "if not os.path.exists(BASE_MODEL_SAVEPATH):\n",
    "    print(f\"warning: no model has been run for rs={RANDOM_SEED}\")\n",
    "    "
   ]
  },
  {
   "cell_type": "code",
   "execution_count": 6,
   "metadata": {},
   "outputs": [
    {
     "name": "stdout",
     "output_type": "stream",
     "text": [
      "Found 1992 files belonging to 2 classes.\n",
      "Found 1992 files belonging to 2 classes.\n",
      "Using 996 files for training.\n",
      "Found 1992 files belonging to 2 classes.\n",
      "Using 996 files for validation.\n",
      "Found 1992 files belonging to 2 classes.\n"
     ]
    }
   ],
   "source": [
    "# create a val for training extra\n",
    "val_ds = tf.keras.preprocessing.image_dataset_from_directory(\n",
    "    directory=os.path.join(PROCESSED_DIR, \"val\"),\n",
    "    batch_size=BATCH_SIZE,\n",
    "    image_size=IMAGE_SIZE,\n",
    "    label_mode='categorical',\n",
    "    follow_links=True,\n",
    "    seed = RANDOM_SEED,\n",
    ")\n",
    "\n",
    "# create a hyper_val for knowing when to stop\n",
    "hyper_val_ds = tf.keras.preprocessing.image_dataset_from_directory(\n",
    "    directory=os.path.join(PROCESSED_DIR, \"hyper_val\"),\n",
    "    batch_size=BATCH_SIZE,\n",
    "    image_size=IMAGE_SIZE,\n",
    "    label_mode='categorical',\n",
    "    follow_links=True,\n",
    "    seed = RANDOM_SEED,\n",
    ")\n",
    "\n",
    "test_ds = tf.keras.preprocessing.image_dataset_from_directory(\n",
    "    directory=os.path.join(PROCESSED_DIR, \"test\"),\n",
    "    batch_size=BATCH_SIZE,\n",
    "    image_size=IMAGE_SIZE,\n",
    "    label_mode='categorical',\n",
    "    follow_links=True,\n",
    "    seed = RANDOM_SEED,\n",
    ")"
   ]
  },
  {
   "cell_type": "code",
   "execution_count": 7,
   "metadata": {},
   "outputs": [],
   "source": [
    "'''\n",
    "This will standardize the pixel data\n",
    "'''\n",
    "def preprocess(imgs, labels):\n",
    "    # turn from <0..255> to <0..1>\n",
    "    imgs = imgs / 255.0\n",
    "    means = np.array( [0.5, 0.5, 0.5] )\n",
    "    stds = np.array( [0.5, 0.5, 0.5] )\n",
    "    imgs = (imgs - means) / stds\n",
    "    return imgs, labels"
   ]
  },
  {
   "cell_type": "code",
   "execution_count": 8,
   "metadata": {},
   "outputs": [],
   "source": [
    "val_ds = val_ds.map(preprocess)\n",
    "hyper_val_ds = hyper_val_ds.map(preprocess)\n",
    "test_ds = test_ds.map(preprocess)"
   ]
  },
  {
   "cell_type": "code",
   "execution_count": 9,
   "metadata": {},
   "outputs": [],
   "source": [
    "model = utils.utils.make_resnet(\n",
    "    depth=2,\n",
    "    random_state=RANDOM_SEED,\n",
    "    input_shape=(*IMAGE_SIZE, 3),\n",
    "    nc=2,\n",
    ")\n",
    "\n",
    "model.load_weights(BASE_MODEL_SAVEPATH)"
   ]
  },
  {
   "cell_type": "code",
   "execution_count": 10,
   "metadata": {},
   "outputs": [
    {
     "name": "stderr",
     "output_type": "stream",
     "text": [
      "100%|██████████| 32/32 [00:08<00:00,  3.78it/s]\n"
     ]
    },
    {
     "data": {
      "text/plain": [
       "0.7811244979919679"
      ]
     },
     "execution_count": 10,
     "metadata": {},
     "output_type": "execute_result"
    }
   ],
   "source": [
    "# hyper val acc\n",
    "preds, labels = utils.utils.compute_preds(\n",
    "    model,\n",
    "    hyper_val_ds,\n",
    ")\n",
    "(np.argmax(preds, axis=1) == labels).mean()"
   ]
  },
  {
   "cell_type": "code",
   "execution_count": 11,
   "metadata": {},
   "outputs": [
    {
     "name": "stderr",
     "output_type": "stream",
     "text": [
      "100%|██████████| 63/63 [00:13<00:00,  4.69it/s]\n"
     ]
    },
    {
     "data": {
      "text/plain": [
       "0.7745983935742972"
      ]
     },
     "execution_count": 11,
     "metadata": {},
     "output_type": "execute_result"
    }
   ],
   "source": [
    "# test acc\n",
    "preds, labels = utils.utils.compute_preds(\n",
    "    model,\n",
    "    test_ds,\n",
    ")\n",
    "(np.argmax(preds, axis=1) == labels).mean()"
   ]
  },
  {
   "cell_type": "code",
   "execution_count": null,
   "metadata": {},
   "outputs": [],
   "source": []
  },
  {
   "cell_type": "markdown",
   "metadata": {},
   "source": [
    "# Baseline 1: Fine Tune"
   ]
  },
  {
   "cell_type": "code",
   "execution_count": 12,
   "metadata": {},
   "outputs": [],
   "source": [
    "model.load_weights(BASE_MODEL_SAVEPATH)"
   ]
  },
  {
   "cell_type": "code",
   "execution_count": 13,
   "metadata": {},
   "outputs": [],
   "source": [
    "optimizer = tf.keras.optimizers.SGD(lr=5e-6, momentum=0.9)"
   ]
  },
  {
   "cell_type": "code",
   "execution_count": 14,
   "metadata": {},
   "outputs": [],
   "source": [
    "model.compile(optimizer, loss='categorical_crossentropy', metrics = ['accuracy'])"
   ]
  },
  {
   "cell_type": "code",
   "execution_count": 15,
   "metadata": {},
   "outputs": [],
   "source": [
    "FT_MODEL_SAVEPATH = utils.utils.get_savepath(MODELS_DIR, \"adience_ablation\", \".h5\", mt=\"ft\")\n",
    "\n",
    "save_best = tf.keras.callbacks.ModelCheckpoint(\n",
    "    filepath=FT_MODEL_SAVEPATH,\n",
    "    monitor=\"val_loss\",\n",
    "    verbose=1,\n",
    "    save_weights_only=True,\n",
    "    save_best_only=True,\n",
    ")\n"
   ]
  },
  {
   "cell_type": "code",
   "execution_count": 16,
   "metadata": {},
   "outputs": [],
   "source": [
    "callbacks = [save_best]"
   ]
  },
  {
   "cell_type": "code",
   "execution_count": 17,
   "metadata": {},
   "outputs": [
    {
     "name": "stdout",
     "output_type": "stream",
     "text": [
      "Epoch 1/25\n",
      "32/32 [==============================] - ETA: 0s - loss: 0.6014 - accuracy: 0.7721\n",
      "Epoch 00001: val_loss improved from inf to 0.60150, saving model to ../../../models/adience_ablation/rs=15/vs=0.5/adience_ablation_mt=ft.h5\n",
      "32/32 [==============================] - 14s 437ms/step - loss: 0.6014 - accuracy: 0.7721 - val_loss: 0.6015 - val_accuracy: 0.7861\n",
      "Epoch 2/25\n",
      "31/32 [============================>.] - ETA: 0s - loss: 0.5860 - accuracy: 0.7913\n",
      "Epoch 00002: val_loss improved from 0.60150 to 0.59297, saving model to ../../../models/adience_ablation/rs=15/vs=0.5/adience_ablation_mt=ft.h5\n",
      "32/32 [==============================] - 14s 439ms/step - loss: 0.5852 - accuracy: 0.7912 - val_loss: 0.5930 - val_accuracy: 0.7942\n",
      "Epoch 3/25\n",
      "31/32 [============================>.] - ETA: 0s - loss: 0.5725 - accuracy: 0.7812\n",
      "Epoch 00003: val_loss improved from 0.59297 to 0.58409, saving model to ../../../models/adience_ablation/rs=15/vs=0.5/adience_ablation_mt=ft.h5\n",
      "32/32 [==============================] - 13s 415ms/step - loss: 0.5761 - accuracy: 0.7801 - val_loss: 0.5841 - val_accuracy: 0.7942\n",
      "Epoch 4/25\n",
      "31/32 [============================>.] - ETA: 0s - loss: 0.5650 - accuracy: 0.7954\n",
      "Epoch 00004: val_loss improved from 0.58409 to 0.58344, saving model to ../../../models/adience_ablation/rs=15/vs=0.5/adience_ablation_mt=ft.h5\n",
      "32/32 [==============================] - 13s 420ms/step - loss: 0.5646 - accuracy: 0.7952 - val_loss: 0.5834 - val_accuracy: 0.8002\n",
      "Epoch 5/25\n",
      "31/32 [============================>.] - ETA: 0s - loss: 0.5441 - accuracy: 0.8014\n",
      "Epoch 00005: val_loss improved from 0.58344 to 0.57443, saving model to ../../../models/adience_ablation/rs=15/vs=0.5/adience_ablation_mt=ft.h5\n",
      "32/32 [==============================] - 13s 419ms/step - loss: 0.5443 - accuracy: 0.8012 - val_loss: 0.5744 - val_accuracy: 0.7982\n",
      "Epoch 6/25\n",
      "31/32 [============================>.] - ETA: 0s - loss: 0.5345 - accuracy: 0.8105\n",
      "Epoch 00006: val_loss improved from 0.57443 to 0.57174, saving model to ../../../models/adience_ablation/rs=15/vs=0.5/adience_ablation_mt=ft.h5\n",
      "32/32 [==============================] - 13s 418ms/step - loss: 0.5332 - accuracy: 0.8112 - val_loss: 0.5717 - val_accuracy: 0.7972\n",
      "Epoch 7/25\n",
      "31/32 [============================>.] - ETA: 0s - loss: 0.5252 - accuracy: 0.8145\n",
      "Epoch 00007: val_loss improved from 0.57174 to 0.56682, saving model to ../../../models/adience_ablation/rs=15/vs=0.5/adience_ablation_mt=ft.h5\n",
      "32/32 [==============================] - 13s 414ms/step - loss: 0.5246 - accuracy: 0.8143 - val_loss: 0.5668 - val_accuracy: 0.8032\n",
      "Epoch 8/25\n",
      "31/32 [============================>.] - ETA: 0s - loss: 0.5177 - accuracy: 0.8246\n",
      "Epoch 00008: val_loss improved from 0.56682 to 0.56279, saving model to ../../../models/adience_ablation/rs=15/vs=0.5/adience_ablation_mt=ft.h5\n",
      "32/32 [==============================] - 13s 415ms/step - loss: 0.5187 - accuracy: 0.8243 - val_loss: 0.5628 - val_accuracy: 0.8042\n",
      "Epoch 9/25\n",
      "31/32 [============================>.] - ETA: 0s - loss: 0.5036 - accuracy: 0.8236\n",
      "Epoch 00009: val_loss improved from 0.56279 to 0.56128, saving model to ../../../models/adience_ablation/rs=15/vs=0.5/adience_ablation_mt=ft.h5\n",
      "32/32 [==============================] - 13s 413ms/step - loss: 0.5032 - accuracy: 0.8233 - val_loss: 0.5613 - val_accuracy: 0.8062\n",
      "Epoch 10/25\n",
      "31/32 [============================>.] - ETA: 0s - loss: 0.4845 - accuracy: 0.8236\n",
      "Epoch 00010: val_loss improved from 0.56128 to 0.56061, saving model to ../../../models/adience_ablation/rs=15/vs=0.5/adience_ablation_mt=ft.h5\n",
      "32/32 [==============================] - 13s 415ms/step - loss: 0.4847 - accuracy: 0.8233 - val_loss: 0.5606 - val_accuracy: 0.8042\n",
      "Epoch 11/25\n",
      "31/32 [============================>.] - ETA: 0s - loss: 0.4841 - accuracy: 0.8256\n",
      "Epoch 00011: val_loss improved from 0.56061 to 0.55809, saving model to ../../../models/adience_ablation/rs=15/vs=0.5/adience_ablation_mt=ft.h5\n",
      "32/32 [==============================] - 13s 414ms/step - loss: 0.4831 - accuracy: 0.8263 - val_loss: 0.5581 - val_accuracy: 0.8022\n",
      "Epoch 12/25\n",
      "31/32 [============================>.] - ETA: 0s - loss: 0.4854 - accuracy: 0.8196\n",
      "Epoch 00012: val_loss improved from 0.55809 to 0.55668, saving model to ../../../models/adience_ablation/rs=15/vs=0.5/adience_ablation_mt=ft.h5\n",
      "32/32 [==============================] - 13s 414ms/step - loss: 0.4841 - accuracy: 0.8203 - val_loss: 0.5567 - val_accuracy: 0.8062\n",
      "Epoch 13/25\n",
      "31/32 [============================>.] - ETA: 0s - loss: 0.4699 - accuracy: 0.8347\n",
      "Epoch 00013: val_loss improved from 0.55668 to 0.55435, saving model to ../../../models/adience_ablation/rs=15/vs=0.5/adience_ablation_mt=ft.h5\n",
      "32/32 [==============================] - 13s 417ms/step - loss: 0.4694 - accuracy: 0.8353 - val_loss: 0.5544 - val_accuracy: 0.8062\n",
      "Epoch 14/25\n",
      "31/32 [============================>.] - ETA: 0s - loss: 0.4684 - accuracy: 0.8327\n",
      "Epoch 00014: val_loss improved from 0.55435 to 0.55266, saving model to ../../../models/adience_ablation/rs=15/vs=0.5/adience_ablation_mt=ft.h5\n",
      "32/32 [==============================] - 13s 416ms/step - loss: 0.4671 - accuracy: 0.8333 - val_loss: 0.5527 - val_accuracy: 0.8062\n",
      "Epoch 15/25\n",
      "31/32 [============================>.] - ETA: 0s - loss: 0.4647 - accuracy: 0.8407\n",
      "Epoch 00015: val_loss improved from 0.55266 to 0.55177, saving model to ../../../models/adience_ablation/rs=15/vs=0.5/adience_ablation_mt=ft.h5\n",
      "32/32 [==============================] - 13s 415ms/step - loss: 0.4635 - accuracy: 0.8414 - val_loss: 0.5518 - val_accuracy: 0.8042\n",
      "Epoch 16/25\n",
      "31/32 [============================>.] - ETA: 0s - loss: 0.4559 - accuracy: 0.8417\n",
      "Epoch 00016: val_loss improved from 0.55177 to 0.55021, saving model to ../../../models/adience_ablation/rs=15/vs=0.5/adience_ablation_mt=ft.h5\n",
      "32/32 [==============================] - 13s 414ms/step - loss: 0.4563 - accuracy: 0.8414 - val_loss: 0.5502 - val_accuracy: 0.8052\n",
      "Epoch 17/25\n",
      "31/32 [============================>.] - ETA: 0s - loss: 0.4565 - accuracy: 0.8468\n",
      "Epoch 00017: val_loss improved from 0.55021 to 0.54978, saving model to ../../../models/adience_ablation/rs=15/vs=0.5/adience_ablation_mt=ft.h5\n",
      "32/32 [==============================] - 13s 414ms/step - loss: 0.4561 - accuracy: 0.8474 - val_loss: 0.5498 - val_accuracy: 0.8102\n",
      "Epoch 18/25\n",
      "31/32 [============================>.] - ETA: 0s - loss: 0.4519 - accuracy: 0.8478\n",
      "Epoch 00018: val_loss improved from 0.54978 to 0.54933, saving model to ../../../models/adience_ablation/rs=15/vs=0.5/adience_ablation_mt=ft.h5\n",
      "32/32 [==============================] - 13s 416ms/step - loss: 0.4522 - accuracy: 0.8474 - val_loss: 0.5493 - val_accuracy: 0.8052\n",
      "Epoch 19/25\n",
      "31/32 [============================>.] - ETA: 0s - loss: 0.4465 - accuracy: 0.8468\n",
      "Epoch 00019: val_loss improved from 0.54933 to 0.54783, saving model to ../../../models/adience_ablation/rs=15/vs=0.5/adience_ablation_mt=ft.h5\n",
      "32/32 [==============================] - 13s 412ms/step - loss: 0.4466 - accuracy: 0.8464 - val_loss: 0.5478 - val_accuracy: 0.8102\n",
      "Epoch 20/25\n",
      "31/32 [============================>.] - ETA: 0s - loss: 0.4388 - accuracy: 0.8498\n",
      "Epoch 00020: val_loss improved from 0.54783 to 0.54695, saving model to ../../../models/adience_ablation/rs=15/vs=0.5/adience_ablation_mt=ft.h5\n",
      "32/32 [==============================] - 13s 410ms/step - loss: 0.4382 - accuracy: 0.8504 - val_loss: 0.5469 - val_accuracy: 0.8133\n",
      "Epoch 21/25\n",
      "31/32 [============================>.] - ETA: 0s - loss: 0.4321 - accuracy: 0.8579\n",
      "Epoch 00021: val_loss improved from 0.54695 to 0.54690, saving model to ../../../models/adience_ablation/rs=15/vs=0.5/adience_ablation_mt=ft.h5\n",
      "32/32 [==============================] - 13s 412ms/step - loss: 0.4332 - accuracy: 0.8574 - val_loss: 0.5469 - val_accuracy: 0.8072\n",
      "Epoch 22/25\n",
      "31/32 [============================>.] - ETA: 0s - loss: 0.4361 - accuracy: 0.8548\n",
      "Epoch 00022: val_loss improved from 0.54690 to 0.54642, saving model to ../../../models/adience_ablation/rs=15/vs=0.5/adience_ablation_mt=ft.h5\n",
      "32/32 [==============================] - 13s 413ms/step - loss: 0.4360 - accuracy: 0.8544 - val_loss: 0.5464 - val_accuracy: 0.8223\n",
      "Epoch 23/25\n",
      "31/32 [============================>.] - ETA: 0s - loss: 0.4270 - accuracy: 0.8528\n",
      "Epoch 00023: val_loss did not improve from 0.54642\n",
      "32/32 [==============================] - 13s 409ms/step - loss: 0.4271 - accuracy: 0.8534 - val_loss: 0.5472 - val_accuracy: 0.8092\n",
      "Epoch 24/25\n",
      "31/32 [============================>.] - ETA: 0s - loss: 0.4310 - accuracy: 0.8589\n",
      "Epoch 00024: val_loss improved from 0.54642 to 0.54491, saving model to ../../../models/adience_ablation/rs=15/vs=0.5/adience_ablation_mt=ft.h5\n",
      "32/32 [==============================] - 13s 409ms/step - loss: 0.4324 - accuracy: 0.8574 - val_loss: 0.5449 - val_accuracy: 0.8122\n",
      "Epoch 25/25\n",
      "31/32 [============================>.] - ETA: 0s - loss: 0.4294 - accuracy: 0.8659\n",
      "Epoch 00025: val_loss improved from 0.54491 to 0.54403, saving model to ../../../models/adience_ablation/rs=15/vs=0.5/adience_ablation_mt=ft.h5\n",
      "32/32 [==============================] - 13s 411ms/step - loss: 0.4296 - accuracy: 0.8655 - val_loss: 0.5440 - val_accuracy: 0.8163\n"
     ]
    },
    {
     "data": {
      "text/plain": [
       "<tensorflow.python.keras.callbacks.History at 0x7fe718db5110>"
      ]
     },
     "execution_count": 17,
     "metadata": {},
     "output_type": "execute_result"
    }
   ],
   "source": [
    "model.fit(\n",
    "        x=val_ds,\n",
    "        epochs=EPOCHS,\n",
    "        validation_data=hyper_val_ds,\n",
    "        callbacks=callbacks,\n",
    ")"
   ]
  },
  {
   "cell_type": "code",
   "execution_count": 18,
   "metadata": {},
   "outputs": [],
   "source": [
    "model.load_weights(FT_MODEL_SAVEPATH)"
   ]
  },
  {
   "cell_type": "code",
   "execution_count": 19,
   "metadata": {},
   "outputs": [
    {
     "name": "stderr",
     "output_type": "stream",
     "text": [
      "100%|██████████| 32/32 [00:07<00:00,  4.51it/s]\n"
     ]
    },
    {
     "data": {
      "text/plain": [
       "0.8162650602409639"
      ]
     },
     "execution_count": 19,
     "metadata": {},
     "output_type": "execute_result"
    }
   ],
   "source": [
    "# hyper val acc\n",
    "preds, labels = utils.utils.compute_preds(\n",
    "    model,\n",
    "    hyper_val_ds,\n",
    ")\n",
    "(np.argmax(preds, axis=1) == labels).mean()"
   ]
  },
  {
   "cell_type": "code",
   "execution_count": 20,
   "metadata": {},
   "outputs": [
    {
     "name": "stderr",
     "output_type": "stream",
     "text": [
      "100%|██████████| 63/63 [00:12<00:00,  4.92it/s]\n"
     ]
    },
    {
     "data": {
      "text/plain": [
       "0.8147590361445783"
      ]
     },
     "execution_count": 20,
     "metadata": {},
     "output_type": "execute_result"
    }
   ],
   "source": [
    "# test acc\n",
    "preds, labels = utils.utils.compute_preds(\n",
    "    model,\n",
    "    test_ds,\n",
    ")\n",
    "(np.argmax(preds, axis=1) == labels).mean()"
   ]
  },
  {
   "cell_type": "code",
   "execution_count": null,
   "metadata": {},
   "outputs": [],
   "source": []
  }
 ],
 "metadata": {
  "environment": {
   "name": "tf2-2-3-gpu.2-3.m56",
   "type": "gcloud",
   "uri": "gcr.io/deeplearning-platform-release/tf2-2-3-gpu.2-3:m56"
  },
  "kernelspec": {
   "display_name": "Python 3",
   "language": "python",
   "name": "python3"
  },
  "language_info": {
   "codemirror_mode": {
    "name": "ipython",
    "version": 3
   },
   "file_extension": ".py",
   "mimetype": "text/x-python",
   "name": "python",
   "nbconvert_exporter": "python",
   "pygments_lexer": "ipython3",
   "version": "3.7.8"
  }
 },
 "nbformat": 4,
 "nbformat_minor": 4
}
