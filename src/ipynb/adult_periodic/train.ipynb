{
 "cells": [
  {
   "cell_type": "code",
   "execution_count": 1,
   "metadata": {},
   "outputs": [],
   "source": [
    "%load_ext autoreload\n",
    "%autoreload 2"
   ]
  },
  {
   "cell_type": "code",
   "execution_count": 6,
   "metadata": {},
   "outputs": [],
   "source": [
    "import math\n",
    "import pickle\n",
    "import os\n",
    "import tensorflow as tf\n",
    "import numpy as np\n",
    "import pandas as pd\n",
    "\n",
    "\n",
    "BASE_DIR = '../../../'\n",
    "import sys\n",
    "sys.path.append(BASE_DIR)\n",
    "\n",
    "# custom code\n",
    "import utils.utils\n",
    "CONFIG = utils.utils.load_config(\"../../config.json\")"
   ]
  },
  {
   "cell_type": "code",
   "execution_count": 4,
   "metadata": {},
   "outputs": [
    {
     "name": "stdout",
     "output_type": "stream",
     "text": [
      "55\n"
     ]
    }
   ],
   "source": [
    "DATASET = os.path.basename(os.getcwd()) # name of folder this file is in\n",
    "RANDOM_SEED = CONFIG['random_seed']\n",
    "BATCH_SIZE = CONFIG[\"experiment_configs\"][DATASET][\"batch_size\"]\n",
    "\n",
    "print(RANDOM_SEED)\n",
    "\n",
    "PROCESSED_DIR = os.path.join(BASE_DIR, f'processed/{DATASET}/rs={RANDOM_SEED}')\n",
    "MODELS_DIR = os.path.join(BASE_DIR, f'models/{DATASET}/rs={RANDOM_SEED}')\n",
    "\n",
    "BASE_MODEL_SAVEPATH = utils.utils.get_savepath(MODELS_DIR, DATASET, \".h5\", mt=\"base\") # mt = model_type\n",
    "\n",
    "if os.path.exists(BASE_MODEL_SAVEPATH):\n",
    "    print(f\"warning: model has been done for rs={RANDOM_SEED}\")"
   ]
  },
  {
   "cell_type": "code",
   "execution_count": 7,
   "metadata": {},
   "outputs": [],
   "source": [
    "train_df = pd.read_csv(os.path.join(PROCESSED_DIR, \"train.csv\"))\n",
    "hyper_train_df = pd.read_csv(os.path.join(PROCESSED_DIR, \"hyper_train.csv\"))\n",
    "val_df = pd.read_csv(os.path.join(PROCESSED_DIR, \"val.csv\"))\n",
    "hyper_val_df = pd.read_csv(os.path.join(PROCESSED_DIR, \"hyper_val.csv\"))\n",
    "test_df = pd.read_csv(os.path.join(PROCESSED_DIR, \"test.csv\"))\n",
    "\n",
    "val_full_df = pd.concat([val_df, hyper_val_df])"
   ]
  },
  {
   "cell_type": "code",
   "execution_count": 8,
   "metadata": {},
   "outputs": [],
   "source": [
    "x_train = train_df.drop('label', axis=1).values\n",
    "y_train = train_df['label'].values\n",
    "\n",
    "x_hyper_train = hyper_train_df.drop('label', axis=1).values\n",
    "y_hyper_train = hyper_train_df['label'].values\n",
    "\n",
    "x_val_full = val_full_df.drop('label', axis=1).values\n",
    "y_val_full = val_full_df['label'].values\n",
    "\n",
    "x_test = test_df.drop('label', axis=1).values\n",
    "y_test = test_df['label'].values"
   ]
  },
  {
   "cell_type": "code",
   "execution_count": 9,
   "metadata": {},
   "outputs": [],
   "source": [
    "y_train = tf.keras.utils.to_categorical(y_train)\n",
    "y_hyper_train = tf.keras.utils.to_categorical(y_hyper_train)\n",
    "y_val_full = tf.keras.utils.to_categorical(y_val_full)\n",
    "y_test = tf.keras.utils.to_categorical(y_test)"
   ]
  },
  {
   "cell_type": "code",
   "execution_count": 10,
   "metadata": {},
   "outputs": [],
   "source": [
    "model = tf.keras.models.Sequential([\n",
    "    tf.keras.Input(shape=x_train.shape[1]),\n",
    "    tf.keras.layers.Dense(2, activation=tf.nn.softmax),\n",
    "])"
   ]
  },
  {
   "cell_type": "code",
   "execution_count": 11,
   "metadata": {},
   "outputs": [],
   "source": [
    "model.compile(optimizer='sgd', loss='categorical_crossentropy', metrics=['accuracy'], )"
   ]
  },
  {
   "cell_type": "code",
   "execution_count": 12,
   "metadata": {},
   "outputs": [],
   "source": [
    "class WeightsSaver(tf.keras.callbacks.Callback):\n",
    "    def __init__(self, save_freq):\n",
    "        self.save_freq = save_freq\n",
    "        self.batch = 0\n",
    "\n",
    "    def on_batch_end(self, batch, logs=None):\n",
    "        if (self.batch % self.save_freq) == 0:\n",
    "            filename = f\"adult_periodic_base_batch={self.batch}.h5\"\n",
    "            filepath = os.path.join(MODELS_DIR, filename)\n",
    "            self.model.save_weights(filepath)\n",
    "        self.batch += 1\n",
    "\n",
    "# save every 50 batches\n",
    "ws = WeightsSaver(50)\n",
    "\n",
    "callbacks = [ws]"
   ]
  },
  {
   "cell_type": "code",
   "execution_count": 13,
   "metadata": {},
   "outputs": [
    {
     "name": "stdout",
     "output_type": "stream",
     "text": [
      "Epoch 1/2\n",
      "682/682 [==============================] - 2s 3ms/step - loss: 0.6091 - accuracy: 0.6654 - val_loss: 0.5526 - val_accuracy: 0.7212\n",
      "Epoch 2/2\n",
      "682/682 [==============================] - 2s 2ms/step - loss: 0.5363 - accuracy: 0.7341 - val_loss: 0.5222 - val_accuracy: 0.7442\n"
     ]
    },
    {
     "data": {
      "text/plain": [
       "<tensorflow.python.keras.callbacks.History at 0x7f4b296a5fd0>"
      ]
     },
     "execution_count": 13,
     "metadata": {},
     "output_type": "execute_result"
    }
   ],
   "source": [
    "model.fit(\n",
    "    x_train,\n",
    "    y_train,\n",
    "    batch_size = BATCH_SIZE,\n",
    "    epochs = 2,\n",
    "    validation_data = (x_hyper_train, y_hyper_train),\n",
    "    verbose=1,\n",
    "    callbacks=callbacks,\n",
    ")"
   ]
  },
  {
   "cell_type": "code",
   "execution_count": 14,
   "metadata": {},
   "outputs": [],
   "source": [
    "# see the model at a batch\n",
    "batch = 1200\n",
    "\n",
    "model.load_weights( os.path.join(MODELS_DIR, f\"adult_periodic_base_batch={batch}.h5\") )\n"
   ]
  },
  {
   "cell_type": "code",
   "execution_count": 15,
   "metadata": {},
   "outputs": [
    {
     "data": {
      "text/plain": [
       "0.7388952555581022"
      ]
     },
     "execution_count": 15,
     "metadata": {},
     "output_type": "execute_result"
    }
   ],
   "source": [
    "# train acc\n",
    "preds_train = utils.utils.compute_preds(\n",
    "    model,\n",
    "    x_train,\n",
    "    batch_size=BATCH_SIZE,\n",
    ")\n",
    "(np.argmax(preds_train, axis=1) == np.argwhere(y_train)[:,1]).mean()"
   ]
  },
  {
   "cell_type": "code",
   "execution_count": 16,
   "metadata": {},
   "outputs": [
    {
     "data": {
      "text/plain": [
       "0.7451144611948632"
      ]
     },
     "execution_count": 16,
     "metadata": {},
     "output_type": "execute_result"
    }
   ],
   "source": [
    "# hyper train acc\n",
    "preds_hyper_train = utils.utils.compute_preds(\n",
    "    model,\n",
    "    x_hyper_train,\n",
    "    batch_size=1024,\n",
    ")\n",
    "(np.argmax(preds_hyper_train, axis=1) == np.argwhere(y_hyper_train)[:,1]).mean()"
   ]
  },
  {
   "cell_type": "code",
   "execution_count": 18,
   "metadata": {},
   "outputs": [
    {
     "data": {
      "text/plain": [
       "0.5828220858895705"
      ]
     },
     "execution_count": 18,
     "metadata": {},
     "output_type": "execute_result"
    }
   ],
   "source": [
    "# val acc\n",
    "preds_val_full = utils.utils.compute_preds(\n",
    "    model,\n",
    "    x_val_full,\n",
    "    batch_size=BATCH_SIZE,\n",
    ")\n",
    "(np.argmax(preds_val_full, axis=1) == np.argwhere(y_val_full)[:,1]).mean()"
   ]
  },
  {
   "cell_type": "code",
   "execution_count": 19,
   "metadata": {},
   "outputs": [
    {
     "data": {
      "text/plain": [
       "0.5797865740166274"
      ]
     },
     "execution_count": 19,
     "metadata": {},
     "output_type": "execute_result"
    }
   ],
   "source": [
    "# test acc\n",
    "preds_test = utils.utils.compute_preds(\n",
    "    model,\n",
    "    x_test,\n",
    "    batch_size=BATCH_SIZE,\n",
    ")\n",
    "(np.argmax(preds_test, axis=1) == np.argwhere(y_test)[:,1]).mean()"
   ]
  },
  {
   "cell_type": "code",
   "execution_count": null,
   "metadata": {},
   "outputs": [],
   "source": []
  }
 ],
 "metadata": {
  "environment": {
   "name": "tf2-2-3-gpu.2-3.m56",
   "type": "gcloud",
   "uri": "gcr.io/deeplearning-platform-release/tf2-2-3-gpu.2-3:m56"
  },
  "kernelspec": {
   "display_name": "Python 3",
   "language": "python",
   "name": "python3"
  },
  "language_info": {
   "codemirror_mode": {
    "name": "ipython",
    "version": 3
   },
   "file_extension": ".py",
   "mimetype": "text/x-python",
   "name": "python",
   "nbconvert_exporter": "python",
   "pygments_lexer": "ipython3",
   "version": "3.7.8"
  }
 },
 "nbformat": 4,
 "nbformat_minor": 4
}
