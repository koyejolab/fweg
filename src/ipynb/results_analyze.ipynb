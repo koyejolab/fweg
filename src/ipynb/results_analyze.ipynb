{
 "cells": [
  {
   "cell_type": "code",
   "execution_count": 1,
   "metadata": {},
   "outputs": [],
   "source": [
    "import os\n",
    "import pandas as pd\n",
    "\n",
    "BASE_DIR = \"../../\"\n",
    "RESULTS_DIR = os.path.join(BASE_DIR, \"results\")"
   ]
  },
  {
   "cell_type": "code",
   "execution_count": 2,
   "metadata": {},
   "outputs": [],
   "source": [
    "# choose a dataset to analyze\n",
    "DATASET = 'adult'"
   ]
  },
  {
   "cell_type": "code",
   "execution_count": 3,
   "metadata": {},
   "outputs": [],
   "source": [
    "df_results = pd.read_csv( os.path.join(RESULTS_DIR, f\"results_{DATASET}.csv\") )"
   ]
  },
  {
   "cell_type": "code",
   "execution_count": 4,
   "metadata": {},
   "outputs": [
    {
     "data": {
      "text/html": [
       "<div>\n",
       "<style scoped>\n",
       "    .dataframe tbody tr th:only-of-type {\n",
       "        vertical-align: middle;\n",
       "    }\n",
       "\n",
       "    .dataframe tbody tr th {\n",
       "        vertical-align: top;\n",
       "    }\n",
       "\n",
       "    .dataframe thead th {\n",
       "        text-align: right;\n",
       "    }\n",
       "</style>\n",
       "<table border=\"1\" class=\"dataframe\">\n",
       "  <thead>\n",
       "    <tr style=\"text-align: right;\">\n",
       "      <th></th>\n",
       "      <th>Dataset</th>\n",
       "      <th>Seed</th>\n",
       "      <th>Model_Type</th>\n",
       "      <th>Metric</th>\n",
       "      <th>Val</th>\n",
       "      <th>Hyper_Val</th>\n",
       "      <th>Test</th>\n",
       "      <th>Extra</th>\n",
       "    </tr>\n",
       "  </thead>\n",
       "  <tbody>\n",
       "    <tr>\n",
       "      <th>0</th>\n",
       "      <td>adult</td>\n",
       "      <td>15</td>\n",
       "      <td>fweg</td>\n",
       "      <td>G-mean</td>\n",
       "      <td>0.658075</td>\n",
       "      <td>0.658075</td>\n",
       "      <td>0.687614</td>\n",
       "      <td>{\"groups\": [], \"groups_descr\": \"single_group\",...</td>\n",
       "    </tr>\n",
       "    <tr>\n",
       "      <th>1</th>\n",
       "      <td>adult</td>\n",
       "      <td>15</td>\n",
       "      <td>fweg</td>\n",
       "      <td>G-mean</td>\n",
       "      <td>0.499975</td>\n",
       "      <td>0.499975</td>\n",
       "      <td>0.499976</td>\n",
       "      <td>{\"groups\": [], \"groups_descr\": \"single_group\",...</td>\n",
       "    </tr>\n",
       "    <tr>\n",
       "      <th>2</th>\n",
       "      <td>adult</td>\n",
       "      <td>15</td>\n",
       "      <td>fweg</td>\n",
       "      <td>G-mean</td>\n",
       "      <td>0.658013</td>\n",
       "      <td>0.658013</td>\n",
       "      <td>0.687638</td>\n",
       "      <td>{\"groups\": [], \"groups_descr\": \"single_group\",...</td>\n",
       "    </tr>\n",
       "    <tr>\n",
       "      <th>3</th>\n",
       "      <td>adult</td>\n",
       "      <td>15</td>\n",
       "      <td>fweg</td>\n",
       "      <td>G-mean</td>\n",
       "      <td>0.499975</td>\n",
       "      <td>0.499975</td>\n",
       "      <td>0.499976</td>\n",
       "      <td>{\"groups\": [], \"groups_descr\": \"single_group\",...</td>\n",
       "    </tr>\n",
       "    <tr>\n",
       "      <th>4</th>\n",
       "      <td>adult</td>\n",
       "      <td>15</td>\n",
       "      <td>fweg</td>\n",
       "      <td>G-mean</td>\n",
       "      <td>0.653142</td>\n",
       "      <td>0.653142</td>\n",
       "      <td>0.686309</td>\n",
       "      <td>{\"groups\": [], \"groups_descr\": \"single_group\",...</td>\n",
       "    </tr>\n",
       "  </tbody>\n",
       "</table>\n",
       "</div>"
      ],
      "text/plain": [
       "  Dataset  Seed Model_Type  Metric       Val  Hyper_Val      Test  \\\n",
       "0   adult    15       fweg  G-mean  0.658075   0.658075  0.687614   \n",
       "1   adult    15       fweg  G-mean  0.499975   0.499975  0.499976   \n",
       "2   adult    15       fweg  G-mean  0.658013   0.658013  0.687638   \n",
       "3   adult    15       fweg  G-mean  0.499975   0.499975  0.499976   \n",
       "4   adult    15       fweg  G-mean  0.653142   0.653142  0.686309   \n",
       "\n",
       "                                               Extra  \n",
       "0  {\"groups\": [], \"groups_descr\": \"single_group\",...  \n",
       "1  {\"groups\": [], \"groups_descr\": \"single_group\",...  \n",
       "2  {\"groups\": [], \"groups_descr\": \"single_group\",...  \n",
       "3  {\"groups\": [], \"groups_descr\": \"single_group\",...  \n",
       "4  {\"groups\": [], \"groups_descr\": \"single_group\",...  "
      ]
     },
     "execution_count": 4,
     "metadata": {},
     "output_type": "execute_result"
    }
   ],
   "source": [
    "df_results.head()"
   ]
  },
  {
   "cell_type": "code",
   "execution_count": 5,
   "metadata": {},
   "outputs": [],
   "source": [
    "df_results = df_results[ df_results['Dataset'] == DATASET ]\n",
    "df_baselines = df_results[ df_results['Model_Type'] != 'fweg' ]\n",
    "df_fweg = df_results[ df_results['Model_Type'] == 'fweg' ]"
   ]
  },
  {
   "cell_type": "code",
   "execution_count": 6,
   "metadata": {},
   "outputs": [],
   "source": [
    "def check_duplicates(df):\n",
    "    # sometimes you can have multiple results for the same (seed, model_type, extra)\n",
    "    # combo because you didn't delete old results\n",
    "    # this identifies that\n",
    "    t = df[['Seed', 'Model_Type', 'Extra']]\n",
    "    d = t.drop_duplicates()\n",
    "    assert t.shape == d.shape\n",
    "    \n",
    "check_duplicates(df_fweg)"
   ]
  },
  {
   "cell_type": "code",
   "execution_count": 7,
   "metadata": {},
   "outputs": [
    {
     "name": "stderr",
     "output_type": "stream",
     "text": [
      "/opt/conda/lib/python3.7/site-packages/pandas/core/indexing.py:670: SettingWithCopyWarning: \n",
      "A value is trying to be set on a copy of a slice from a DataFrame\n",
      "\n",
      "See the caveats in the documentation: https://pandas.pydata.org/pandas-docs/stable/user_guide/indexing.html#returning-a-view-versus-a-copy\n",
      "  iloc._setitem_with_indexer(indexer, value)\n"
     ]
    }
   ],
   "source": [
    "df_fweg = df_fweg[~df_fweg['Extra'].apply(lambda x: '\"groups\": 5' in x)]\n",
    "# separate out FWEG that ran knowing the true form the metric and FWEG that\n",
    "# ran against a black-box evaluation of the metric\n",
    "known_metric = df_fweg['Extra'].apply(lambda x: '\"FW_val_flag\": true' in x)\n",
    "df_fweg['Model_Type'].loc[known_metric] = 'fweg_known_metric'\n",
    "df_fweg['Model_Type'].loc[~known_metric] = 'fweg_unknown_metric'"
   ]
  },
  {
   "cell_type": "code",
   "execution_count": 8,
   "metadata": {},
   "outputs": [],
   "source": [
    "# baselines we can group on all columns but the seed, then perform aggregation\n",
    "groups_baselines = df_baselines.groupby(['Dataset', 'Model_Type', 'Metric'])\n",
    "# fweg we need to group by seed first to extract the hyperparameters that performed best\n",
    "groups_fweg = df_fweg.groupby(['Model_Type', 'Dataset', 'Metric', 'Seed'])"
   ]
  },
  {
   "cell_type": "code",
   "execution_count": 9,
   "metadata": {},
   "outputs": [],
   "source": [
    "def get_best_fweg(df):\n",
    "    best = df['Hyper_Val'].idxmax()\n",
    "    return df.loc[best]"
   ]
  },
  {
   "cell_type": "code",
   "execution_count": 10,
   "metadata": {},
   "outputs": [],
   "source": [
    "df_best_fweg = groups_fweg.apply(get_best_fweg)\n",
    "df_best_fweg.reset_index(drop=True, inplace=True)\n",
    "df_best_fweg.sort_values(['Model_Type', 'Seed', 'Metric'])"
   ]
  },
  {
   "cell_type": "code",
   "execution_count": 11,
   "metadata": {},
   "outputs": [],
   "source": [
    "df_best_fweg.groupby(['Dataset', 'Model_Type', 'Metric']).mean()"
   ]
  },
  {
   "cell_type": "code",
   "execution_count": 12,
   "metadata": {},
   "outputs": [],
   "source": [
    "groups_baselines.mean()"
   ]
  },
  {
   "cell_type": "code",
   "execution_count": null,
   "metadata": {},
   "outputs": [],
   "source": []
  }
 ],
 "metadata": {
  "environment": {
   "name": "tf2-2-3-gpu.2-3.m56",
   "type": "gcloud",
   "uri": "gcr.io/deeplearning-platform-release/tf2-2-3-gpu.2-3:m56"
  },
  "kernelspec": {
   "display_name": "Python 3",
   "language": "python",
   "name": "python3"
  },
  "language_info": {
   "codemirror_mode": {
    "name": "ipython",
    "version": 3
   },
   "file_extension": ".py",
   "mimetype": "text/x-python",
   "name": "python",
   "nbconvert_exporter": "python",
   "pygments_lexer": "ipython3",
   "version": "3.7.3"
  }
 },
 "nbformat": 4,
 "nbformat_minor": 4
}
