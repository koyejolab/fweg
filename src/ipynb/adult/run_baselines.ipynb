{
 "cells": [
  {
   "cell_type": "code",
   "execution_count": 1,
   "metadata": {},
   "outputs": [],
   "source": [
    "%load_ext autoreload\n",
    "%autoreload 2"
   ]
  },
  {
   "cell_type": "code",
   "execution_count": 2,
   "metadata": {},
   "outputs": [
    {
     "name": "stderr",
     "output_type": "stream",
     "text": [
      "Using TensorFlow backend.\n"
     ]
    }
   ],
   "source": [
    "import pickle\n",
    "import os\n",
    "import tensorflow as tf\n",
    "import numpy as np\n",
    "import pandas as pd\n",
    "from tqdm.notebook import tqdm\n",
    "\n",
    "BASE_DIR = '../../../'\n",
    "import sys\n",
    "sys.path.append(BASE_DIR)\n",
    "\n",
    "# custom code\n",
    "import utils.utils\n",
    "CONFIG = utils.utils.load_config(\"../../config.json\")\n",
    "import utils.papers"
   ]
  },
  {
   "cell_type": "code",
   "execution_count": 3,
   "metadata": {},
   "outputs": [
    {
     "name": "stdout",
     "output_type": "stream",
     "text": [
      "55\n"
     ]
    }
   ],
   "source": [
    "DATASET = os.path.basename(os.getcwd()) # name of folder this file is in\n",
    "RANDOM_SEED = CONFIG['random_seed']\n",
    "EPOCHS = CONFIG[\"experiment_configs\"][DATASET][\"epochs\"]\n",
    "BATCH_SIZE = CONFIG[\"experiment_configs\"][DATASET][\"batch_size\"]\n",
    "\n",
    "print(RANDOM_SEED)\n",
    "\n",
    "PROCESSED_DIR = os.path.join(BASE_DIR, f'processed/adult/rs={RANDOM_SEED}')\n",
    "MODELS_DIR = os.path.join(BASE_DIR, f'models/adult/rs={RANDOM_SEED}')\n",
    "\n",
    "PROCESSED_SAVEPATH = utils.utils.get_savepath(PROCESSED_DIR, \"adult\", \".pkl\")\n",
    "BASE_MODEL_SAVEPATH = utils.utils.get_savepath(MODELS_DIR, \"adult\", \".h5\", mt=\"base\")\n",
    "\n",
    "# models saved here\n",
    "if not os.path.exists(BASE_MODEL_SAVEPATH):\n",
    "    print(f\"warning: no model has been done for rs={RANDOM_SEED}\")"
   ]
  },
  {
   "cell_type": "code",
   "execution_count": 4,
   "metadata": {},
   "outputs": [],
   "source": [
    "train_df = pd.read_csv(os.path.join(PROCESSED_DIR, \"train.csv\"))\n",
    "hyper_train_df = pd.read_csv(os.path.join(PROCESSED_DIR, \"hyper_train.csv\"))\n",
    "val_df = pd.read_csv(os.path.join(PROCESSED_DIR, \"val.csv\"))\n",
    "hyper_val_df = pd.read_csv(os.path.join(PROCESSED_DIR, \"hyper_val.csv\"))\n",
    "test_df = pd.read_csv(os.path.join(PROCESSED_DIR, \"test.csv\"))\n",
    "\n",
    "val_full_df = pd.concat([val_df, hyper_val_df])"
   ]
  },
  {
   "cell_type": "code",
   "execution_count": 5,
   "metadata": {},
   "outputs": [],
   "source": [
    "x_train = train_df.drop('label', axis=1).values\n",
    "y_train = train_df['label'].values\n",
    "\n",
    "x_hyper_train = hyper_train_df.drop('label', axis=1).values\n",
    "y_hyper_train = hyper_train_df['label'].values\n",
    "\n",
    "x_val_full = val_full_df.drop('label', axis=1).values\n",
    "y_val_full = val_full_df['label'].values\n",
    "\n",
    "x_val = val_df.drop('label', axis=1).values\n",
    "y_val = val_df['label'].values\n",
    "\n",
    "x_hyper_val = hyper_val_df.drop('label', axis=1).values\n",
    "y_hyper_val = hyper_val_df['label'].values\n",
    "\n",
    "x_test = test_df.drop('label', axis=1).values\n",
    "y_test = test_df['label'].values"
   ]
  },
  {
   "cell_type": "code",
   "execution_count": 6,
   "metadata": {},
   "outputs": [],
   "source": [
    "y_train = tf.keras.utils.to_categorical(y_train)\n",
    "y_hyper_train = tf.keras.utils.to_categorical(y_hyper_train)\n",
    "y_val_full = tf.keras.utils.to_categorical(y_val_full)\n",
    "y_val = tf.keras.utils.to_categorical(y_val)\n",
    "y_hyper_val = tf.keras.utils.to_categorical(y_hyper_val)\n",
    "y_test = tf.keras.utils.to_categorical(y_test)"
   ]
  },
  {
   "cell_type": "code",
   "execution_count": 7,
   "metadata": {},
   "outputs": [],
   "source": [
    "model = tf.keras.models.Sequential([\n",
    "    tf.keras.Input(shape=x_train.shape[1]),\n",
    "    tf.keras.layers.Dense(2, activation=tf.nn.softmax),\n",
    "])\n",
    "model.load_weights(BASE_MODEL_SAVEPATH)"
   ]
  },
  {
   "cell_type": "code",
   "execution_count": 8,
   "metadata": {},
   "outputs": [
    {
     "data": {
      "text/plain": [
       "0.6319018404907976"
      ]
     },
     "execution_count": 8,
     "metadata": {},
     "output_type": "execute_result"
    }
   ],
   "source": [
    "# val full acc\n",
    "preds_val_full = utils.utils.compute_preds(\n",
    "    model,\n",
    "    x_val_full,\n",
    "    batch_size=BATCH_SIZE,\n",
    ")\n",
    "(np.argmax(preds_val_full, axis=1) == np.argwhere(y_val_full)[:,1]).mean()"
   ]
  },
  {
   "cell_type": "code",
   "execution_count": 9,
   "metadata": {},
   "outputs": [
    {
     "data": {
      "text/plain": [
       "0.6192455639657526"
      ]
     },
     "execution_count": 9,
     "metadata": {},
     "output_type": "execute_result"
    }
   ],
   "source": [
    "# test acc\n",
    "preds_test = utils.utils.compute_preds(\n",
    "    model,\n",
    "    x_test,\n",
    "    batch_size=BATCH_SIZE,\n",
    ")\n",
    "(np.argmax(preds_test, axis=1) == np.argwhere(y_test)[:,1]).mean()"
   ]
  },
  {
   "cell_type": "code",
   "execution_count": null,
   "metadata": {},
   "outputs": [],
   "source": []
  },
  {
   "cell_type": "markdown",
   "metadata": {},
   "source": [
    "# Baseline 1: Fine-Tune\n",
    "\n",
    "This trains the model a little more on the validation set, in the hopes that it better generalized to test."
   ]
  },
  {
   "cell_type": "code",
   "execution_count": 10,
   "metadata": {},
   "outputs": [],
   "source": [
    "# reload save weights, in case being run out-of-order\n",
    "model.load_weights(BASE_MODEL_SAVEPATH)"
   ]
  },
  {
   "cell_type": "code",
   "execution_count": 11,
   "metadata": {},
   "outputs": [],
   "source": [
    "# default is 1e-3; we cut by a factor of 10 for fine-tuning\n",
    "optimizer = tf.keras.optimizers.SGD(learning_rate=1e-4)\n",
    "model.compile(optimizer=optimizer, loss='categorical_crossentropy', metrics=['accuracy'])"
   ]
  },
  {
   "cell_type": "code",
   "execution_count": 12,
   "metadata": {},
   "outputs": [],
   "source": [
    "# Need to save the best model by validation loss\n",
    "# mt stands for model_type\n",
    "FT_MODEL_SAVEPATH = utils.utils.get_savepath(MODELS_DIR, \"adult\", \".h5\", mt=\"ft\")\n",
    "\n",
    "save_best = tf.keras.callbacks.ModelCheckpoint(\n",
    "    filepath=FT_MODEL_SAVEPATH,\n",
    "    monitor=\"val_loss\",\n",
    "    mode='min',\n",
    "    verbose=1,\n",
    "    save_best_only=True,\n",
    "    save_weights_only=True,\n",
    ")\n",
    "\n",
    "callbacks = [save_best]"
   ]
  },
  {
   "cell_type": "code",
   "execution_count": 13,
   "metadata": {},
   "outputs": [
    {
     "name": "stdout",
     "output_type": "stream",
     "text": [
      "Epoch 1/100\n",
      "1/6 [====>.........................] - ETA: 0s - loss: 0.7265 - accuracy: 0.6875\n",
      "Epoch 00001: val_loss improved from inf to 0.73159, saving model to ../../../models/adult/rs=55/adult_mt=ft.h5\n",
      "6/6 [==============================] - 0s 25ms/step - loss: 0.7320 - accuracy: 0.6319 - val_loss: 0.7316 - val_accuracy: 0.6319\n",
      "Epoch 2/100\n",
      "1/6 [====>.........................] - ETA: 0s - loss: 0.7229 - accuracy: 0.6875\n",
      "Epoch 00002: val_loss improved from 0.73159 to 0.73108, saving model to ../../../models/adult/rs=55/adult_mt=ft.h5\n",
      "6/6 [==============================] - 0s 6ms/step - loss: 0.7314 - accuracy: 0.6319 - val_loss: 0.7311 - val_accuracy: 0.6319\n",
      "Epoch 3/100\n",
      "1/6 [====>.........................] - ETA: 0s - loss: 1.0027 - accuracy: 0.5000\n",
      "Epoch 00003: val_loss improved from 0.73108 to 0.73046, saving model to ../../../models/adult/rs=55/adult_mt=ft.h5\n",
      "6/6 [==============================] - 0s 6ms/step - loss: 0.7309 - accuracy: 0.6319 - val_loss: 0.7305 - val_accuracy: 0.6319\n",
      "Epoch 4/100\n",
      "1/6 [====>.........................] - ETA: 0s - loss: 0.7700 - accuracy: 0.5938\n",
      "Epoch 00004: val_loss improved from 0.73046 to 0.72993, saving model to ../../../models/adult/rs=55/adult_mt=ft.h5\n",
      "6/6 [==============================] - 0s 6ms/step - loss: 0.7303 - accuracy: 0.6319 - val_loss: 0.7299 - val_accuracy: 0.6319\n",
      "Epoch 5/100\n",
      "1/6 [====>.........................] - ETA: 0s - loss: 0.6900 - accuracy: 0.6250\n",
      "Epoch 00005: val_loss improved from 0.72993 to 0.72928, saving model to ../../../models/adult/rs=55/adult_mt=ft.h5\n",
      "6/6 [==============================] - 0s 6ms/step - loss: 0.7297 - accuracy: 0.6319 - val_loss: 0.7293 - val_accuracy: 0.6319\n",
      "Epoch 6/100\n",
      "1/6 [====>.........................] - ETA: 0s - loss: 0.8509 - accuracy: 0.5938\n",
      "Epoch 00006: val_loss improved from 0.72928 to 0.72862, saving model to ../../../models/adult/rs=55/adult_mt=ft.h5\n",
      "6/6 [==============================] - 0s 6ms/step - loss: 0.7291 - accuracy: 0.6319 - val_loss: 0.7286 - val_accuracy: 0.6319\n",
      "Epoch 7/100\n",
      "1/6 [====>.........................] - ETA: 0s - loss: 0.8392 - accuracy: 0.5625\n",
      "Epoch 00007: val_loss improved from 0.72862 to 0.72817, saving model to ../../../models/adult/rs=55/adult_mt=ft.h5\n",
      "6/6 [==============================] - 0s 6ms/step - loss: 0.7284 - accuracy: 0.6319 - val_loss: 0.7282 - val_accuracy: 0.6319\n",
      "Epoch 8/100\n",
      "1/6 [====>.........................] - ETA: 0s - loss: 0.6843 - accuracy: 0.6562\n",
      "Epoch 00008: val_loss improved from 0.72817 to 0.72772, saving model to ../../../models/adult/rs=55/adult_mt=ft.h5\n",
      "6/6 [==============================] - 0s 6ms/step - loss: 0.7280 - accuracy: 0.6319 - val_loss: 0.7277 - val_accuracy: 0.6319\n",
      "Epoch 9/100\n",
      "1/6 [====>.........................] - ETA: 0s - loss: 0.7209 - accuracy: 0.5625\n",
      "Epoch 00009: val_loss improved from 0.72772 to 0.72712, saving model to ../../../models/adult/rs=55/adult_mt=ft.h5\n",
      "6/6 [==============================] - 0s 6ms/step - loss: 0.7275 - accuracy: 0.6319 - val_loss: 0.7271 - val_accuracy: 0.6319\n",
      "Epoch 10/100\n",
      "1/6 [====>.........................] - ETA: 0s - loss: 0.8400 - accuracy: 0.6250\n",
      "Epoch 00010: val_loss improved from 0.72712 to 0.72658, saving model to ../../../models/adult/rs=55/adult_mt=ft.h5\n",
      "6/6 [==============================] - 0s 6ms/step - loss: 0.7269 - accuracy: 0.6319 - val_loss: 0.7266 - val_accuracy: 0.6319\n",
      "Epoch 11/100\n",
      "1/6 [====>.........................] - ETA: 0s - loss: 0.5921 - accuracy: 0.6562\n",
      "Epoch 00011: val_loss improved from 0.72658 to 0.72608, saving model to ../../../models/adult/rs=55/adult_mt=ft.h5\n",
      "6/6 [==============================] - 0s 6ms/step - loss: 0.7264 - accuracy: 0.6503 - val_loss: 0.7261 - val_accuracy: 0.6564\n",
      "Epoch 12/100\n",
      "1/6 [====>.........................] - ETA: 0s - loss: 0.5714 - accuracy: 0.7188\n",
      "Epoch 00012: val_loss improved from 0.72608 to 0.72562, saving model to ../../../models/adult/rs=55/adult_mt=ft.h5\n",
      "6/6 [==============================] - 0s 6ms/step - loss: 0.7259 - accuracy: 0.6564 - val_loss: 0.7256 - val_accuracy: 0.6564\n",
      "Epoch 13/100\n",
      "1/6 [====>.........................] - ETA: 0s - loss: 0.8373 - accuracy: 0.5938\n",
      "Epoch 00013: val_loss improved from 0.72562 to 0.72503, saving model to ../../../models/adult/rs=55/adult_mt=ft.h5\n",
      "6/6 [==============================] - 0s 6ms/step - loss: 0.7254 - accuracy: 0.6564 - val_loss: 0.7250 - val_accuracy: 0.6564\n",
      "Epoch 14/100\n",
      "1/6 [====>.........................] - ETA: 0s - loss: 0.6754 - accuracy: 0.6562\n",
      "Epoch 00014: val_loss improved from 0.72503 to 0.72461, saving model to ../../../models/adult/rs=55/adult_mt=ft.h5\n",
      "6/6 [==============================] - 0s 6ms/step - loss: 0.7249 - accuracy: 0.6564 - val_loss: 0.7246 - val_accuracy: 0.6564\n",
      "Epoch 15/100\n",
      "1/6 [====>.........................] - ETA: 0s - loss: 1.0175 - accuracy: 0.5625\n",
      "Epoch 00015: val_loss improved from 0.72461 to 0.72403, saving model to ../../../models/adult/rs=55/adult_mt=ft.h5\n",
      "6/6 [==============================] - 0s 6ms/step - loss: 0.7244 - accuracy: 0.6564 - val_loss: 0.7240 - val_accuracy: 0.6564\n",
      "Epoch 16/100\n",
      "1/6 [====>.........................] - ETA: 0s - loss: 0.5788 - accuracy: 0.7812\n",
      "Epoch 00016: val_loss improved from 0.72403 to 0.72366, saving model to ../../../models/adult/rs=55/adult_mt=ft.h5\n",
      "6/6 [==============================] - 0s 6ms/step - loss: 0.7239 - accuracy: 0.6564 - val_loss: 0.7237 - val_accuracy: 0.6564\n",
      "Epoch 17/100\n",
      "1/6 [====>.........................] - ETA: 0s - loss: 0.6482 - accuracy: 0.6250\n",
      "Epoch 00017: val_loss improved from 0.72366 to 0.72310, saving model to ../../../models/adult/rs=55/adult_mt=ft.h5\n",
      "6/6 [==============================] - 0s 6ms/step - loss: 0.7235 - accuracy: 0.6564 - val_loss: 0.7231 - val_accuracy: 0.6564\n",
      "Epoch 18/100\n",
      "1/6 [====>.........................] - ETA: 0s - loss: 0.5817 - accuracy: 0.7500\n",
      "Epoch 00018: val_loss improved from 0.72310 to 0.72258, saving model to ../../../models/adult/rs=55/adult_mt=ft.h5\n",
      "6/6 [==============================] - 0s 6ms/step - loss: 0.7229 - accuracy: 0.6564 - val_loss: 0.7226 - val_accuracy: 0.6564\n",
      "Epoch 19/100\n",
      "1/6 [====>.........................] - ETA: 0s - loss: 0.6184 - accuracy: 0.6562\n",
      "Epoch 00019: val_loss improved from 0.72258 to 0.72195, saving model to ../../../models/adult/rs=55/adult_mt=ft.h5\n",
      "6/6 [==============================] - 0s 6ms/step - loss: 0.7224 - accuracy: 0.6626 - val_loss: 0.7220 - val_accuracy: 0.6626\n",
      "Epoch 20/100\n",
      "1/6 [====>.........................] - ETA: 0s - loss: 0.7493 - accuracy: 0.7500\n",
      "Epoch 00020: val_loss improved from 0.72195 to 0.72152, saving model to ../../../models/adult/rs=55/adult_mt=ft.h5\n",
      "6/6 [==============================] - 0s 6ms/step - loss: 0.7218 - accuracy: 0.6626 - val_loss: 0.7215 - val_accuracy: 0.6626\n",
      "Epoch 21/100\n",
      "1/6 [====>.........................] - ETA: 0s - loss: 0.9934 - accuracy: 0.5938\n",
      "Epoch 00021: val_loss improved from 0.72152 to 0.72087, saving model to ../../../models/adult/rs=55/adult_mt=ft.h5\n",
      "6/6 [==============================] - 0s 6ms/step - loss: 0.7213 - accuracy: 0.6626 - val_loss: 0.7209 - val_accuracy: 0.6626\n",
      "Epoch 22/100\n",
      "1/6 [====>.........................] - ETA: 0s - loss: 0.5598 - accuracy: 0.7188\n",
      "Epoch 00022: val_loss improved from 0.72087 to 0.72026, saving model to ../../../models/adult/rs=55/adult_mt=ft.h5\n",
      "6/6 [==============================] - 0s 6ms/step - loss: 0.7207 - accuracy: 0.6626 - val_loss: 0.7203 - val_accuracy: 0.6626\n",
      "Epoch 23/100\n",
      "1/6 [====>.........................] - ETA: 0s - loss: 0.6195 - accuracy: 0.6875\n",
      "Epoch 00023: val_loss improved from 0.72026 to 0.71974, saving model to ../../../models/adult/rs=55/adult_mt=ft.h5\n",
      "6/6 [==============================] - 0s 7ms/step - loss: 0.7201 - accuracy: 0.6626 - val_loss: 0.7197 - val_accuracy: 0.6626\n",
      "Epoch 24/100\n",
      "1/6 [====>.........................] - ETA: 0s - loss: 0.8697 - accuracy: 0.6562\n",
      "Epoch 00024: val_loss improved from 0.71974 to 0.71913, saving model to ../../../models/adult/rs=55/adult_mt=ft.h5\n",
      "6/6 [==============================] - 0s 6ms/step - loss: 0.7196 - accuracy: 0.6626 - val_loss: 0.7191 - val_accuracy: 0.6626\n",
      "Epoch 25/100\n",
      "1/6 [====>.........................] - ETA: 0s - loss: 0.7813 - accuracy: 0.6250\n",
      "Epoch 00025: val_loss improved from 0.71913 to 0.71850, saving model to ../../../models/adult/rs=55/adult_mt=ft.h5\n",
      "6/6 [==============================] - 0s 6ms/step - loss: 0.7190 - accuracy: 0.6626 - val_loss: 0.7185 - val_accuracy: 0.6626\n"
     ]
    },
    {
     "name": "stdout",
     "output_type": "stream",
     "text": [
      "Epoch 26/100\n",
      "1/6 [====>.........................] - ETA: 0s - loss: 0.6702 - accuracy: 0.6875\n",
      "Epoch 00026: val_loss improved from 0.71850 to 0.71795, saving model to ../../../models/adult/rs=55/adult_mt=ft.h5\n",
      "6/6 [==============================] - 0s 6ms/step - loss: 0.7183 - accuracy: 0.6626 - val_loss: 0.7179 - val_accuracy: 0.6626\n",
      "Epoch 27/100\n",
      "1/6 [====>.........................] - ETA: 0s - loss: 0.7178 - accuracy: 0.6875\n",
      "Epoch 00027: val_loss improved from 0.71795 to 0.71754, saving model to ../../../models/adult/rs=55/adult_mt=ft.h5\n",
      "6/6 [==============================] - 0s 6ms/step - loss: 0.7178 - accuracy: 0.6626 - val_loss: 0.7175 - val_accuracy: 0.6626\n",
      "Epoch 28/100\n",
      "1/6 [====>.........................] - ETA: 0s - loss: 0.4929 - accuracy: 0.7812\n",
      "Epoch 00028: val_loss improved from 0.71754 to 0.71695, saving model to ../../../models/adult/rs=55/adult_mt=ft.h5\n",
      "6/6 [==============================] - 0s 6ms/step - loss: 0.7174 - accuracy: 0.6626 - val_loss: 0.7169 - val_accuracy: 0.6626\n",
      "Epoch 29/100\n",
      "1/6 [====>.........................] - ETA: 0s - loss: 0.6455 - accuracy: 0.6562\n",
      "Epoch 00029: val_loss improved from 0.71695 to 0.71651, saving model to ../../../models/adult/rs=55/adult_mt=ft.h5\n",
      "6/6 [==============================] - 0s 6ms/step - loss: 0.7168 - accuracy: 0.6626 - val_loss: 0.7165 - val_accuracy: 0.6626\n",
      "Epoch 30/100\n",
      "1/6 [====>.........................] - ETA: 0s - loss: 0.4913 - accuracy: 0.7188\n",
      "Epoch 00030: val_loss improved from 0.71651 to 0.71587, saving model to ../../../models/adult/rs=55/adult_mt=ft.h5\n",
      "6/6 [==============================] - 0s 6ms/step - loss: 0.7163 - accuracy: 0.6626 - val_loss: 0.7159 - val_accuracy: 0.6626\n",
      "Epoch 31/100\n",
      "1/6 [====>.........................] - ETA: 0s - loss: 0.7832 - accuracy: 0.5312\n",
      "Epoch 00031: val_loss improved from 0.71587 to 0.71524, saving model to ../../../models/adult/rs=55/adult_mt=ft.h5\n",
      "6/6 [==============================] - 0s 6ms/step - loss: 0.7157 - accuracy: 0.6626 - val_loss: 0.7152 - val_accuracy: 0.6687\n",
      "Epoch 32/100\n",
      "1/6 [====>.........................] - ETA: 0s - loss: 0.7857 - accuracy: 0.6250\n",
      "Epoch 00032: val_loss improved from 0.71524 to 0.71467, saving model to ../../../models/adult/rs=55/adult_mt=ft.h5\n",
      "6/6 [==============================] - 0s 6ms/step - loss: 0.7151 - accuracy: 0.6687 - val_loss: 0.7147 - val_accuracy: 0.6687\n",
      "Epoch 33/100\n",
      "1/6 [====>.........................] - ETA: 0s - loss: 0.6793 - accuracy: 0.7812\n",
      "Epoch 00033: val_loss improved from 0.71467 to 0.71416, saving model to ../../../models/adult/rs=55/adult_mt=ft.h5\n",
      "6/6 [==============================] - 0s 6ms/step - loss: 0.7145 - accuracy: 0.6687 - val_loss: 0.7142 - val_accuracy: 0.6748\n",
      "Epoch 34/100\n",
      "1/6 [====>.........................] - ETA: 0s - loss: 0.6745 - accuracy: 0.6875\n",
      "Epoch 00034: val_loss improved from 0.71416 to 0.71364, saving model to ../../../models/adult/rs=55/adult_mt=ft.h5\n",
      "6/6 [==============================] - 0s 6ms/step - loss: 0.7140 - accuracy: 0.6748 - val_loss: 0.7136 - val_accuracy: 0.6748\n",
      "Epoch 35/100\n",
      "1/6 [====>.........................] - ETA: 0s - loss: 0.6532 - accuracy: 0.7500\n",
      "Epoch 00035: val_loss improved from 0.71364 to 0.71310, saving model to ../../../models/adult/rs=55/adult_mt=ft.h5\n",
      "6/6 [==============================] - 0s 6ms/step - loss: 0.7135 - accuracy: 0.6748 - val_loss: 0.7131 - val_accuracy: 0.6748\n",
      "Epoch 36/100\n",
      "1/6 [====>.........................] - ETA: 0s - loss: 0.6954 - accuracy: 0.6875\n",
      "Epoch 00036: val_loss improved from 0.71310 to 0.71244, saving model to ../../../models/adult/rs=55/adult_mt=ft.h5\n",
      "6/6 [==============================] - 0s 6ms/step - loss: 0.7129 - accuracy: 0.6748 - val_loss: 0.7124 - val_accuracy: 0.6748\n",
      "Epoch 37/100\n",
      "1/6 [====>.........................] - ETA: 0s - loss: 0.8642 - accuracy: 0.6250\n",
      "Epoch 00037: val_loss improved from 0.71244 to 0.71196, saving model to ../../../models/adult/rs=55/adult_mt=ft.h5\n",
      "6/6 [==============================] - 0s 6ms/step - loss: 0.7123 - accuracy: 0.6748 - val_loss: 0.7120 - val_accuracy: 0.6748\n",
      "Epoch 38/100\n",
      "1/6 [====>.........................] - ETA: 0s - loss: 0.6347 - accuracy: 0.7188\n",
      "Epoch 00038: val_loss improved from 0.71196 to 0.71142, saving model to ../../../models/adult/rs=55/adult_mt=ft.h5\n",
      "6/6 [==============================] - 0s 6ms/step - loss: 0.7118 - accuracy: 0.6748 - val_loss: 0.7114 - val_accuracy: 0.6748\n",
      "Epoch 39/100\n",
      "1/6 [====>.........................] - ETA: 0s - loss: 0.7572 - accuracy: 0.6875\n",
      "Epoch 00039: val_loss improved from 0.71142 to 0.71091, saving model to ../../../models/adult/rs=55/adult_mt=ft.h5\n",
      "6/6 [==============================] - 0s 6ms/step - loss: 0.7113 - accuracy: 0.6748 - val_loss: 0.7109 - val_accuracy: 0.6748\n",
      "Epoch 40/100\n",
      "1/6 [====>.........................] - ETA: 0s - loss: 0.4501 - accuracy: 0.8750\n",
      "Epoch 00040: val_loss improved from 0.71091 to 0.71037, saving model to ../../../models/adult/rs=55/adult_mt=ft.h5\n",
      "6/6 [==============================] - 0s 6ms/step - loss: 0.7107 - accuracy: 0.6748 - val_loss: 0.7104 - val_accuracy: 0.6748\n",
      "Epoch 41/100\n",
      "1/6 [====>.........................] - ETA: 0s - loss: 0.4330 - accuracy: 0.8125\n",
      "Epoch 00041: val_loss improved from 0.71037 to 0.70978, saving model to ../../../models/adult/rs=55/adult_mt=ft.h5\n",
      "6/6 [==============================] - 0s 6ms/step - loss: 0.7102 - accuracy: 0.6810 - val_loss: 0.7098 - val_accuracy: 0.6810\n",
      "Epoch 42/100\n",
      "1/6 [====>.........................] - ETA: 0s - loss: 0.8150 - accuracy: 0.5938\n",
      "Epoch 00042: val_loss improved from 0.70978 to 0.70928, saving model to ../../../models/adult/rs=55/adult_mt=ft.h5\n",
      "6/6 [==============================] - 0s 6ms/step - loss: 0.7096 - accuracy: 0.6810 - val_loss: 0.7093 - val_accuracy: 0.6810\n",
      "Epoch 43/100\n",
      "1/6 [====>.........................] - ETA: 0s - loss: 0.8102 - accuracy: 0.6250\n",
      "Epoch 00043: val_loss improved from 0.70928 to 0.70874, saving model to ../../../models/adult/rs=55/adult_mt=ft.h5\n",
      "6/6 [==============================] - 0s 6ms/step - loss: 0.7091 - accuracy: 0.6810 - val_loss: 0.7087 - val_accuracy: 0.6810\n",
      "Epoch 44/100\n",
      "1/6 [====>.........................] - ETA: 0s - loss: 0.7450 - accuracy: 0.7188\n",
      "Epoch 00044: val_loss improved from 0.70874 to 0.70817, saving model to ../../../models/adult/rs=55/adult_mt=ft.h5\n",
      "6/6 [==============================] - 0s 6ms/step - loss: 0.7086 - accuracy: 0.6810 - val_loss: 0.7082 - val_accuracy: 0.6810\n",
      "Epoch 45/100\n",
      "1/6 [====>.........................] - ETA: 0s - loss: 0.7303 - accuracy: 0.6875\n",
      "Epoch 00045: val_loss improved from 0.70817 to 0.70777, saving model to ../../../models/adult/rs=55/adult_mt=ft.h5\n",
      "6/6 [==============================] - 0s 6ms/step - loss: 0.7080 - accuracy: 0.6810 - val_loss: 0.7078 - val_accuracy: 0.6810\n",
      "Epoch 46/100\n",
      "1/6 [====>.........................] - ETA: 0s - loss: 0.6955 - accuracy: 0.5938\n",
      "Epoch 00046: val_loss improved from 0.70777 to 0.70728, saving model to ../../../models/adult/rs=55/adult_mt=ft.h5\n",
      "6/6 [==============================] - 0s 6ms/step - loss: 0.7076 - accuracy: 0.6810 - val_loss: 0.7073 - val_accuracy: 0.6810\n",
      "Epoch 47/100\n",
      "1/6 [====>.........................] - ETA: 0s - loss: 0.6521 - accuracy: 0.7188\n",
      "Epoch 00047: val_loss improved from 0.70728 to 0.70679, saving model to ../../../models/adult/rs=55/adult_mt=ft.h5\n",
      "6/6 [==============================] - 0s 6ms/step - loss: 0.7071 - accuracy: 0.6871 - val_loss: 0.7068 - val_accuracy: 0.6871\n",
      "Epoch 48/100\n",
      "1/6 [====>.........................] - ETA: 0s - loss: 0.7054 - accuracy: 0.5938\n",
      "Epoch 00048: val_loss improved from 0.70679 to 0.70624, saving model to ../../../models/adult/rs=55/adult_mt=ft.h5\n",
      "6/6 [==============================] - 0s 6ms/step - loss: 0.7066 - accuracy: 0.6871 - val_loss: 0.7062 - val_accuracy: 0.6871\n",
      "Epoch 49/100\n",
      "1/6 [====>.........................] - ETA: 0s - loss: 0.7023 - accuracy: 0.6562\n",
      "Epoch 00049: val_loss improved from 0.70624 to 0.70582, saving model to ../../../models/adult/rs=55/adult_mt=ft.h5\n",
      "6/6 [==============================] - 0s 6ms/step - loss: 0.7061 - accuracy: 0.6871 - val_loss: 0.7058 - val_accuracy: 0.6871\n",
      "Epoch 50/100\n",
      "1/6 [====>.........................] - ETA: 0s - loss: 0.5943 - accuracy: 0.6875\n",
      "Epoch 00050: val_loss improved from 0.70582 to 0.70534, saving model to ../../../models/adult/rs=55/adult_mt=ft.h5\n"
     ]
    },
    {
     "name": "stdout",
     "output_type": "stream",
     "text": [
      "6/6 [==============================] - 0s 6ms/step - loss: 0.7057 - accuracy: 0.6871 - val_loss: 0.7053 - val_accuracy: 0.6871\n",
      "Epoch 51/100\n",
      "1/6 [====>.........................] - ETA: 0s - loss: 0.6794 - accuracy: 0.6562\n",
      "Epoch 00051: val_loss improved from 0.70534 to 0.70478, saving model to ../../../models/adult/rs=55/adult_mt=ft.h5\n",
      "6/6 [==============================] - 0s 6ms/step - loss: 0.7052 - accuracy: 0.6871 - val_loss: 0.7048 - val_accuracy: 0.6871\n",
      "Epoch 52/100\n",
      "1/6 [====>.........................] - ETA: 0s - loss: 1.0076 - accuracy: 0.5938\n",
      "Epoch 00052: val_loss improved from 0.70478 to 0.70439, saving model to ../../../models/adult/rs=55/adult_mt=ft.h5\n",
      "6/6 [==============================] - 0s 6ms/step - loss: 0.7046 - accuracy: 0.6871 - val_loss: 0.7044 - val_accuracy: 0.6871\n",
      "Epoch 53/100\n",
      "1/6 [====>.........................] - ETA: 0s - loss: 0.7824 - accuracy: 0.7188\n",
      "Epoch 00053: val_loss improved from 0.70439 to 0.70401, saving model to ../../../models/adult/rs=55/adult_mt=ft.h5\n",
      "6/6 [==============================] - 0s 6ms/step - loss: 0.7042 - accuracy: 0.6871 - val_loss: 0.7040 - val_accuracy: 0.6871\n",
      "Epoch 54/100\n",
      "1/6 [====>.........................] - ETA: 0s - loss: 0.8201 - accuracy: 0.5625\n",
      "Epoch 00054: val_loss improved from 0.70401 to 0.70350, saving model to ../../../models/adult/rs=55/adult_mt=ft.h5\n",
      "6/6 [==============================] - 0s 6ms/step - loss: 0.7038 - accuracy: 0.6871 - val_loss: 0.7035 - val_accuracy: 0.6871\n",
      "Epoch 55/100\n",
      "1/6 [====>.........................] - ETA: 0s - loss: 0.7011 - accuracy: 0.6250\n",
      "Epoch 00055: val_loss improved from 0.70350 to 0.70297, saving model to ../../../models/adult/rs=55/adult_mt=ft.h5\n",
      "6/6 [==============================] - 0s 6ms/step - loss: 0.7033 - accuracy: 0.6871 - val_loss: 0.7030 - val_accuracy: 0.6871\n",
      "Epoch 56/100\n",
      "1/6 [====>.........................] - ETA: 0s - loss: 0.7808 - accuracy: 0.6250\n",
      "Epoch 00056: val_loss improved from 0.70297 to 0.70249, saving model to ../../../models/adult/rs=55/adult_mt=ft.h5\n",
      "6/6 [==============================] - 0s 6ms/step - loss: 0.7028 - accuracy: 0.6871 - val_loss: 0.7025 - val_accuracy: 0.6871\n",
      "Epoch 57/100\n",
      "1/6 [====>.........................] - ETA: 0s - loss: 0.7783 - accuracy: 0.6875\n",
      "Epoch 00057: val_loss improved from 0.70249 to 0.70205, saving model to ../../../models/adult/rs=55/adult_mt=ft.h5\n",
      "6/6 [==============================] - 0s 6ms/step - loss: 0.7023 - accuracy: 0.6871 - val_loss: 0.7020 - val_accuracy: 0.6871\n",
      "Epoch 58/100\n",
      "1/6 [====>.........................] - ETA: 0s - loss: 0.6802 - accuracy: 0.6562\n",
      "Epoch 00058: val_loss improved from 0.70205 to 0.70160, saving model to ../../../models/adult/rs=55/adult_mt=ft.h5\n",
      "6/6 [==============================] - 0s 6ms/step - loss: 0.7019 - accuracy: 0.6871 - val_loss: 0.7016 - val_accuracy: 0.6871\n",
      "Epoch 59/100\n",
      "1/6 [====>.........................] - ETA: 0s - loss: 0.8495 - accuracy: 0.6562\n",
      "Epoch 00059: val_loss improved from 0.70160 to 0.70122, saving model to ../../../models/adult/rs=55/adult_mt=ft.h5\n",
      "6/6 [==============================] - 0s 6ms/step - loss: 0.7014 - accuracy: 0.6871 - val_loss: 0.7012 - val_accuracy: 0.6871\n",
      "Epoch 60/100\n",
      "1/6 [====>.........................] - ETA: 0s - loss: 0.3982 - accuracy: 0.8438\n",
      "Epoch 00060: val_loss improved from 0.70122 to 0.70082, saving model to ../../../models/adult/rs=55/adult_mt=ft.h5\n",
      "6/6 [==============================] - 0s 6ms/step - loss: 0.7011 - accuracy: 0.6871 - val_loss: 0.7008 - val_accuracy: 0.6871\n",
      "Epoch 61/100\n",
      "1/6 [====>.........................] - ETA: 0s - loss: 0.7320 - accuracy: 0.6562\n",
      "Epoch 00061: val_loss improved from 0.70082 to 0.70038, saving model to ../../../models/adult/rs=55/adult_mt=ft.h5\n",
      "6/6 [==============================] - 0s 6ms/step - loss: 0.7007 - accuracy: 0.6871 - val_loss: 0.7004 - val_accuracy: 0.6871\n",
      "Epoch 62/100\n",
      "1/6 [====>.........................] - ETA: 0s - loss: 0.6764 - accuracy: 0.6875\n",
      "Epoch 00062: val_loss improved from 0.70038 to 0.69996, saving model to ../../../models/adult/rs=55/adult_mt=ft.h5\n",
      "6/6 [==============================] - 0s 6ms/step - loss: 0.7002 - accuracy: 0.6933 - val_loss: 0.7000 - val_accuracy: 0.6933\n",
      "Epoch 63/100\n",
      "1/6 [====>.........................] - ETA: 0s - loss: 0.8956 - accuracy: 0.5938\n",
      "Epoch 00063: val_loss improved from 0.69996 to 0.69952, saving model to ../../../models/adult/rs=55/adult_mt=ft.h5\n",
      "6/6 [==============================] - 0s 6ms/step - loss: 0.6998 - accuracy: 0.6933 - val_loss: 0.6995 - val_accuracy: 0.6933\n",
      "Epoch 64/100\n",
      "1/6 [====>.........................] - ETA: 0s - loss: 0.5972 - accuracy: 0.7812\n",
      "Epoch 00064: val_loss improved from 0.69952 to 0.69916, saving model to ../../../models/adult/rs=55/adult_mt=ft.h5\n",
      "6/6 [==============================] - 0s 6ms/step - loss: 0.6994 - accuracy: 0.6933 - val_loss: 0.6992 - val_accuracy: 0.6933\n",
      "Epoch 65/100\n",
      "1/6 [====>.........................] - ETA: 0s - loss: 0.9013 - accuracy: 0.6250\n",
      "Epoch 00065: val_loss improved from 0.69916 to 0.69867, saving model to ../../../models/adult/rs=55/adult_mt=ft.h5\n",
      "6/6 [==============================] - 0s 6ms/step - loss: 0.6990 - accuracy: 0.6933 - val_loss: 0.6987 - val_accuracy: 0.6933\n",
      "Epoch 66/100\n",
      "1/6 [====>.........................] - ETA: 0s - loss: 0.5620 - accuracy: 0.8125\n",
      "Epoch 00066: val_loss improved from 0.69867 to 0.69810, saving model to ../../../models/adult/rs=55/adult_mt=ft.h5\n",
      "6/6 [==============================] - 0s 6ms/step - loss: 0.6985 - accuracy: 0.6933 - val_loss: 0.6981 - val_accuracy: 0.6933\n",
      "Epoch 67/100\n",
      "1/6 [====>.........................] - ETA: 0s - loss: 0.7504 - accuracy: 0.7188\n",
      "Epoch 00067: val_loss improved from 0.69810 to 0.69758, saving model to ../../../models/adult/rs=55/adult_mt=ft.h5\n",
      "6/6 [==============================] - 0s 6ms/step - loss: 0.6979 - accuracy: 0.6933 - val_loss: 0.6976 - val_accuracy: 0.6933\n",
      "Epoch 68/100\n",
      "1/6 [====>.........................] - ETA: 0s - loss: 0.7897 - accuracy: 0.6250\n",
      "Epoch 00068: val_loss improved from 0.69758 to 0.69712, saving model to ../../../models/adult/rs=55/adult_mt=ft.h5\n",
      "6/6 [==============================] - 0s 6ms/step - loss: 0.6974 - accuracy: 0.6933 - val_loss: 0.6971 - val_accuracy: 0.6933\n",
      "Epoch 69/100\n",
      "1/6 [====>.........................] - ETA: 0s - loss: 0.5299 - accuracy: 0.8438\n",
      "Epoch 00069: val_loss improved from 0.69712 to 0.69668, saving model to ../../../models/adult/rs=55/adult_mt=ft.h5\n",
      "6/6 [==============================] - 0s 6ms/step - loss: 0.6970 - accuracy: 0.6933 - val_loss: 0.6967 - val_accuracy: 0.6933\n",
      "Epoch 70/100\n",
      "1/6 [====>.........................] - ETA: 0s - loss: 0.5004 - accuracy: 0.8438\n",
      "Epoch 00070: val_loss improved from 0.69668 to 0.69622, saving model to ../../../models/adult/rs=55/adult_mt=ft.h5\n",
      "6/6 [==============================] - 0s 6ms/step - loss: 0.6965 - accuracy: 0.6933 - val_loss: 0.6962 - val_accuracy: 0.6933\n",
      "Epoch 71/100\n",
      "1/6 [====>.........................] - ETA: 0s - loss: 0.8604 - accuracy: 0.6562\n",
      "Epoch 00071: val_loss improved from 0.69622 to 0.69584, saving model to ../../../models/adult/rs=55/adult_mt=ft.h5\n",
      "6/6 [==============================] - 0s 6ms/step - loss: 0.6961 - accuracy: 0.6933 - val_loss: 0.6958 - val_accuracy: 0.6933\n",
      "Epoch 72/100\n",
      "1/6 [====>.........................] - ETA: 0s - loss: 0.8149 - accuracy: 0.5938\n",
      "Epoch 00072: val_loss improved from 0.69584 to 0.69528, saving model to ../../../models/adult/rs=55/adult_mt=ft.h5\n",
      "6/6 [==============================] - 0s 8ms/step - loss: 0.6957 - accuracy: 0.6933 - val_loss: 0.6953 - val_accuracy: 0.6933\n",
      "Epoch 73/100\n",
      "1/6 [====>.........................] - ETA: 0s - loss: 0.8704 - accuracy: 0.6875\n",
      "Epoch 00073: val_loss improved from 0.69528 to 0.69488, saving model to ../../../models/adult/rs=55/adult_mt=ft.h5\n",
      "6/6 [==============================] - 0s 6ms/step - loss: 0.6951 - accuracy: 0.6933 - val_loss: 0.6949 - val_accuracy: 0.6933\n",
      "Epoch 74/100\n",
      "1/6 [====>.........................] - ETA: 0s - loss: 0.7265 - accuracy: 0.6562\n",
      "Epoch 00074: val_loss improved from 0.69488 to 0.69441, saving model to ../../../models/adult/rs=55/adult_mt=ft.h5\n",
      "6/6 [==============================] - 0s 6ms/step - loss: 0.6947 - accuracy: 0.6933 - val_loss: 0.6944 - val_accuracy: 0.6933\n",
      "Epoch 75/100\n"
     ]
    },
    {
     "name": "stdout",
     "output_type": "stream",
     "text": [
      "1/6 [====>.........................] - ETA: 0s - loss: 0.7047 - accuracy: 0.7188\n",
      "Epoch 00075: val_loss improved from 0.69441 to 0.69395, saving model to ../../../models/adult/rs=55/adult_mt=ft.h5\n",
      "6/6 [==============================] - 0s 6ms/step - loss: 0.6943 - accuracy: 0.6933 - val_loss: 0.6939 - val_accuracy: 0.6933\n",
      "Epoch 76/100\n",
      "1/6 [====>.........................] - ETA: 0s - loss: 0.6772 - accuracy: 0.7500\n",
      "Epoch 00076: val_loss improved from 0.69395 to 0.69350, saving model to ../../../models/adult/rs=55/adult_mt=ft.h5\n",
      "6/6 [==============================] - 0s 6ms/step - loss: 0.6938 - accuracy: 0.6994 - val_loss: 0.6935 - val_accuracy: 0.6994\n",
      "Epoch 77/100\n",
      "1/6 [====>.........................] - ETA: 0s - loss: 0.7402 - accuracy: 0.6875\n",
      "Epoch 00077: val_loss improved from 0.69350 to 0.69301, saving model to ../../../models/adult/rs=55/adult_mt=ft.h5\n",
      "6/6 [==============================] - 0s 6ms/step - loss: 0.6933 - accuracy: 0.6994 - val_loss: 0.6930 - val_accuracy: 0.6994\n",
      "Epoch 78/100\n",
      "1/6 [====>.........................] - ETA: 0s - loss: 0.6260 - accuracy: 0.7500\n",
      "Epoch 00078: val_loss improved from 0.69301 to 0.69265, saving model to ../../../models/adult/rs=55/adult_mt=ft.h5\n",
      "6/6 [==============================] - 0s 6ms/step - loss: 0.6929 - accuracy: 0.6994 - val_loss: 0.6926 - val_accuracy: 0.6994\n",
      "Epoch 79/100\n",
      "1/6 [====>.........................] - ETA: 0s - loss: 0.7782 - accuracy: 0.5938\n",
      "Epoch 00079: val_loss improved from 0.69265 to 0.69216, saving model to ../../../models/adult/rs=55/adult_mt=ft.h5\n",
      "6/6 [==============================] - 0s 6ms/step - loss: 0.6925 - accuracy: 0.6994 - val_loss: 0.6922 - val_accuracy: 0.6994\n",
      "Epoch 80/100\n",
      "1/6 [====>.........................] - ETA: 0s - loss: 0.3981 - accuracy: 0.8438\n",
      "Epoch 00080: val_loss improved from 0.69216 to 0.69169, saving model to ../../../models/adult/rs=55/adult_mt=ft.h5\n",
      "6/6 [==============================] - 0s 6ms/step - loss: 0.6920 - accuracy: 0.6994 - val_loss: 0.6917 - val_accuracy: 0.6994\n",
      "Epoch 81/100\n",
      "1/6 [====>.........................] - ETA: 0s - loss: 0.5752 - accuracy: 0.7812\n",
      "Epoch 00081: val_loss improved from 0.69169 to 0.69125, saving model to ../../../models/adult/rs=55/adult_mt=ft.h5\n",
      "6/6 [==============================] - 0s 6ms/step - loss: 0.6915 - accuracy: 0.6994 - val_loss: 0.6912 - val_accuracy: 0.6994\n",
      "Epoch 82/100\n",
      "1/6 [====>.........................] - ETA: 0s - loss: 0.6628 - accuracy: 0.7188\n",
      "Epoch 00082: val_loss improved from 0.69125 to 0.69081, saving model to ../../../models/adult/rs=55/adult_mt=ft.h5\n",
      "6/6 [==============================] - 0s 6ms/step - loss: 0.6911 - accuracy: 0.6994 - val_loss: 0.6908 - val_accuracy: 0.6994\n",
      "Epoch 83/100\n",
      "1/6 [====>.........................] - ETA: 0s - loss: 0.7521 - accuracy: 0.5938\n",
      "Epoch 00083: val_loss improved from 0.69081 to 0.69040, saving model to ../../../models/adult/rs=55/adult_mt=ft.h5\n",
      "6/6 [==============================] - 0s 6ms/step - loss: 0.6907 - accuracy: 0.6994 - val_loss: 0.6904 - val_accuracy: 0.6994\n",
      "Epoch 84/100\n",
      "1/6 [====>.........................] - ETA: 0s - loss: 0.8445 - accuracy: 0.6875\n",
      "Epoch 00084: val_loss improved from 0.69040 to 0.69003, saving model to ../../../models/adult/rs=55/adult_mt=ft.h5\n",
      "6/6 [==============================] - 0s 6ms/step - loss: 0.6902 - accuracy: 0.6994 - val_loss: 0.6900 - val_accuracy: 0.6994\n",
      "Epoch 85/100\n",
      "1/6 [====>.........................] - ETA: 0s - loss: 0.7067 - accuracy: 0.6562\n",
      "Epoch 00085: val_loss improved from 0.69003 to 0.68943, saving model to ../../../models/adult/rs=55/adult_mt=ft.h5\n",
      "6/6 [==============================] - 0s 6ms/step - loss: 0.6899 - accuracy: 0.6994 - val_loss: 0.6894 - val_accuracy: 0.6994\n",
      "Epoch 86/100\n",
      "1/6 [====>.........................] - ETA: 0s - loss: 0.6308 - accuracy: 0.7188\n",
      "Epoch 00086: val_loss improved from 0.68943 to 0.68893, saving model to ../../../models/adult/rs=55/adult_mt=ft.h5\n",
      "6/6 [==============================] - 0s 6ms/step - loss: 0.6893 - accuracy: 0.6994 - val_loss: 0.6889 - val_accuracy: 0.6994\n",
      "Epoch 87/100\n",
      "1/6 [====>.........................] - ETA: 0s - loss: 0.7018 - accuracy: 0.6562\n",
      "Epoch 00087: val_loss improved from 0.68893 to 0.68850, saving model to ../../../models/adult/rs=55/adult_mt=ft.h5\n",
      "6/6 [==============================] - 0s 6ms/step - loss: 0.6888 - accuracy: 0.6994 - val_loss: 0.6885 - val_accuracy: 0.6994\n",
      "Epoch 88/100\n",
      "1/6 [====>.........................] - ETA: 0s - loss: 0.6623 - accuracy: 0.6562\n",
      "Epoch 00088: val_loss improved from 0.68850 to 0.68810, saving model to ../../../models/adult/rs=55/adult_mt=ft.h5\n",
      "6/6 [==============================] - 0s 6ms/step - loss: 0.6883 - accuracy: 0.6994 - val_loss: 0.6881 - val_accuracy: 0.6994\n",
      "Epoch 89/100\n",
      "1/6 [====>.........................] - ETA: 0s - loss: 0.6857 - accuracy: 0.7500\n",
      "Epoch 00089: val_loss improved from 0.68810 to 0.68764, saving model to ../../../models/adult/rs=55/adult_mt=ft.h5\n",
      "6/6 [==============================] - 0s 6ms/step - loss: 0.6880 - accuracy: 0.6994 - val_loss: 0.6876 - val_accuracy: 0.6994\n",
      "Epoch 90/100\n",
      "1/6 [====>.........................] - ETA: 0s - loss: 0.7651 - accuracy: 0.6562\n",
      "Epoch 00090: val_loss improved from 0.68764 to 0.68728, saving model to ../../../models/adult/rs=55/adult_mt=ft.h5\n",
      "6/6 [==============================] - 0s 6ms/step - loss: 0.6875 - accuracy: 0.6994 - val_loss: 0.6873 - val_accuracy: 0.6994\n",
      "Epoch 91/100\n",
      "1/6 [====>.........................] - ETA: 0s - loss: 0.4417 - accuracy: 0.8438\n",
      "Epoch 00091: val_loss improved from 0.68728 to 0.68674, saving model to ../../../models/adult/rs=55/adult_mt=ft.h5\n",
      "6/6 [==============================] - 0s 6ms/step - loss: 0.6871 - accuracy: 0.6994 - val_loss: 0.6867 - val_accuracy: 0.6994\n",
      "Epoch 92/100\n",
      "1/6 [====>.........................] - ETA: 0s - loss: 0.4953 - accuracy: 0.7812\n",
      "Epoch 00092: val_loss improved from 0.68674 to 0.68618, saving model to ../../../models/adult/rs=55/adult_mt=ft.h5\n",
      "6/6 [==============================] - 0s 6ms/step - loss: 0.6866 - accuracy: 0.6994 - val_loss: 0.6862 - val_accuracy: 0.6994\n",
      "Epoch 93/100\n",
      "1/6 [====>.........................] - ETA: 0s - loss: 0.8708 - accuracy: 0.5938\n",
      "Epoch 00093: val_loss improved from 0.68618 to 0.68572, saving model to ../../../models/adult/rs=55/adult_mt=ft.h5\n",
      "6/6 [==============================] - 0s 6ms/step - loss: 0.6860 - accuracy: 0.6994 - val_loss: 0.6857 - val_accuracy: 0.6994\n",
      "Epoch 94/100\n",
      "1/6 [====>.........................] - ETA: 0s - loss: 0.8190 - accuracy: 0.6250\n",
      "Epoch 00094: val_loss improved from 0.68572 to 0.68530, saving model to ../../../models/adult/rs=55/adult_mt=ft.h5\n",
      "6/6 [==============================] - 0s 6ms/step - loss: 0.6856 - accuracy: 0.6994 - val_loss: 0.6853 - val_accuracy: 0.6994\n",
      "Epoch 95/100\n",
      "1/6 [====>.........................] - ETA: 0s - loss: 0.9154 - accuracy: 0.5000\n",
      "Epoch 00095: val_loss improved from 0.68530 to 0.68488, saving model to ../../../models/adult/rs=55/adult_mt=ft.h5\n",
      "6/6 [==============================] - 0s 6ms/step - loss: 0.6852 - accuracy: 0.6994 - val_loss: 0.6849 - val_accuracy: 0.6994\n",
      "Epoch 96/100\n",
      "1/6 [====>.........................] - ETA: 0s - loss: 0.7383 - accuracy: 0.6250\n",
      "Epoch 00096: val_loss improved from 0.68488 to 0.68446, saving model to ../../../models/adult/rs=55/adult_mt=ft.h5\n",
      "6/6 [==============================] - 0s 6ms/step - loss: 0.6847 - accuracy: 0.6994 - val_loss: 0.6845 - val_accuracy: 0.6994\n",
      "Epoch 97/100\n",
      "1/6 [====>.........................] - ETA: 0s - loss: 0.7702 - accuracy: 0.6562\n",
      "Epoch 00097: val_loss improved from 0.68446 to 0.68390, saving model to ../../../models/adult/rs=55/adult_mt=ft.h5\n",
      "6/6 [==============================] - 0s 6ms/step - loss: 0.6843 - accuracy: 0.6994 - val_loss: 0.6839 - val_accuracy: 0.6994\n",
      "Epoch 98/100\n",
      "1/6 [====>.........................] - ETA: 0s - loss: 0.5727 - accuracy: 0.8125\n",
      "Epoch 00098: val_loss improved from 0.68390 to 0.68342, saving model to ../../../models/adult/rs=55/adult_mt=ft.h5\n",
      "6/6 [==============================] - 0s 6ms/step - loss: 0.6838 - accuracy: 0.6994 - val_loss: 0.6834 - val_accuracy: 0.6994\n",
      "Epoch 99/100\n",
      "1/6 [====>.........................] - ETA: 0s - loss: 0.6413 - accuracy: 0.6562\n",
      "Epoch 00099: val_loss improved from 0.68342 to 0.68295, saving model to ../../../models/adult/rs=55/adult_mt=ft.h5\n"
     ]
    },
    {
     "name": "stdout",
     "output_type": "stream",
     "text": [
      "6/6 [==============================] - 0s 6ms/step - loss: 0.6833 - accuracy: 0.6994 - val_loss: 0.6830 - val_accuracy: 0.6994\n",
      "Epoch 100/100\n",
      "1/6 [====>.........................] - ETA: 0s - loss: 0.5858 - accuracy: 0.7500\n",
      "Epoch 00100: val_loss improved from 0.68295 to 0.68247, saving model to ../../../models/adult/rs=55/adult_mt=ft.h5\n",
      "6/6 [==============================] - 0s 6ms/step - loss: 0.6828 - accuracy: 0.6994 - val_loss: 0.6825 - val_accuracy: 0.6994\n"
     ]
    },
    {
     "data": {
      "text/plain": [
       "<tensorflow.python.keras.callbacks.History at 0x7f3a35100390>"
      ]
     },
     "execution_count": 13,
     "metadata": {},
     "output_type": "execute_result"
    }
   ],
   "source": [
    "model.fit(\n",
    "    x_val,\n",
    "    y_val,\n",
    "    batch_size = BATCH_SIZE,\n",
    "    epochs = EPOCHS,\n",
    "    validation_data = (x_hyper_val, y_hyper_val),\n",
    "    callbacks=callbacks,\n",
    ")"
   ]
  },
  {
   "cell_type": "code",
   "execution_count": 14,
   "metadata": {},
   "outputs": [],
   "source": [
    "# see the best saved\n",
    "model.load_weights(FT_MODEL_SAVEPATH)"
   ]
  },
  {
   "cell_type": "code",
   "execution_count": 15,
   "metadata": {},
   "outputs": [
    {
     "data": {
      "text/plain": [
       "0.6993865030674846"
      ]
     },
     "execution_count": 15,
     "metadata": {},
     "output_type": "execute_result"
    }
   ],
   "source": [
    "# val acc\n",
    "preds_hyper_val = utils.utils.compute_preds(\n",
    "    model,\n",
    "    x_hyper_val,\n",
    "    batch_size=BATCH_SIZE,\n",
    ")\n",
    "(np.argmax(preds_hyper_val, axis=1) == np.argwhere(y_hyper_val)[:,1]).mean()"
   ]
  },
  {
   "cell_type": "code",
   "execution_count": 16,
   "metadata": {},
   "outputs": [
    {
     "data": {
      "text/plain": [
       "0.6372999131405882"
      ]
     },
     "execution_count": 16,
     "metadata": {},
     "output_type": "execute_result"
    }
   ],
   "source": [
    "# test acc\n",
    "preds_test = utils.utils.compute_preds(\n",
    "    model,\n",
    "    x_test,\n",
    "    batch_size=BATCH_SIZE,\n",
    ")\n",
    "(np.argmax(preds_test, axis=1) == np.argwhere(y_test)[:,1]).mean()"
   ]
  },
  {
   "cell_type": "code",
   "execution_count": null,
   "metadata": {},
   "outputs": [],
   "source": []
  },
  {
   "cell_type": "markdown",
   "metadata": {},
   "source": [
    "# Baseline 2: Learn to Weigh Examples\n",
    "Paper: https://arxiv.org/pdf/1803.09050.pdf\n",
    "\n",
    "This is a type of meta-learning, which doesn't quite work with the keras API. We will need to manually implement the training loop."
   ]
  },
  {
   "cell_type": "code",
   "execution_count": 30,
   "metadata": {},
   "outputs": [],
   "source": [
    "model.load_weights(BASE_MODEL_SAVEPATH)"
   ]
  },
  {
   "cell_type": "code",
   "execution_count": 33,
   "metadata": {},
   "outputs": [],
   "source": [
    "optimizer = tf.keras.optimizers.SGD() # initialize with defaults"
   ]
  },
  {
   "cell_type": "code",
   "execution_count": 34,
   "metadata": {},
   "outputs": [],
   "source": [
    "# Reduction.NONE means the cross entropy is computed per entry in the batch\n",
    "# but is not aggregated. Traditional cross entropy will average the results.\n",
    "ce = tf.keras.losses.CategoricalCrossentropy(reduction=tf.keras.losses.Reduction.NONE)"
   ]
  },
  {
   "cell_type": "code",
   "execution_count": 35,
   "metadata": {},
   "outputs": [
    {
     "name": "stdout",
     "output_type": "stream",
     "text": [
      "Epoch 0:\n",
      "----------\n"
     ]
    },
    {
     "data": {
      "application/vnd.jupyter.widget-view+json": {
       "model_id": "b8ca760e02d44c4c801251f0cb38cf65",
       "version_major": 2,
       "version_minor": 0
      },
      "text/plain": [
       "HBox(children=(FloatProgress(value=0.0, max=26.0), HTML(value='')))"
      ]
     },
     "metadata": {},
     "output_type": "display_data"
    },
    {
     "name": "stdout",
     "output_type": "stream",
     "text": [
      "Loss: 0.17984150350093842\n",
      "Hyper Val Acc: 0.6625766871165644\n",
      "Hyper Val Loss: 0.17292451858520508\n",
      "Saving new best weights to ../../../models/adult/rs=55/adult_mt=lrw.h5\n",
      "Epoch 1:\n",
      "----------\n"
     ]
    },
    {
     "data": {
      "application/vnd.jupyter.widget-view+json": {
       "model_id": "428e058694454a57989fbb3be146a882",
       "version_major": 2,
       "version_minor": 0
      },
      "text/plain": [
       "HBox(children=(FloatProgress(value=0.0, max=26.0), HTML(value='')))"
      ]
     },
     "metadata": {},
     "output_type": "display_data"
    },
    {
     "name": "stdout",
     "output_type": "stream",
     "text": [
      "Loss: 0.019122552126646042\n",
      "Hyper Val Acc: 0.6687116564417178\n",
      "Hyper Val Loss: 0.018387068063020706\n",
      "Saving new best weights to ../../../models/adult/rs=55/adult_mt=lrw.h5\n",
      "Epoch 2:\n",
      "----------\n"
     ]
    },
    {
     "data": {
      "application/vnd.jupyter.widget-view+json": {
       "model_id": "deba622d8ec145079bad2d15bd598a9f",
       "version_major": 2,
       "version_minor": 0
      },
      "text/plain": [
       "HBox(children=(FloatProgress(value=0.0, max=26.0), HTML(value='')))"
      ]
     },
     "metadata": {},
     "output_type": "display_data"
    },
    {
     "name": "stdout",
     "output_type": "stream",
     "text": [
      "Loss: 0.0\n",
      "Hyper Val Acc: 0.6687116564417178\n",
      "Hyper Val Loss: 0.0\n",
      "Saving new best weights to ../../../models/adult/rs=55/adult_mt=lrw.h5\n",
      "Epoch 3:\n",
      "----------\n"
     ]
    },
    {
     "data": {
      "application/vnd.jupyter.widget-view+json": {
       "model_id": "80b5b78a2e0946b8a609b7817f23f84b",
       "version_major": 2,
       "version_minor": 0
      },
      "text/plain": [
       "HBox(children=(FloatProgress(value=0.0, max=26.0), HTML(value='')))"
      ]
     },
     "metadata": {},
     "output_type": "display_data"
    },
    {
     "name": "stdout",
     "output_type": "stream",
     "text": [
      "Loss: 0.0\n",
      "Hyper Val Acc: 0.6687116564417178\n",
      "Hyper Val Loss: 0.0\n",
      "Epoch 4:\n",
      "----------\n"
     ]
    },
    {
     "data": {
      "application/vnd.jupyter.widget-view+json": {
       "model_id": "08654bc3901e45efa0c823aa9fdf3156",
       "version_major": 2,
       "version_minor": 0
      },
      "text/plain": [
       "HBox(children=(FloatProgress(value=0.0, max=26.0), HTML(value='')))"
      ]
     },
     "metadata": {},
     "output_type": "display_data"
    },
    {
     "name": "stdout",
     "output_type": "stream",
     "text": [
      "Loss: 0.0\n",
      "Hyper Val Acc: 0.6687116564417178\n",
      "Hyper Val Loss: 0.0\n",
      "Epoch 5:\n",
      "----------\n"
     ]
    },
    {
     "data": {
      "application/vnd.jupyter.widget-view+json": {
       "model_id": "50b5de0b76ed434b896ff9d2900fed63",
       "version_major": 2,
       "version_minor": 0
      },
      "text/plain": [
       "HBox(children=(FloatProgress(value=0.0, max=26.0), HTML(value='')))"
      ]
     },
     "metadata": {},
     "output_type": "display_data"
    },
    {
     "name": "stdout",
     "output_type": "stream",
     "text": [
      "Loss: 0.0\n",
      "Hyper Val Acc: 0.6687116564417178\n",
      "Hyper Val Loss: 0.0\n",
      "Epoch 6:\n",
      "----------\n"
     ]
    },
    {
     "data": {
      "application/vnd.jupyter.widget-view+json": {
       "model_id": "f8e5f2754d9a4473bde89cab30803009",
       "version_major": 2,
       "version_minor": 0
      },
      "text/plain": [
       "HBox(children=(FloatProgress(value=0.0, max=26.0), HTML(value='')))"
      ]
     },
     "metadata": {},
     "output_type": "display_data"
    },
    {
     "name": "stdout",
     "output_type": "stream",
     "text": [
      "Loss: 0.0\n",
      "Hyper Val Acc: 0.6687116564417178\n",
      "Hyper Val Loss: 0.0\n",
      "Epoch 7:\n",
      "----------\n"
     ]
    },
    {
     "data": {
      "application/vnd.jupyter.widget-view+json": {
       "model_id": "816b895893324bae8069bd7c303bdbaf",
       "version_major": 2,
       "version_minor": 0
      },
      "text/plain": [
       "HBox(children=(FloatProgress(value=0.0, max=26.0), HTML(value='')))"
      ]
     },
     "metadata": {},
     "output_type": "display_data"
    },
    {
     "name": "stdout",
     "output_type": "stream",
     "text": [
      "Loss: 0.0\n",
      "Hyper Val Acc: 0.6687116564417178\n",
      "Hyper Val Loss: 0.0\n",
      "Epoch 8:\n",
      "----------\n"
     ]
    },
    {
     "data": {
      "application/vnd.jupyter.widget-view+json": {
       "model_id": "cc0ba8cd33de41af8266dd543ea6c7a3",
       "version_major": 2,
       "version_minor": 0
      },
      "text/plain": [
       "HBox(children=(FloatProgress(value=0.0, max=26.0), HTML(value='')))"
      ]
     },
     "metadata": {},
     "output_type": "display_data"
    },
    {
     "name": "stdout",
     "output_type": "stream",
     "text": [
      "Loss: 0.0\n",
      "Hyper Val Acc: 0.6687116564417178\n",
      "Hyper Val Loss: 0.0\n",
      "Epoch 9:\n",
      "----------\n"
     ]
    },
    {
     "data": {
      "application/vnd.jupyter.widget-view+json": {
       "model_id": "ad74353b8df548ccaba8cee17ee47621",
       "version_major": 2,
       "version_minor": 0
      },
      "text/plain": [
       "HBox(children=(FloatProgress(value=0.0, max=26.0), HTML(value='')))"
      ]
     },
     "metadata": {},
     "output_type": "display_data"
    },
    {
     "name": "stdout",
     "output_type": "stream",
     "text": [
      "Loss: 0.0\n",
      "Hyper Val Acc: 0.6687116564417178\n",
      "Hyper Val Loss: 0.0\n",
      "Epoch 10:\n",
      "----------\n"
     ]
    },
    {
     "data": {
      "application/vnd.jupyter.widget-view+json": {
       "model_id": "ad52402d13814c7b9c3422e342165f87",
       "version_major": 2,
       "version_minor": 0
      },
      "text/plain": [
       "HBox(children=(FloatProgress(value=0.0, max=26.0), HTML(value='')))"
      ]
     },
     "metadata": {},
     "output_type": "display_data"
    },
    {
     "name": "stdout",
     "output_type": "stream",
     "text": [
      "Loss: 0.0\n",
      "Hyper Val Acc: 0.6687116564417178\n",
      "Hyper Val Loss: 0.0\n",
      "Epoch 11:\n",
      "----------\n"
     ]
    },
    {
     "data": {
      "application/vnd.jupyter.widget-view+json": {
       "model_id": "7eaf499d6d0b4e1db1e10caf23729765",
       "version_major": 2,
       "version_minor": 0
      },
      "text/plain": [
       "HBox(children=(FloatProgress(value=0.0, max=26.0), HTML(value='')))"
      ]
     },
     "metadata": {},
     "output_type": "display_data"
    },
    {
     "name": "stdout",
     "output_type": "stream",
     "text": [
      "Loss: 0.0\n",
      "Hyper Val Acc: 0.6687116564417178\n",
      "Hyper Val Loss: 0.0\n",
      "Epoch 12:\n",
      "----------\n"
     ]
    },
    {
     "data": {
      "application/vnd.jupyter.widget-view+json": {
       "model_id": "61700383c5fb457d8fcf4483cb1b806d",
       "version_major": 2,
       "version_minor": 0
      },
      "text/plain": [
       "HBox(children=(FloatProgress(value=0.0, max=26.0), HTML(value='')))"
      ]
     },
     "metadata": {},
     "output_type": "display_data"
    },
    {
     "name": "stdout",
     "output_type": "stream",
     "text": [
      "Loss: 0.0\n",
      "Hyper Val Acc: 0.6687116564417178\n",
      "Hyper Val Loss: 0.0\n",
      "Epoch 13:\n",
      "----------\n"
     ]
    },
    {
     "data": {
      "application/vnd.jupyter.widget-view+json": {
       "model_id": "e1d20378078d475cacc452f6605e57de",
       "version_major": 2,
       "version_minor": 0
      },
      "text/plain": [
       "HBox(children=(FloatProgress(value=0.0, max=26.0), HTML(value='')))"
      ]
     },
     "metadata": {},
     "output_type": "display_data"
    },
    {
     "name": "stdout",
     "output_type": "stream",
     "text": [
      "Loss: 0.0\n",
      "Hyper Val Acc: 0.6687116564417178\n",
      "Hyper Val Loss: 0.0\n",
      "Epoch 14:\n",
      "----------\n"
     ]
    },
    {
     "data": {
      "application/vnd.jupyter.widget-view+json": {
       "model_id": "a5192453dbf54632a89b9b08e10424b8",
       "version_major": 2,
       "version_minor": 0
      },
      "text/plain": [
       "HBox(children=(FloatProgress(value=0.0, max=26.0), HTML(value='')))"
      ]
     },
     "metadata": {},
     "output_type": "display_data"
    },
    {
     "name": "stdout",
     "output_type": "stream",
     "text": [
      "Loss: 0.0\n",
      "Hyper Val Acc: 0.6687116564417178\n",
      "Hyper Val Loss: 0.0\n",
      "Epoch 15:\n",
      "----------\n"
     ]
    },
    {
     "data": {
      "application/vnd.jupyter.widget-view+json": {
       "model_id": "dd6af01b4cbf4bf6af21b3e99521da6a",
       "version_major": 2,
       "version_minor": 0
      },
      "text/plain": [
       "HBox(children=(FloatProgress(value=0.0, max=26.0), HTML(value='')))"
      ]
     },
     "metadata": {},
     "output_type": "display_data"
    },
    {
     "name": "stdout",
     "output_type": "stream",
     "text": [
      "Loss: 0.0\n",
      "Hyper Val Acc: 0.6687116564417178\n",
      "Hyper Val Loss: 0.0\n",
      "Epoch 16:\n",
      "----------\n"
     ]
    },
    {
     "data": {
      "application/vnd.jupyter.widget-view+json": {
       "model_id": "de6ded49eae24548a5a3f42b3a5190fc",
       "version_major": 2,
       "version_minor": 0
      },
      "text/plain": [
       "HBox(children=(FloatProgress(value=0.0, max=26.0), HTML(value='')))"
      ]
     },
     "metadata": {},
     "output_type": "display_data"
    },
    {
     "name": "stdout",
     "output_type": "stream",
     "text": [
      "Loss: 0.0\n",
      "Hyper Val Acc: 0.6687116564417178\n",
      "Hyper Val Loss: 0.0\n",
      "Epoch 17:\n",
      "----------\n"
     ]
    },
    {
     "data": {
      "application/vnd.jupyter.widget-view+json": {
       "model_id": "b16fcecd7d0f417a865b8591412934c2",
       "version_major": 2,
       "version_minor": 0
      },
      "text/plain": [
       "HBox(children=(FloatProgress(value=0.0, max=26.0), HTML(value='')))"
      ]
     },
     "metadata": {},
     "output_type": "display_data"
    },
    {
     "name": "stdout",
     "output_type": "stream",
     "text": [
      "Loss: 0.0\n",
      "Hyper Val Acc: 0.6687116564417178\n",
      "Hyper Val Loss: 0.0\n",
      "Epoch 18:\n",
      "----------\n"
     ]
    },
    {
     "data": {
      "application/vnd.jupyter.widget-view+json": {
       "model_id": "ebef1761e0f24f3f8e18c0c908e2ef09",
       "version_major": 2,
       "version_minor": 0
      },
      "text/plain": [
       "HBox(children=(FloatProgress(value=0.0, max=26.0), HTML(value='')))"
      ]
     },
     "metadata": {},
     "output_type": "display_data"
    },
    {
     "name": "stdout",
     "output_type": "stream",
     "text": [
      "Loss: 0.0\n",
      "Hyper Val Acc: 0.6687116564417178\n",
      "Hyper Val Loss: 0.0\n",
      "Epoch 19:\n",
      "----------\n"
     ]
    },
    {
     "data": {
      "application/vnd.jupyter.widget-view+json": {
       "model_id": "145236e63746462bab6a8f90c7633c28",
       "version_major": 2,
       "version_minor": 0
      },
      "text/plain": [
       "HBox(children=(FloatProgress(value=0.0, max=26.0), HTML(value='')))"
      ]
     },
     "metadata": {},
     "output_type": "display_data"
    },
    {
     "name": "stdout",
     "output_type": "stream",
     "text": [
      "Loss: 0.0\n",
      "Hyper Val Acc: 0.6687116564417178\n",
      "Hyper Val Loss: 0.0\n",
      "Epoch 20:\n",
      "----------\n"
     ]
    },
    {
     "data": {
      "application/vnd.jupyter.widget-view+json": {
       "model_id": "9c207b7bec314d67a8a035122d27a0ef",
       "version_major": 2,
       "version_minor": 0
      },
      "text/plain": [
       "HBox(children=(FloatProgress(value=0.0, max=26.0), HTML(value='')))"
      ]
     },
     "metadata": {},
     "output_type": "display_data"
    },
    {
     "name": "stdout",
     "output_type": "stream",
     "text": [
      "Loss: 0.0\n",
      "Hyper Val Acc: 0.6687116564417178\n",
      "Hyper Val Loss: 0.0\n",
      "Epoch 21:\n",
      "----------\n"
     ]
    },
    {
     "data": {
      "application/vnd.jupyter.widget-view+json": {
       "model_id": "974266ac8931400ca79dbcad05a99ec2",
       "version_major": 2,
       "version_minor": 0
      },
      "text/plain": [
       "HBox(children=(FloatProgress(value=0.0, max=26.0), HTML(value='')))"
      ]
     },
     "metadata": {},
     "output_type": "display_data"
    },
    {
     "name": "stdout",
     "output_type": "stream",
     "text": [
      "Loss: 0.0\n",
      "Hyper Val Acc: 0.6687116564417178\n",
      "Hyper Val Loss: 0.0\n",
      "Epoch 22:\n",
      "----------\n"
     ]
    },
    {
     "data": {
      "application/vnd.jupyter.widget-view+json": {
       "model_id": "f85469a176b14f8a9b069e138ecfb6c2",
       "version_major": 2,
       "version_minor": 0
      },
      "text/plain": [
       "HBox(children=(FloatProgress(value=0.0, max=26.0), HTML(value='')))"
      ]
     },
     "metadata": {},
     "output_type": "display_data"
    },
    {
     "name": "stdout",
     "output_type": "stream",
     "text": [
      "Loss: 0.0\n",
      "Hyper Val Acc: 0.6687116564417178\n",
      "Hyper Val Loss: 0.0\n",
      "Epoch 23:\n",
      "----------\n"
     ]
    },
    {
     "data": {
      "application/vnd.jupyter.widget-view+json": {
       "model_id": "61416514fd274df891e01f6e4810e4b5",
       "version_major": 2,
       "version_minor": 0
      },
      "text/plain": [
       "HBox(children=(FloatProgress(value=0.0, max=26.0), HTML(value='')))"
      ]
     },
     "metadata": {},
     "output_type": "display_data"
    },
    {
     "name": "stdout",
     "output_type": "stream",
     "text": [
      "Loss: 0.0\n",
      "Hyper Val Acc: 0.6687116564417178\n",
      "Hyper Val Loss: 0.0\n",
      "Epoch 24:\n",
      "----------\n"
     ]
    },
    {
     "data": {
      "application/vnd.jupyter.widget-view+json": {
       "model_id": "7dcb7464635a4ca9a6dcd5087dbfde89",
       "version_major": 2,
       "version_minor": 0
      },
      "text/plain": [
       "HBox(children=(FloatProgress(value=0.0, max=26.0), HTML(value='')))"
      ]
     },
     "metadata": {},
     "output_type": "display_data"
    },
    {
     "name": "stdout",
     "output_type": "stream",
     "text": [
      "Loss: 0.0\n",
      "Hyper Val Acc: 0.6687116564417178\n",
      "Hyper Val Loss: 0.0\n",
      "Epoch 25:\n",
      "----------\n"
     ]
    },
    {
     "data": {
      "application/vnd.jupyter.widget-view+json": {
       "model_id": "f120ca0539c64261926463154f8af53c",
       "version_major": 2,
       "version_minor": 0
      },
      "text/plain": [
       "HBox(children=(FloatProgress(value=0.0, max=26.0), HTML(value='')))"
      ]
     },
     "metadata": {},
     "output_type": "display_data"
    },
    {
     "name": "stdout",
     "output_type": "stream",
     "text": [
      "Loss: 0.0\n",
      "Hyper Val Acc: 0.6687116564417178\n",
      "Hyper Val Loss: 0.0\n",
      "Epoch 26:\n",
      "----------\n"
     ]
    },
    {
     "data": {
      "application/vnd.jupyter.widget-view+json": {
       "model_id": "ff573b39067741938d81440a57a0e555",
       "version_major": 2,
       "version_minor": 0
      },
      "text/plain": [
       "HBox(children=(FloatProgress(value=0.0, max=26.0), HTML(value='')))"
      ]
     },
     "metadata": {},
     "output_type": "display_data"
    },
    {
     "name": "stdout",
     "output_type": "stream",
     "text": [
      "Loss: 0.0\n",
      "Hyper Val Acc: 0.6687116564417178\n",
      "Hyper Val Loss: 0.0\n",
      "Epoch 27:\n",
      "----------\n"
     ]
    },
    {
     "data": {
      "application/vnd.jupyter.widget-view+json": {
       "model_id": "f393bdd744d04b8c927e2bcbb0657387",
       "version_major": 2,
       "version_minor": 0
      },
      "text/plain": [
       "HBox(children=(FloatProgress(value=0.0, max=26.0), HTML(value='')))"
      ]
     },
     "metadata": {},
     "output_type": "display_data"
    },
    {
     "name": "stdout",
     "output_type": "stream",
     "text": [
      "Loss: 0.0\n",
      "Hyper Val Acc: 0.6687116564417178\n",
      "Hyper Val Loss: 0.0\n",
      "Epoch 28:\n",
      "----------\n"
     ]
    },
    {
     "data": {
      "application/vnd.jupyter.widget-view+json": {
       "model_id": "752d093c260d48e5913c85339de9665e",
       "version_major": 2,
       "version_minor": 0
      },
      "text/plain": [
       "HBox(children=(FloatProgress(value=0.0, max=26.0), HTML(value='')))"
      ]
     },
     "metadata": {},
     "output_type": "display_data"
    },
    {
     "name": "stdout",
     "output_type": "stream",
     "text": [
      "Loss: 0.0\n",
      "Hyper Val Acc: 0.6687116564417178\n",
      "Hyper Val Loss: 0.0\n",
      "Epoch 29:\n",
      "----------\n"
     ]
    },
    {
     "data": {
      "application/vnd.jupyter.widget-view+json": {
       "model_id": "71c3e18bb83743e69dae97e28b74dbdb",
       "version_major": 2,
       "version_minor": 0
      },
      "text/plain": [
       "HBox(children=(FloatProgress(value=0.0, max=26.0), HTML(value='')))"
      ]
     },
     "metadata": {},
     "output_type": "display_data"
    },
    {
     "name": "stdout",
     "output_type": "stream",
     "text": [
      "Loss: 0.0\n",
      "Hyper Val Acc: 0.6687116564417178\n",
      "Hyper Val Loss: 0.0\n",
      "Epoch 30:\n",
      "----------\n"
     ]
    },
    {
     "data": {
      "application/vnd.jupyter.widget-view+json": {
       "model_id": "b5bc7ab3fdcb416ebd61cb32d593fd2b",
       "version_major": 2,
       "version_minor": 0
      },
      "text/plain": [
       "HBox(children=(FloatProgress(value=0.0, max=26.0), HTML(value='')))"
      ]
     },
     "metadata": {},
     "output_type": "display_data"
    },
    {
     "name": "stdout",
     "output_type": "stream",
     "text": [
      "Loss: 0.0\n",
      "Hyper Val Acc: 0.6687116564417178\n",
      "Hyper Val Loss: 0.0\n",
      "Epoch 31:\n",
      "----------\n"
     ]
    },
    {
     "data": {
      "application/vnd.jupyter.widget-view+json": {
       "model_id": "747c2ea36a0a414083f8056ce66ed5e0",
       "version_major": 2,
       "version_minor": 0
      },
      "text/plain": [
       "HBox(children=(FloatProgress(value=0.0, max=26.0), HTML(value='')))"
      ]
     },
     "metadata": {},
     "output_type": "display_data"
    },
    {
     "name": "stdout",
     "output_type": "stream",
     "text": [
      "Loss: 0.0\n",
      "Hyper Val Acc: 0.6687116564417178\n",
      "Hyper Val Loss: 0.0\n",
      "Epoch 32:\n",
      "----------\n"
     ]
    },
    {
     "data": {
      "application/vnd.jupyter.widget-view+json": {
       "model_id": "13e9d9219b1240ddb1eaef443f8cedf3",
       "version_major": 2,
       "version_minor": 0
      },
      "text/plain": [
       "HBox(children=(FloatProgress(value=0.0, max=26.0), HTML(value='')))"
      ]
     },
     "metadata": {},
     "output_type": "display_data"
    },
    {
     "name": "stdout",
     "output_type": "stream",
     "text": [
      "Loss: 0.0\n",
      "Hyper Val Acc: 0.6687116564417178\n",
      "Hyper Val Loss: 0.0\n",
      "Epoch 33:\n",
      "----------\n"
     ]
    },
    {
     "data": {
      "application/vnd.jupyter.widget-view+json": {
       "model_id": "8c81ff9886f84c8e9f78cf09800a9433",
       "version_major": 2,
       "version_minor": 0
      },
      "text/plain": [
       "HBox(children=(FloatProgress(value=0.0, max=26.0), HTML(value='')))"
      ]
     },
     "metadata": {},
     "output_type": "display_data"
    },
    {
     "name": "stdout",
     "output_type": "stream",
     "text": [
      "Loss: 0.0\n",
      "Hyper Val Acc: 0.6687116564417178\n",
      "Hyper Val Loss: 0.0\n",
      "Epoch 34:\n",
      "----------\n"
     ]
    },
    {
     "data": {
      "application/vnd.jupyter.widget-view+json": {
       "model_id": "5948d88b65624aa788bd4f80dc64dd14",
       "version_major": 2,
       "version_minor": 0
      },
      "text/plain": [
       "HBox(children=(FloatProgress(value=0.0, max=26.0), HTML(value='')))"
      ]
     },
     "metadata": {},
     "output_type": "display_data"
    },
    {
     "name": "stdout",
     "output_type": "stream",
     "text": [
      "Loss: 0.0\n",
      "Hyper Val Acc: 0.6687116564417178\n",
      "Hyper Val Loss: 0.0\n",
      "Epoch 35:\n",
      "----------\n"
     ]
    },
    {
     "data": {
      "application/vnd.jupyter.widget-view+json": {
       "model_id": "04491fe950de4d118dc569d4e69d4166",
       "version_major": 2,
       "version_minor": 0
      },
      "text/plain": [
       "HBox(children=(FloatProgress(value=0.0, max=26.0), HTML(value='')))"
      ]
     },
     "metadata": {},
     "output_type": "display_data"
    },
    {
     "name": "stdout",
     "output_type": "stream",
     "text": [
      "Loss: 0.0\n",
      "Hyper Val Acc: 0.6687116564417178\n",
      "Hyper Val Loss: 0.0\n",
      "Epoch 36:\n",
      "----------\n"
     ]
    },
    {
     "data": {
      "application/vnd.jupyter.widget-view+json": {
       "model_id": "439d56d82a1345718fc0264cd8442919",
       "version_major": 2,
       "version_minor": 0
      },
      "text/plain": [
       "HBox(children=(FloatProgress(value=0.0, max=26.0), HTML(value='')))"
      ]
     },
     "metadata": {},
     "output_type": "display_data"
    },
    {
     "name": "stdout",
     "output_type": "stream",
     "text": [
      "Loss: 0.0\n",
      "Hyper Val Acc: 0.6687116564417178\n",
      "Hyper Val Loss: 0.0\n",
      "Epoch 37:\n",
      "----------\n"
     ]
    },
    {
     "data": {
      "application/vnd.jupyter.widget-view+json": {
       "model_id": "8a4fc06591cd4f7886c40f24c9100311",
       "version_major": 2,
       "version_minor": 0
      },
      "text/plain": [
       "HBox(children=(FloatProgress(value=0.0, max=26.0), HTML(value='')))"
      ]
     },
     "metadata": {},
     "output_type": "display_data"
    },
    {
     "name": "stdout",
     "output_type": "stream",
     "text": [
      "Loss: 0.0\n",
      "Hyper Val Acc: 0.6687116564417178\n",
      "Hyper Val Loss: 0.0\n",
      "Epoch 38:\n",
      "----------\n"
     ]
    },
    {
     "data": {
      "application/vnd.jupyter.widget-view+json": {
       "model_id": "2708334aeb2b422cb9405518d7b71f0d",
       "version_major": 2,
       "version_minor": 0
      },
      "text/plain": [
       "HBox(children=(FloatProgress(value=0.0, max=26.0), HTML(value='')))"
      ]
     },
     "metadata": {},
     "output_type": "display_data"
    },
    {
     "name": "stdout",
     "output_type": "stream",
     "text": [
      "Loss: 0.0\n",
      "Hyper Val Acc: 0.6687116564417178\n",
      "Hyper Val Loss: 0.0\n",
      "Epoch 39:\n",
      "----------\n"
     ]
    },
    {
     "data": {
      "application/vnd.jupyter.widget-view+json": {
       "model_id": "c47eb62e47a847c9a867dfd1e2c1b5fd",
       "version_major": 2,
       "version_minor": 0
      },
      "text/plain": [
       "HBox(children=(FloatProgress(value=0.0, max=26.0), HTML(value='')))"
      ]
     },
     "metadata": {},
     "output_type": "display_data"
    },
    {
     "name": "stdout",
     "output_type": "stream",
     "text": [
      "Loss: 0.0\n",
      "Hyper Val Acc: 0.6687116564417178\n",
      "Hyper Val Loss: 0.0\n",
      "Epoch 40:\n",
      "----------\n"
     ]
    },
    {
     "data": {
      "application/vnd.jupyter.widget-view+json": {
       "model_id": "033be0bf52e6410b9c6221f966362298",
       "version_major": 2,
       "version_minor": 0
      },
      "text/plain": [
       "HBox(children=(FloatProgress(value=0.0, max=26.0), HTML(value='')))"
      ]
     },
     "metadata": {},
     "output_type": "display_data"
    },
    {
     "name": "stdout",
     "output_type": "stream",
     "text": [
      "Loss: 0.0\n",
      "Hyper Val Acc: 0.6687116564417178\n",
      "Hyper Val Loss: 0.0\n",
      "Epoch 41:\n",
      "----------\n"
     ]
    },
    {
     "data": {
      "application/vnd.jupyter.widget-view+json": {
       "model_id": "64acbff153ee43a981b54371ea8ea91d",
       "version_major": 2,
       "version_minor": 0
      },
      "text/plain": [
       "HBox(children=(FloatProgress(value=0.0, max=26.0), HTML(value='')))"
      ]
     },
     "metadata": {},
     "output_type": "display_data"
    },
    {
     "name": "stdout",
     "output_type": "stream",
     "text": [
      "Loss: 0.0\n",
      "Hyper Val Acc: 0.6687116564417178\n",
      "Hyper Val Loss: 0.0\n",
      "Epoch 42:\n",
      "----------\n"
     ]
    },
    {
     "data": {
      "application/vnd.jupyter.widget-view+json": {
       "model_id": "569fb83f858443dfa23b102eb0eab31c",
       "version_major": 2,
       "version_minor": 0
      },
      "text/plain": [
       "HBox(children=(FloatProgress(value=0.0, max=26.0), HTML(value='')))"
      ]
     },
     "metadata": {},
     "output_type": "display_data"
    },
    {
     "name": "stdout",
     "output_type": "stream",
     "text": [
      "Loss: 0.0\n",
      "Hyper Val Acc: 0.6687116564417178\n",
      "Hyper Val Loss: 0.0\n",
      "Epoch 43:\n",
      "----------\n"
     ]
    },
    {
     "data": {
      "application/vnd.jupyter.widget-view+json": {
       "model_id": "01b5c2245dc643e9a55951fa12b8b1f8",
       "version_major": 2,
       "version_minor": 0
      },
      "text/plain": [
       "HBox(children=(FloatProgress(value=0.0, max=26.0), HTML(value='')))"
      ]
     },
     "metadata": {},
     "output_type": "display_data"
    },
    {
     "name": "stdout",
     "output_type": "stream",
     "text": [
      "Loss: 0.0\n",
      "Hyper Val Acc: 0.6687116564417178\n",
      "Hyper Val Loss: 0.0\n",
      "Epoch 44:\n",
      "----------\n"
     ]
    },
    {
     "data": {
      "application/vnd.jupyter.widget-view+json": {
       "model_id": "422eecc2e38240209459a08c43f72be0",
       "version_major": 2,
       "version_minor": 0
      },
      "text/plain": [
       "HBox(children=(FloatProgress(value=0.0, max=26.0), HTML(value='')))"
      ]
     },
     "metadata": {},
     "output_type": "display_data"
    },
    {
     "name": "stdout",
     "output_type": "stream",
     "text": [
      "Loss: 0.0\n",
      "Hyper Val Acc: 0.6687116564417178\n",
      "Hyper Val Loss: 0.0\n",
      "Epoch 45:\n",
      "----------\n"
     ]
    },
    {
     "data": {
      "application/vnd.jupyter.widget-view+json": {
       "model_id": "df2a29ac292340e4967d3ac51746f57d",
       "version_major": 2,
       "version_minor": 0
      },
      "text/plain": [
       "HBox(children=(FloatProgress(value=0.0, max=26.0), HTML(value='')))"
      ]
     },
     "metadata": {},
     "output_type": "display_data"
    },
    {
     "name": "stdout",
     "output_type": "stream",
     "text": [
      "Loss: 0.0\n",
      "Hyper Val Acc: 0.6687116564417178\n",
      "Hyper Val Loss: 0.0\n",
      "Epoch 46:\n",
      "----------\n"
     ]
    },
    {
     "data": {
      "application/vnd.jupyter.widget-view+json": {
       "model_id": "0992385ba71449bab282c777ea71fe3d",
       "version_major": 2,
       "version_minor": 0
      },
      "text/plain": [
       "HBox(children=(FloatProgress(value=0.0, max=26.0), HTML(value='')))"
      ]
     },
     "metadata": {},
     "output_type": "display_data"
    },
    {
     "name": "stdout",
     "output_type": "stream",
     "text": [
      "Loss: 0.0\n",
      "Hyper Val Acc: 0.6687116564417178\n",
      "Hyper Val Loss: 0.0\n",
      "Epoch 47:\n",
      "----------\n"
     ]
    },
    {
     "data": {
      "application/vnd.jupyter.widget-view+json": {
       "model_id": "0f52999c356b4e198ee129268328fa54",
       "version_major": 2,
       "version_minor": 0
      },
      "text/plain": [
       "HBox(children=(FloatProgress(value=0.0, max=26.0), HTML(value='')))"
      ]
     },
     "metadata": {},
     "output_type": "display_data"
    },
    {
     "name": "stdout",
     "output_type": "stream",
     "text": [
      "Loss: 0.0\n",
      "Hyper Val Acc: 0.6687116564417178\n",
      "Hyper Val Loss: 0.0\n",
      "Epoch 48:\n",
      "----------\n"
     ]
    },
    {
     "data": {
      "application/vnd.jupyter.widget-view+json": {
       "model_id": "5966aab8f66a4747a8ebfdc2541c5d41",
       "version_major": 2,
       "version_minor": 0
      },
      "text/plain": [
       "HBox(children=(FloatProgress(value=0.0, max=26.0), HTML(value='')))"
      ]
     },
     "metadata": {},
     "output_type": "display_data"
    },
    {
     "name": "stdout",
     "output_type": "stream",
     "text": [
      "Loss: 0.0\n",
      "Hyper Val Acc: 0.6687116564417178\n",
      "Hyper Val Loss: 0.0\n",
      "Epoch 49:\n",
      "----------\n"
     ]
    },
    {
     "data": {
      "application/vnd.jupyter.widget-view+json": {
       "model_id": "dcaf085a485b405d8c57f0417fd0ae40",
       "version_major": 2,
       "version_minor": 0
      },
      "text/plain": [
       "HBox(children=(FloatProgress(value=0.0, max=26.0), HTML(value='')))"
      ]
     },
     "metadata": {},
     "output_type": "display_data"
    },
    {
     "name": "stdout",
     "output_type": "stream",
     "text": [
      "Loss: 0.0\n",
      "Hyper Val Acc: 0.6687116564417178\n",
      "Hyper Val Loss: 0.0\n",
      "Epoch 50:\n",
      "----------\n"
     ]
    },
    {
     "data": {
      "application/vnd.jupyter.widget-view+json": {
       "model_id": "eff0d767754c4b97b8850b5d505ddbb4",
       "version_major": 2,
       "version_minor": 0
      },
      "text/plain": [
       "HBox(children=(FloatProgress(value=0.0, max=26.0), HTML(value='')))"
      ]
     },
     "metadata": {},
     "output_type": "display_data"
    },
    {
     "name": "stdout",
     "output_type": "stream",
     "text": [
      "Loss: 0.0\n",
      "Hyper Val Acc: 0.6687116564417178\n",
      "Hyper Val Loss: 0.0\n",
      "Epoch 51:\n",
      "----------\n"
     ]
    },
    {
     "data": {
      "application/vnd.jupyter.widget-view+json": {
       "model_id": "64b223e5c3654254842f2b798e0dba6a",
       "version_major": 2,
       "version_minor": 0
      },
      "text/plain": [
       "HBox(children=(FloatProgress(value=0.0, max=26.0), HTML(value='')))"
      ]
     },
     "metadata": {},
     "output_type": "display_data"
    },
    {
     "name": "stdout",
     "output_type": "stream",
     "text": [
      "Loss: 0.0\n",
      "Hyper Val Acc: 0.6687116564417178\n",
      "Hyper Val Loss: 0.0\n",
      "Epoch 52:\n",
      "----------\n"
     ]
    },
    {
     "data": {
      "application/vnd.jupyter.widget-view+json": {
       "model_id": "b412d283e1b946c5b494cf0064617d72",
       "version_major": 2,
       "version_minor": 0
      },
      "text/plain": [
       "HBox(children=(FloatProgress(value=0.0, max=26.0), HTML(value='')))"
      ]
     },
     "metadata": {},
     "output_type": "display_data"
    },
    {
     "name": "stdout",
     "output_type": "stream",
     "text": [
      "Loss: 0.0\n",
      "Hyper Val Acc: 0.6687116564417178\n",
      "Hyper Val Loss: 0.0\n",
      "Epoch 53:\n",
      "----------\n"
     ]
    },
    {
     "data": {
      "application/vnd.jupyter.widget-view+json": {
       "model_id": "b806bce0e0734fec8a294c74022b1371",
       "version_major": 2,
       "version_minor": 0
      },
      "text/plain": [
       "HBox(children=(FloatProgress(value=0.0, max=26.0), HTML(value='')))"
      ]
     },
     "metadata": {},
     "output_type": "display_data"
    },
    {
     "name": "stdout",
     "output_type": "stream",
     "text": [
      "Loss: 0.0\n",
      "Hyper Val Acc: 0.6687116564417178\n",
      "Hyper Val Loss: 0.0\n",
      "Epoch 54:\n",
      "----------\n"
     ]
    },
    {
     "data": {
      "application/vnd.jupyter.widget-view+json": {
       "model_id": "93bcdc6503344004bb7185e876372873",
       "version_major": 2,
       "version_minor": 0
      },
      "text/plain": [
       "HBox(children=(FloatProgress(value=0.0, max=26.0), HTML(value='')))"
      ]
     },
     "metadata": {},
     "output_type": "display_data"
    },
    {
     "name": "stdout",
     "output_type": "stream",
     "text": [
      "Loss: 0.0\n",
      "Hyper Val Acc: 0.6687116564417178\n",
      "Hyper Val Loss: 0.0\n",
      "Epoch 55:\n",
      "----------\n"
     ]
    },
    {
     "data": {
      "application/vnd.jupyter.widget-view+json": {
       "model_id": "e791624f361d451bb3af78b2b8edc7b3",
       "version_major": 2,
       "version_minor": 0
      },
      "text/plain": [
       "HBox(children=(FloatProgress(value=0.0, max=26.0), HTML(value='')))"
      ]
     },
     "metadata": {},
     "output_type": "display_data"
    },
    {
     "name": "stdout",
     "output_type": "stream",
     "text": [
      "Loss: 0.0\n",
      "Hyper Val Acc: 0.6687116564417178\n",
      "Hyper Val Loss: 0.0\n",
      "Epoch 56:\n",
      "----------\n"
     ]
    },
    {
     "data": {
      "application/vnd.jupyter.widget-view+json": {
       "model_id": "56594a544f7d45839bb6ad89564cea73",
       "version_major": 2,
       "version_minor": 0
      },
      "text/plain": [
       "HBox(children=(FloatProgress(value=0.0, max=26.0), HTML(value='')))"
      ]
     },
     "metadata": {},
     "output_type": "display_data"
    },
    {
     "name": "stdout",
     "output_type": "stream",
     "text": [
      "Loss: 0.0\n",
      "Hyper Val Acc: 0.6687116564417178\n",
      "Hyper Val Loss: 0.0\n",
      "Epoch 57:\n",
      "----------\n"
     ]
    },
    {
     "data": {
      "application/vnd.jupyter.widget-view+json": {
       "model_id": "2cb27d98cf73467481e7d0ea1010657e",
       "version_major": 2,
       "version_minor": 0
      },
      "text/plain": [
       "HBox(children=(FloatProgress(value=0.0, max=26.0), HTML(value='')))"
      ]
     },
     "metadata": {},
     "output_type": "display_data"
    },
    {
     "name": "stdout",
     "output_type": "stream",
     "text": [
      "Loss: 0.0\n",
      "Hyper Val Acc: 0.6687116564417178\n",
      "Hyper Val Loss: 0.0\n",
      "Epoch 58:\n",
      "----------\n"
     ]
    },
    {
     "data": {
      "application/vnd.jupyter.widget-view+json": {
       "model_id": "dbf096be09a0497fb10f59fc36ddabee",
       "version_major": 2,
       "version_minor": 0
      },
      "text/plain": [
       "HBox(children=(FloatProgress(value=0.0, max=26.0), HTML(value='')))"
      ]
     },
     "metadata": {},
     "output_type": "display_data"
    },
    {
     "name": "stdout",
     "output_type": "stream",
     "text": [
      "Loss: 0.0\n",
      "Hyper Val Acc: 0.6687116564417178\n",
      "Hyper Val Loss: 0.0\n",
      "Epoch 59:\n",
      "----------\n"
     ]
    },
    {
     "data": {
      "application/vnd.jupyter.widget-view+json": {
       "model_id": "5b8837be24154af98e98e117133a6098",
       "version_major": 2,
       "version_minor": 0
      },
      "text/plain": [
       "HBox(children=(FloatProgress(value=0.0, max=26.0), HTML(value='')))"
      ]
     },
     "metadata": {},
     "output_type": "display_data"
    },
    {
     "name": "stdout",
     "output_type": "stream",
     "text": [
      "Loss: 0.0\n",
      "Hyper Val Acc: 0.6687116564417178\n",
      "Hyper Val Loss: 0.0\n",
      "Epoch 60:\n",
      "----------\n"
     ]
    },
    {
     "data": {
      "application/vnd.jupyter.widget-view+json": {
       "model_id": "2614a78f49a24b97b810f5dc8d45348e",
       "version_major": 2,
       "version_minor": 0
      },
      "text/plain": [
       "HBox(children=(FloatProgress(value=0.0, max=26.0), HTML(value='')))"
      ]
     },
     "metadata": {},
     "output_type": "display_data"
    },
    {
     "name": "stdout",
     "output_type": "stream",
     "text": [
      "Loss: 0.0\n",
      "Hyper Val Acc: 0.6687116564417178\n",
      "Hyper Val Loss: 0.0\n",
      "Epoch 61:\n",
      "----------\n"
     ]
    },
    {
     "data": {
      "application/vnd.jupyter.widget-view+json": {
       "model_id": "997aed2a28844c19bc88ec77a040b5df",
       "version_major": 2,
       "version_minor": 0
      },
      "text/plain": [
       "HBox(children=(FloatProgress(value=0.0, max=26.0), HTML(value='')))"
      ]
     },
     "metadata": {},
     "output_type": "display_data"
    },
    {
     "name": "stdout",
     "output_type": "stream",
     "text": [
      "Loss: 0.0\n",
      "Hyper Val Acc: 0.6687116564417178\n",
      "Hyper Val Loss: 0.0\n",
      "Epoch 62:\n",
      "----------\n"
     ]
    },
    {
     "data": {
      "application/vnd.jupyter.widget-view+json": {
       "model_id": "10de3a1153de4880a2dfe86943b964ed",
       "version_major": 2,
       "version_minor": 0
      },
      "text/plain": [
       "HBox(children=(FloatProgress(value=0.0, max=26.0), HTML(value='')))"
      ]
     },
     "metadata": {},
     "output_type": "display_data"
    },
    {
     "name": "stdout",
     "output_type": "stream",
     "text": [
      "Loss: 0.0\n",
      "Hyper Val Acc: 0.6687116564417178\n",
      "Hyper Val Loss: 0.0\n",
      "Epoch 63:\n",
      "----------\n"
     ]
    },
    {
     "data": {
      "application/vnd.jupyter.widget-view+json": {
       "model_id": "8e49d95ab8dd4d0a83a765d9a4a61759",
       "version_major": 2,
       "version_minor": 0
      },
      "text/plain": [
       "HBox(children=(FloatProgress(value=0.0, max=26.0), HTML(value='')))"
      ]
     },
     "metadata": {},
     "output_type": "display_data"
    },
    {
     "name": "stdout",
     "output_type": "stream",
     "text": [
      "Loss: 0.0\n",
      "Hyper Val Acc: 0.6687116564417178\n",
      "Hyper Val Loss: 0.0\n",
      "Epoch 64:\n",
      "----------\n"
     ]
    },
    {
     "data": {
      "application/vnd.jupyter.widget-view+json": {
       "model_id": "58db6e187f89462bb6e169d01cd3903b",
       "version_major": 2,
       "version_minor": 0
      },
      "text/plain": [
       "HBox(children=(FloatProgress(value=0.0, max=26.0), HTML(value='')))"
      ]
     },
     "metadata": {},
     "output_type": "display_data"
    },
    {
     "name": "stdout",
     "output_type": "stream",
     "text": [
      "Loss: 0.0\n",
      "Hyper Val Acc: 0.6687116564417178\n",
      "Hyper Val Loss: 0.0\n",
      "Epoch 65:\n",
      "----------\n"
     ]
    },
    {
     "data": {
      "application/vnd.jupyter.widget-view+json": {
       "model_id": "b01b787221ef4968ba7e7b2bf7564860",
       "version_major": 2,
       "version_minor": 0
      },
      "text/plain": [
       "HBox(children=(FloatProgress(value=0.0, max=26.0), HTML(value='')))"
      ]
     },
     "metadata": {},
     "output_type": "display_data"
    },
    {
     "name": "stdout",
     "output_type": "stream",
     "text": [
      "Loss: 0.0\n",
      "Hyper Val Acc: 0.6687116564417178\n",
      "Hyper Val Loss: 0.0\n",
      "Epoch 66:\n",
      "----------\n"
     ]
    },
    {
     "data": {
      "application/vnd.jupyter.widget-view+json": {
       "model_id": "c4bc17d4a1d844a889f4168671c0edbe",
       "version_major": 2,
       "version_minor": 0
      },
      "text/plain": [
       "HBox(children=(FloatProgress(value=0.0, max=26.0), HTML(value='')))"
      ]
     },
     "metadata": {},
     "output_type": "display_data"
    },
    {
     "name": "stdout",
     "output_type": "stream",
     "text": [
      "Loss: 0.0\n",
      "Hyper Val Acc: 0.6687116564417178\n",
      "Hyper Val Loss: 0.0\n",
      "Epoch 67:\n",
      "----------\n"
     ]
    },
    {
     "data": {
      "application/vnd.jupyter.widget-view+json": {
       "model_id": "0fceab76ca1f48e4ad76aeda1e15014d",
       "version_major": 2,
       "version_minor": 0
      },
      "text/plain": [
       "HBox(children=(FloatProgress(value=0.0, max=26.0), HTML(value='')))"
      ]
     },
     "metadata": {},
     "output_type": "display_data"
    },
    {
     "name": "stdout",
     "output_type": "stream",
     "text": [
      "Loss: 0.0\n",
      "Hyper Val Acc: 0.6687116564417178\n",
      "Hyper Val Loss: 0.0\n",
      "Epoch 68:\n",
      "----------\n"
     ]
    },
    {
     "data": {
      "application/vnd.jupyter.widget-view+json": {
       "model_id": "c595c20a1eca480a8296ff705599b3df",
       "version_major": 2,
       "version_minor": 0
      },
      "text/plain": [
       "HBox(children=(FloatProgress(value=0.0, max=26.0), HTML(value='')))"
      ]
     },
     "metadata": {},
     "output_type": "display_data"
    },
    {
     "name": "stdout",
     "output_type": "stream",
     "text": [
      "Loss: 0.0\n",
      "Hyper Val Acc: 0.6687116564417178\n",
      "Hyper Val Loss: 0.0\n",
      "Epoch 69:\n",
      "----------\n"
     ]
    },
    {
     "data": {
      "application/vnd.jupyter.widget-view+json": {
       "model_id": "5e33806834f74996bed42f8946bf3045",
       "version_major": 2,
       "version_minor": 0
      },
      "text/plain": [
       "HBox(children=(FloatProgress(value=0.0, max=26.0), HTML(value='')))"
      ]
     },
     "metadata": {},
     "output_type": "display_data"
    },
    {
     "name": "stdout",
     "output_type": "stream",
     "text": [
      "Loss: 0.0\n",
      "Hyper Val Acc: 0.6687116564417178\n",
      "Hyper Val Loss: 0.0\n",
      "Epoch 70:\n",
      "----------\n"
     ]
    },
    {
     "data": {
      "application/vnd.jupyter.widget-view+json": {
       "model_id": "b04a6d3d1e844f6fb5900c974a831802",
       "version_major": 2,
       "version_minor": 0
      },
      "text/plain": [
       "HBox(children=(FloatProgress(value=0.0, max=26.0), HTML(value='')))"
      ]
     },
     "metadata": {},
     "output_type": "display_data"
    },
    {
     "name": "stdout",
     "output_type": "stream",
     "text": [
      "Loss: 0.0\n",
      "Hyper Val Acc: 0.6687116564417178\n",
      "Hyper Val Loss: 0.0\n",
      "Epoch 71:\n",
      "----------\n"
     ]
    },
    {
     "data": {
      "application/vnd.jupyter.widget-view+json": {
       "model_id": "75793184ca684e9cae8f9347b75f923e",
       "version_major": 2,
       "version_minor": 0
      },
      "text/plain": [
       "HBox(children=(FloatProgress(value=0.0, max=26.0), HTML(value='')))"
      ]
     },
     "metadata": {},
     "output_type": "display_data"
    },
    {
     "name": "stdout",
     "output_type": "stream",
     "text": [
      "Loss: 0.0\n",
      "Hyper Val Acc: 0.6687116564417178\n",
      "Hyper Val Loss: 0.0\n",
      "Epoch 72:\n",
      "----------\n"
     ]
    },
    {
     "data": {
      "application/vnd.jupyter.widget-view+json": {
       "model_id": "cafc439098d94ae385ace0aeabaa6b1b",
       "version_major": 2,
       "version_minor": 0
      },
      "text/plain": [
       "HBox(children=(FloatProgress(value=0.0, max=26.0), HTML(value='')))"
      ]
     },
     "metadata": {},
     "output_type": "display_data"
    },
    {
     "name": "stdout",
     "output_type": "stream",
     "text": [
      "Loss: 0.0\n",
      "Hyper Val Acc: 0.6687116564417178\n",
      "Hyper Val Loss: 0.0\n",
      "Epoch 73:\n",
      "----------\n"
     ]
    },
    {
     "data": {
      "application/vnd.jupyter.widget-view+json": {
       "model_id": "b8cb385e921a47c287de3b727323e955",
       "version_major": 2,
       "version_minor": 0
      },
      "text/plain": [
       "HBox(children=(FloatProgress(value=0.0, max=26.0), HTML(value='')))"
      ]
     },
     "metadata": {},
     "output_type": "display_data"
    },
    {
     "name": "stdout",
     "output_type": "stream",
     "text": [
      "Loss: 0.0\n",
      "Hyper Val Acc: 0.6687116564417178\n",
      "Hyper Val Loss: 0.0\n",
      "Epoch 74:\n",
      "----------\n"
     ]
    },
    {
     "data": {
      "application/vnd.jupyter.widget-view+json": {
       "model_id": "ecf48cf97d23468682fd8a726b4fdf3d",
       "version_major": 2,
       "version_minor": 0
      },
      "text/plain": [
       "HBox(children=(FloatProgress(value=0.0, max=26.0), HTML(value='')))"
      ]
     },
     "metadata": {},
     "output_type": "display_data"
    },
    {
     "name": "stdout",
     "output_type": "stream",
     "text": [
      "Loss: 0.0\n",
      "Hyper Val Acc: 0.6687116564417178\n",
      "Hyper Val Loss: 0.0\n"
     ]
    }
   ],
   "source": [
    "best_loss = float('inf')\n",
    "LRW_MODEL_SAVEPATH = utils.utils.get_savepath(MODELS_DIR, \"adult\", \".h5\", mt=\"lrw\")\n",
    "\n",
    "total_batches = len(x_train) // BATCH_SIZE \n",
    "if total_batches * BATCH_SIZE < len(x_train):\n",
    "    # this usually happens as // operator rounds down\n",
    "    # we want total_batches * BATCH_SIZE >= len(x_train)\n",
    "    total_batches += 1\n",
    "    \n",
    "# custom train loop\n",
    "for epoch in range(EPOCHS):\n",
    "    # implements a train loop\n",
    "    print(f\"Epoch {epoch}:\\n----------\")\n",
    "    \n",
    "    loss_sum = 0\n",
    "    for i in tqdm(range(total_batches)):\n",
    "        # grab the batch and labels\n",
    "        batch = x_train[i * BATCH_SIZE : i * BATCH_SIZE + BATCH_SIZE]\n",
    "        labels = y_train[i * BATCH_SIZE : i * BATCH_SIZE + BATCH_SIZE]\n",
    "        \n",
    "        # most of the details are abstracted away in this function\n",
    "        loss = utils.papers.train_step(model, batch, labels, x_val, y_val, ce, optimizer)\n",
    "        loss_sum += loss\n",
    "\n",
    "        # print ongoing avg loss\n",
    "        print(f\"Loss: {loss_sum / i}\", end='\\r')\n",
    "    \n",
    "    # compute validation accuracy\n",
    "    preds = utils.utils.compute_preds(\n",
    "        model,\n",
    "        x_hyper_val,\n",
    "        batch_size=BATCH_SIZE,\n",
    "    )\n",
    "    val_acc = (np.argmax(preds, axis=1) == np.argwhere(y_hyper_val)[:,1]).mean()\n",
    "    loss_avg = loss_sum / total_batches\n",
    "    \n",
    "    print(f\"Hyper Val Acc: {val_acc}\")\n",
    "    print(f\"Hyper Val Loss: {loss_avg}\")\n",
    "    \n",
    "    # implements save best logic\n",
    "    if loss_avg < best_loss:\n",
    "        best_loss = loss_avg\n",
    "        print(f\"Saving new best weights to {LRW_MODEL_SAVEPATH}\")\n",
    "        model.save_weights(\n",
    "            filepath=LRW_MODEL_SAVEPATH,\n",
    "            save_format=\"h5\",\n",
    "        )"
   ]
  },
  {
   "cell_type": "code",
   "execution_count": 36,
   "metadata": {},
   "outputs": [],
   "source": [
    "model.load_weights(LRW_MODEL_SAVEPATH)"
   ]
  },
  {
   "cell_type": "code",
   "execution_count": 37,
   "metadata": {},
   "outputs": [
    {
     "data": {
      "text/plain": [
       "0.6687116564417178"
      ]
     },
     "execution_count": 37,
     "metadata": {},
     "output_type": "execute_result"
    }
   ],
   "source": [
    "# hyper val acc\n",
    "preds_hyper_val = utils.utils.compute_preds(\n",
    "    model,\n",
    "    x_hyper_val,\n",
    "    batch_size=BATCH_SIZE,\n",
    ")\n",
    "(np.argmax(preds_hyper_val, axis=1) == np.argwhere(y_hyper_val)[:,1]).mean()"
   ]
  },
  {
   "cell_type": "code",
   "execution_count": 38,
   "metadata": {},
   "outputs": [
    {
     "data": {
      "text/plain": [
       "0.634722657474146"
      ]
     },
     "execution_count": 38,
     "metadata": {},
     "output_type": "execute_result"
    }
   ],
   "source": [
    "# test acc\n",
    "preds_test = utils.utils.compute_preds(\n",
    "    model,\n",
    "    x_test,\n",
    "    batch_size=BATCH_SIZE,\n",
    ")\n",
    "(np.argmax(preds_test, axis=1) == np.argwhere(y_test)[:,1]).mean()"
   ]
  },
  {
   "cell_type": "code",
   "execution_count": null,
   "metadata": {},
   "outputs": [],
   "source": []
  },
  {
   "cell_type": "markdown",
   "metadata": {},
   "source": [
    "# Baseline 3: Kernel Mean Matching\n",
    "\n",
    "Paper: https://papers.nips.cc/paper/2006/file/a2186aa7c086b46ad4e8bf81e2a3a19b-Paper.pdf"
   ]
  },
  {
   "cell_type": "code",
   "execution_count": 39,
   "metadata": {},
   "outputs": [
    {
     "name": "stdout",
     "output_type": "stream",
     "text": [
      "(0-2500)\n",
      "     pcost       dcost       gap    pres   dres\n",
      " 0: -1.5988e+07 -1.6112e+07  2e+06  1e-01  6e-16\n",
      " 1: -1.5985e+07 -1.6077e+07  4e+05  2e-02  7e-16\n",
      " 2: -1.5978e+07 -1.6026e+07  2e+05  1e-02  5e-16\n",
      " 3: -1.5964e+07 -1.5974e+07  9e+04  5e-03  5e-16\n",
      " 4: -1.5952e+07 -1.5950e+07  7e+04  3e-03  6e-16\n",
      " 5: -1.5943e+07 -1.5937e+07  6e+04  2e-03  4e-16\n",
      " 6: -1.5937e+07 -1.5932e+07  5e+04  2e-03  5e-16\n",
      " 7: -1.5927e+07 -1.5921e+07  4e+04  1e-03  5e-16\n",
      " 8: -1.5921e+07 -1.5917e+07  4e+04  1e-03  4e-16\n",
      " 9: -1.5916e+07 -1.5914e+07  3e+04  8e-04  5e-16\n",
      "10: -1.5913e+07 -1.5913e+07  3e+04  7e-04  6e-16\n",
      "11: -1.5909e+07 -1.5911e+07  3e+04  5e-04  5e-16\n",
      "12: -1.5906e+07 -1.5909e+07  2e+04  4e-04  4e-16\n",
      "13: -1.5904e+07 -1.5907e+07  2e+04  3e-04  5e-16\n",
      "14: -1.5901e+07 -1.5903e+07  7e+03  1e-04  5e-16\n",
      "15: -1.5900e+07 -1.5901e+07  2e+03  2e-05  7e-16\n",
      "16: -1.5900e+07 -1.5900e+07  5e+02  5e-06  6e-16\n",
      "17: -1.5900e+07 -1.5900e+07  2e+02  4e-16  1e-15\n",
      "18: -1.5900e+07 -1.5900e+07  2e+01  5e-16  2e-15\n",
      "19: -1.5900e+07 -1.5900e+07  3e-01  2e-15  3e-15\n",
      "Optimal solution found.\n",
      "(2500-5000)\n",
      "     pcost       dcost       gap    pres   dres\n",
      " 0: -1.5988e+07 -1.6113e+07  2e+06  1e-01  6e-16\n",
      " 1: -1.5985e+07 -1.6082e+07  4e+05  3e-02  6e-16\n",
      " 2: -1.5979e+07 -1.6028e+07  2e+05  1e-02  5e-16\n",
      " 3: -1.5967e+07 -1.5979e+07  9e+04  5e-03  6e-16\n",
      " 4: -1.5955e+07 -1.5955e+07  6e+04  3e-03  5e-16\n",
      " 5: -1.5946e+07 -1.5943e+07  5e+04  2e-03  5e-16\n",
      " 6: -1.5941e+07 -1.5938e+07  5e+04  2e-03  5e-16\n",
      " 7: -1.5933e+07 -1.5929e+07  3e+04  1e-03  5e-16\n",
      " 8: -1.5929e+07 -1.5926e+07  3e+04  1e-03  5e-16\n",
      " 9: -1.5925e+07 -1.5925e+07  3e+04  8e-04  5e-16\n",
      "10: -1.5922e+07 -1.5923e+07  3e+04  7e-04  5e-16\n",
      "11: -1.5918e+07 -1.5920e+07  2e+04  5e-04  5e-16\n",
      "12: -1.5915e+07 -1.5918e+07  2e+04  3e-04  5e-16\n",
      "13: -1.5913e+07 -1.5916e+07  1e+04  2e-04  5e-16\n",
      "14: -1.5911e+07 -1.5912e+07  4e+03  6e-05  6e-16\n",
      "15: -1.5910e+07 -1.5911e+07  4e+02  5e-06  6e-16\n",
      "16: -1.5910e+07 -1.5910e+07  4e+01  5e-07  6e-16\n",
      "17: -1.5910e+07 -1.5910e+07  5e-01  5e-09  9e-16\n",
      "Optimal solution found.\n",
      "(5000-7500)\n",
      "     pcost       dcost       gap    pres   dres\n",
      " 0: -1.5988e+07 -1.6113e+07  2e+06  1e-01  7e-16\n",
      " 1: -1.5985e+07 -1.6077e+07  4e+05  3e-02  6e-16\n",
      " 2: -1.5979e+07 -1.6026e+07  2e+05  1e-02  6e-16\n",
      " 3: -1.5966e+07 -1.5979e+07  1e+05  6e-03  5e-16\n",
      " 4: -1.5952e+07 -1.5950e+07  7e+04  3e-03  5e-16\n",
      " 5: -1.5944e+07 -1.5939e+07  6e+04  3e-03  5e-16\n",
      " 6: -1.5937e+07 -1.5930e+07  5e+04  2e-03  5e-16\n",
      " 7: -1.5932e+07 -1.5926e+07  5e+04  2e-03  5e-16\n",
      " 8: -1.5925e+07 -1.5922e+07  5e+04  1e-03  6e-16\n",
      " 9: -1.5920e+07 -1.5918e+07  4e+04  1e-03  5e-16\n",
      "10: -1.5913e+07 -1.5912e+07  3e+04  8e-04  5e-16\n",
      "11: -1.5910e+07 -1.5910e+07  3e+04  6e-04  4e-16\n",
      "12: -1.5905e+07 -1.5907e+07  2e+04  5e-04  5e-16\n",
      "13: -1.5902e+07 -1.5904e+07  2e+04  3e-04  6e-16\n",
      "14: -1.5900e+07 -1.5903e+07  1e+04  2e-04  5e-16\n",
      "15: -1.5898e+07 -1.5900e+07  5e+03  8e-05  5e-16\n",
      "16: -1.5897e+07 -1.5898e+07  5e+02  2e-15  6e-16\n",
      "17: -1.5897e+07 -1.5897e+07  3e+01  3e-16  1e-14\n",
      "18: -1.5897e+07 -1.5897e+07  5e-01  7e-16  2e-14\n",
      "Optimal solution found.\n",
      "(7500-10000)\n",
      "     pcost       dcost       gap    pres   dres\n",
      " 0: -1.5988e+07 -1.6113e+07  2e+06  1e-01  6e-16\n",
      " 1: -1.5985e+07 -1.6081e+07  4e+05  3e-02  6e-16\n",
      " 2: -1.5979e+07 -1.6026e+07  2e+05  1e-02  6e-16\n",
      " 3: -1.5965e+07 -1.5974e+07  9e+04  5e-03  5e-16\n",
      " 4: -1.5954e+07 -1.5951e+07  7e+04  3e-03  5e-16\n",
      " 5: -1.5943e+07 -1.5937e+07  5e+04  2e-03  5e-16\n",
      " 6: -1.5935e+07 -1.5928e+07  4e+04  2e-03  5e-16\n",
      " 7: -1.5929e+07 -1.5923e+07  4e+04  1e-03  5e-16\n",
      " 8: -1.5925e+07 -1.5921e+07  4e+04  1e-03  5e-16\n",
      " 9: -1.5919e+07 -1.5917e+07  3e+04  9e-04  5e-16\n",
      "10: -1.5914e+07 -1.5914e+07  3e+04  7e-04  4e-16\n",
      "11: -1.5910e+07 -1.5912e+07  2e+04  5e-04  5e-16\n",
      "12: -1.5907e+07 -1.5910e+07  2e+04  3e-04  5e-16\n",
      "13: -1.5904e+07 -1.5907e+07  1e+04  2e-04  5e-16\n",
      "14: -1.5902e+07 -1.5904e+07  5e+03  6e-05  5e-16\n",
      "15: -1.5902e+07 -1.5902e+07  4e+02  5e-06  6e-16\n",
      "16: -1.5902e+07 -1.5902e+07  3e+01  3e-07  6e-16\n",
      "17: -1.5902e+07 -1.5902e+07  6e-01  7e-09  1e-15\n",
      "Optimal solution found.\n",
      "(10000-12500)\n",
      "     pcost       dcost       gap    pres   dres\n",
      " 0: -1.5987e+07 -1.6114e+07  2e+06  1e-01  1e-15\n",
      " 1: -1.5985e+07 -1.6083e+07  4e+05  3e-02  7e-16\n",
      " 2: -1.5977e+07 -1.6029e+07  2e+05  1e-02  5e-16\n",
      " 3: -1.5964e+07 -1.5980e+07  1e+05  6e-03  5e-16\n",
      " 4: -1.5944e+07 -1.5941e+07  6e+04  3e-03  5e-16\n",
      " 5: -1.5936e+07 -1.5931e+07  5e+04  2e-03  5e-16\n",
      " 6: -1.5929e+07 -1.5924e+07  4e+04  2e-03  5e-16\n",
      " 7: -1.5924e+07 -1.5921e+07  4e+04  1e-03  5e-16\n",
      " 8: -1.5919e+07 -1.5917e+07  4e+04  1e-03  5e-16\n",
      " 9: -1.5916e+07 -1.5915e+07  4e+04  1e-03  5e-16\n",
      "10: -1.5912e+07 -1.5912e+07  3e+04  8e-04  5e-16\n",
      "11: -1.5908e+07 -1.5909e+07  3e+04  6e-04  5e-16\n",
      "12: -1.5904e+07 -1.5907e+07  2e+04  4e-04  5e-16\n",
      "13: -1.5902e+07 -1.5905e+07  2e+04  3e-04  4e-16\n",
      "14: -1.5899e+07 -1.5900e+07  7e+03  1e-04  5e-16\n",
      "15: -1.5897e+07 -1.5898e+07  4e+02  2e-06  6e-16\n",
      "16: -1.5897e+07 -1.5897e+07  1e+02  6e-07  3e-15\n",
      "17: -1.5897e+07 -1.5897e+07  2e+01  2e-15  2e-15\n",
      "18: -1.5897e+07 -1.5897e+07  2e-01  1e-15  7e-15\n",
      "Optimal solution found.\n",
      "(12500-15000)\n",
      "     pcost       dcost       gap    pres   dres\n",
      " 0: -1.5988e+07 -1.6113e+07  2e+06  1e-01  5e-16\n",
      " 1: -1.5984e+07 -1.6077e+07  4e+05  2e-02  6e-16\n",
      " 2: -1.5975e+07 -1.6021e+07  2e+05  1e-02  6e-16\n",
      " 3: -1.5960e+07 -1.5974e+07  9e+04  5e-03  5e-16\n",
      " 4: -1.5947e+07 -1.5950e+07  6e+04  3e-03  6e-16\n",
      " 5: -1.5938e+07 -1.5938e+07  5e+04  2e-03  5e-16\n",
      " 6: -1.5933e+07 -1.5936e+07  5e+04  2e-03  5e-16\n",
      " 7: -1.5928e+07 -1.5930e+07  4e+04  1e-03  5e-16\n",
      " 8: -1.5924e+07 -1.5926e+07  3e+04  9e-04  6e-16\n",
      " 9: -1.5920e+07 -1.5922e+07  2e+04  6e-04  5e-16\n",
      "10: -1.5917e+07 -1.5919e+07  2e+04  4e-04  5e-16\n",
      "11: -1.5915e+07 -1.5918e+07  1e+04  3e-04  5e-16\n",
      "12: -1.5914e+07 -1.5917e+07  1e+04  2e-04  6e-16\n",
      "13: -1.5912e+07 -1.5914e+07  5e+03  8e-05  6e-16\n",
      "14: -1.5912e+07 -1.5912e+07  6e+02  1e-05  6e-16\n",
      "15: -1.5912e+07 -1.5912e+07  2e+01  3e-07  6e-16\n",
      "16: -1.5912e+07 -1.5912e+07  2e-01  3e-09  2e-15\n",
      "Optimal solution found.\n",
      "(15000-17500)\n",
      "     pcost       dcost       gap    pres   dres\n",
      " 0: -1.5988e+07 -1.6113e+07  2e+06  1e-01  4e-16\n",
      " 1: -1.5985e+07 -1.6077e+07  4e+05  2e-02  6e-16\n",
      " 2: -1.5976e+07 -1.6020e+07  2e+05  1e-02  6e-16\n",
      " 3: -1.5963e+07 -1.5977e+07  1e+05  6e-03  5e-16\n",
      " 4: -1.5946e+07 -1.5945e+07  6e+04  3e-03  5e-16\n",
      " 5: -1.5936e+07 -1.5932e+07  5e+04  2e-03  5e-16\n",
      " 6: -1.5930e+07 -1.5926e+07  4e+04  2e-03  5e-16\n",
      " 7: -1.5923e+07 -1.5920e+07  3e+04  1e-03  5e-16\n",
      " 8: -1.5920e+07 -1.5919e+07  3e+04  1e-03  5e-16\n",
      " 9: -1.5915e+07 -1.5915e+07  3e+04  7e-04  5e-16\n",
      "10: -1.5912e+07 -1.5913e+07  2e+04  5e-04  5e-16\n",
      "11: -1.5910e+07 -1.5911e+07  2e+04  4e-04  6e-16\n",
      "12: -1.5908e+07 -1.5910e+07  1e+04  3e-04  5e-16\n",
      "13: -1.5906e+07 -1.5908e+07  9e+03  2e-04  5e-16\n",
      "14: -1.5904e+07 -1.5905e+07  4e+03  6e-05  5e-16\n",
      "15: -1.5904e+07 -1.5904e+07  4e+02  6e-07  8e-16\n",
      "16: -1.5904e+07 -1.5904e+07  1e+01  7e-09  2e-15\n",
      "Optimal solution found.\n",
      "(17500-20000)\n",
      "     pcost       dcost       gap    pres   dres\n",
      " 0: -1.5988e+07 -1.6113e+07  2e+06  2e-01  7e-16\n",
      " 1: -1.5986e+07 -1.6084e+07  4e+05  3e-02  7e-16\n",
      " 2: -1.5980e+07 -1.6033e+07  2e+05  1e-02  6e-16\n",
      " 3: -1.5967e+07 -1.5980e+07  9e+04  5e-03  5e-16\n",
      " 4: -1.5954e+07 -1.5954e+07  6e+04  3e-03  6e-16\n",
      " 5: -1.5945e+07 -1.5943e+07  5e+04  2e-03  5e-16\n",
      " 6: -1.5937e+07 -1.5933e+07  4e+04  2e-03  5e-16\n",
      " 7: -1.5933e+07 -1.5930e+07  4e+04  1e-03  7e-16\n",
      " 8: -1.5928e+07 -1.5928e+07  4e+04  1e-03  5e-16\n",
      " 9: -1.5924e+07 -1.5924e+07  3e+04  9e-04  5e-16\n",
      "10: -1.5920e+07 -1.5921e+07  3e+04  7e-04  5e-16\n",
      "11: -1.5916e+07 -1.5917e+07  2e+04  4e-04  5e-16\n",
      "12: -1.5913e+07 -1.5916e+07  2e+04  3e-04  5e-16\n",
      "13: -1.5911e+07 -1.5913e+07  1e+04  2e-04  5e-16\n",
      "14: -1.5909e+07 -1.5910e+07  3e+03  4e-05  6e-16\n",
      "15: -1.5908e+07 -1.5908e+07  2e+02  3e-06  6e-16\n",
      "16: -1.5908e+07 -1.5908e+07  3e+00  3e-08  6e-16\n",
      "Optimal solution found.\n",
      "(20000-22500)\n",
      "     pcost       dcost       gap    pres   dres\n",
      " 0: -1.5988e+07 -1.6112e+07  2e+06  1e-01  6e-16\n",
      " 1: -1.5985e+07 -1.6081e+07  4e+05  3e-02  7e-16\n",
      " 2: -1.5978e+07 -1.6023e+07  2e+05  1e-02  5e-16\n",
      " 3: -1.5965e+07 -1.5975e+07  9e+04  5e-03  5e-16\n",
      " 4: -1.5954e+07 -1.5952e+07  7e+04  3e-03  5e-16\n",
      " 5: -1.5948e+07 -1.5944e+07  7e+04  3e-03  6e-16\n",
      " 6: -1.5938e+07 -1.5931e+07  5e+04  2e-03  5e-16\n",
      " 7: -1.5933e+07 -1.5926e+07  5e+04  2e-03  5e-16\n"
     ]
    },
    {
     "name": "stdout",
     "output_type": "stream",
     "text": [
      " 8: -1.5926e+07 -1.5920e+07  4e+04  1e-03  5e-16\n",
      " 9: -1.5921e+07 -1.5918e+07  4e+04  1e-03  5e-16\n",
      "10: -1.5917e+07 -1.5916e+07  4e+04  1e-03  5e-16\n",
      "11: -1.5912e+07 -1.5912e+07  3e+04  7e-04  5e-16\n",
      "12: -1.5905e+07 -1.5905e+07  2e+04  4e-04  6e-16\n",
      "13: -1.5902e+07 -1.5903e+07  1e+04  3e-04  5e-16\n",
      "14: -1.5898e+07 -1.5900e+07  7e+03  1e-04  5e-16\n",
      "15: -1.5897e+07 -1.5897e+07  5e+02  5e-06  8e-16\n",
      "16: -1.5897e+07 -1.5897e+07  3e+01  2e-07  2e-15\n",
      "17: -1.5897e+07 -1.5897e+07  4e-01  3e-09  3e-15\n",
      "Optimal solution found.\n",
      "(22500-25000)\n",
      "     pcost       dcost       gap    pres   dres\n",
      " 0: -1.5988e+07 -1.6113e+07  2e+06  1e-01  1e-15\n",
      " 1: -1.5985e+07 -1.6079e+07  4e+05  2e-02  6e-16\n",
      " 2: -1.5978e+07 -1.6023e+07  2e+05  9e-03  6e-16\n",
      " 3: -1.5963e+07 -1.5975e+07  8e+04  4e-03  6e-16\n",
      " 4: -1.5951e+07 -1.5951e+07  6e+04  3e-03  5e-16\n",
      " 5: -1.5942e+07 -1.5939e+07  4e+04  2e-03  5e-16\n",
      " 6: -1.5937e+07 -1.5935e+07  4e+04  1e-03  6e-16\n",
      " 7: -1.5932e+07 -1.5930e+07  3e+04  1e-03  5e-16\n",
      " 8: -1.5928e+07 -1.5927e+07  3e+04  8e-04  5e-16\n",
      " 9: -1.5925e+07 -1.5925e+07  2e+04  7e-04  7e-16\n",
      "10: -1.5922e+07 -1.5923e+07  2e+04  5e-04  6e-16\n",
      "11: -1.5920e+07 -1.5923e+07  2e+04  4e-04  5e-16\n",
      "12: -1.5918e+07 -1.5920e+07  1e+04  3e-04  5e-16\n",
      "13: -1.5916e+07 -1.5918e+07  9e+03  2e-04  5e-16\n",
      "14: -1.5915e+07 -1.5916e+07  3e+03  4e-05  6e-16\n",
      "15: -1.5915e+07 -1.5915e+07  1e+02  2e-06  7e-16\n",
      "16: -1.5915e+07 -1.5915e+07  6e+00  9e-08  8e-16\n",
      "Optimal solution found.\n",
      "(25000-27500)\n",
      "     pcost       dcost       gap    pres   dres\n",
      " 0: -2.8093e+06 -2.8435e+06  4e+05  2e-01  4e-16\n",
      " 1: -2.8085e+06 -2.8326e+06  9e+04  3e-02  4e-16\n",
      " 2: -2.8057e+06 -2.8167e+06  4e+04  1e-02  4e-16\n",
      " 3: -2.8020e+06 -2.8052e+06  2e+04  5e-03  3e-16\n",
      " 4: -2.7997e+06 -2.8009e+06  1e+04  3e-03  4e-16\n",
      " 5: -2.7977e+06 -2.7983e+06  7e+03  2e-03  3e-16\n",
      " 6: -2.7963e+06 -2.7968e+06  5e+03  1e-03  3e-16\n",
      " 7: -2.7950e+06 -2.7954e+06  3e+03  5e-04  3e-16\n",
      " 8: -2.7944e+06 -2.7946e+06  9e+02  2e-04  3e-16\n",
      " 9: -2.7942e+06 -2.7943e+06  3e+02  4e-05  4e-16\n",
      "10: -2.7942e+06 -2.7942e+06  2e+01  2e-06  4e-16\n",
      "11: -2.7942e+06 -2.7942e+06  9e-01  8e-08  4e-16\n",
      "Optimal solution found.\n"
     ]
    }
   ],
   "source": [
    "# the KMM algorithm does not scale well as inputs grow\n",
    "# if we were to use the full train and test set, I don't even know\n",
    "# how long it would take. Instead, we bunch the train into groups (randomly)\n",
    "# of 2500 and apply KMM to the group and the full test set\n",
    "# we then stitch together the estimated betas for the full train set\n",
    "group_size = 2500\n",
    "# these are a random arangement of indices\n",
    "rand_inds = np.random.RandomState(seed=RANDOM_SEED).permutation( np.arange(len(x_train)) )\n",
    "# these are the betas but ordered with respect to x_train\n",
    "betas_ordered = np.zeros(len(x_train))\n",
    "\n",
    "start_i = 0\n",
    "end_i = start_i + group_size\n",
    "while start_i < len(x_train):\n",
    "    print(f\"({start_i}-{end_i})\")\n",
    "    \n",
    "    # grab the current group\n",
    "    inds = rand_inds[start_i : end_i]\n",
    "    \n",
    "    kmm = utils.papers.KMM()\n",
    "    # fit the group with the val\n",
    "    betas = kmm.fit(x_train[inds], x_val)\n",
    "    # fill in betas_ordered at the indices in the current group\n",
    "    betas_ordered[inds] = betas.reshape(-1) # flatten\n",
    "    \n",
    "    start_i = end_i\n",
    "    end_i = start_i + group_size"
   ]
  },
  {
   "cell_type": "code",
   "execution_count": 40,
   "metadata": {},
   "outputs": [],
   "source": [
    "# save betas for later analysis, if any\n",
    "KMM_BETAS_SAVEPATH = utils.utils.get_savepath(MODELS_DIR, \"adult_kmm_betas\", \".npy\")\n",
    "np.save(\n",
    "    file = KMM_BETAS_SAVEPATH,\n",
    "    arr = betas_ordered,\n",
    ")"
   ]
  },
  {
   "cell_type": "code",
   "execution_count": 41,
   "metadata": {},
   "outputs": [],
   "source": [
    "# make a fresh model\n",
    "model = tf.keras.models.Sequential([\n",
    "    tf.keras.Input(shape=x_train.shape[1]),\n",
    "    tf.keras.layers.Dense(2, activation=tf.nn.softmax),\n",
    "])"
   ]
  },
  {
   "cell_type": "code",
   "execution_count": 42,
   "metadata": {},
   "outputs": [],
   "source": [
    "model.compile(optimizer='sgd', loss='categorical_crossentropy', metrics=['accuracy'])"
   ]
  },
  {
   "cell_type": "code",
   "execution_count": 43,
   "metadata": {},
   "outputs": [],
   "source": [
    "# Need to save the best model by validation loss\n",
    "KMM_MODEL_SAVEPATH = utils.utils.get_savepath(MODELS_DIR, \"adult\", \".h5\", mt=\"kmm\")\n",
    "save_best = tf.keras.callbacks.ModelCheckpoint(\n",
    "    filepath=KMM_MODEL_SAVEPATH,\n",
    "    monitor=\"val_loss\",\n",
    "    mode='min',\n",
    "    verbose=1,\n",
    "    save_best_only=True,\n",
    "    save_weights_only=True,\n",
    ")\n",
    "\n",
    "callbacks = [save_best]"
   ]
  },
  {
   "cell_type": "code",
   "execution_count": 44,
   "metadata": {},
   "outputs": [
    {
     "name": "stdout",
     "output_type": "stream",
     "text": [
      "Epoch 1/75\n",
      "20/26 [======================>.......] - ETA: 0s - loss: 0.6472 - accuracy: 0.6306\n",
      "Epoch 00001: val_loss improved from inf to 0.75929, saving model to ../../../models/adult/rs=55/adult_mt=kmm.h5\n",
      "26/26 [==============================] - 0s 8ms/step - loss: 0.6450 - accuracy: 0.6331 - val_loss: 0.7593 - val_accuracy: 0.4724\n",
      "Epoch 2/75\n",
      "21/26 [=======================>......] - ETA: 0s - loss: 0.6210 - accuracy: 0.6612\n",
      "Epoch 00002: val_loss improved from 0.75929 to 0.74983, saving model to ../../../models/adult/rs=55/adult_mt=kmm.h5\n",
      "26/26 [==============================] - 0s 3ms/step - loss: 0.6202 - accuracy: 0.6613 - val_loss: 0.7498 - val_accuracy: 0.4908\n",
      "Epoch 3/75\n",
      "19/26 [====================>.........] - ETA: 0s - loss: 0.6034 - accuracy: 0.6788\n",
      "Epoch 00003: val_loss improved from 0.74983 to 0.74017, saving model to ../../../models/adult/rs=55/adult_mt=kmm.h5\n",
      "26/26 [==============================] - 0s 4ms/step - loss: 0.6010 - accuracy: 0.6805 - val_loss: 0.7402 - val_accuracy: 0.5337\n",
      "Epoch 4/75\n",
      "20/26 [======================>.......] - ETA: 0s - loss: 0.5851 - accuracy: 0.6952\n",
      "Epoch 00004: val_loss improved from 0.74017 to 0.73143, saving model to ../../../models/adult/rs=55/adult_mt=kmm.h5\n",
      "26/26 [==============================] - 0s 3ms/step - loss: 0.5857 - accuracy: 0.6945 - val_loss: 0.7314 - val_accuracy: 0.5337\n",
      "Epoch 5/75\n",
      "21/26 [=======================>......] - ETA: 0s - loss: 0.5739 - accuracy: 0.7123\n",
      "Epoch 00005: val_loss did not improve from 0.73143\n",
      "26/26 [==============================] - 0s 3ms/step - loss: 0.5731 - accuracy: 0.7120 - val_loss: 0.7324 - val_accuracy: 0.5399\n",
      "Epoch 6/75\n",
      "21/26 [=======================>......] - ETA: 0s - loss: 0.5622 - accuracy: 0.7191\n",
      "Epoch 00006: val_loss improved from 0.73143 to 0.72399, saving model to ../../../models/adult/rs=55/adult_mt=kmm.h5\n",
      "26/26 [==============================] - 0s 3ms/step - loss: 0.5625 - accuracy: 0.7176 - val_loss: 0.7240 - val_accuracy: 0.5521\n",
      "Epoch 7/75\n",
      "21/26 [=======================>......] - ETA: 0s - loss: 0.5537 - accuracy: 0.7246\n",
      "Epoch 00007: val_loss improved from 0.72399 to 0.72380, saving model to ../../../models/adult/rs=55/adult_mt=kmm.h5\n",
      "26/26 [==============================] - 0s 3ms/step - loss: 0.5536 - accuracy: 0.7248 - val_loss: 0.7238 - val_accuracy: 0.5521\n",
      "Epoch 8/75\n",
      "21/26 [=======================>......] - ETA: 0s - loss: 0.5462 - accuracy: 0.7303\n",
      "Epoch 00008: val_loss improved from 0.72380 to 0.72063, saving model to ../../../models/adult/rs=55/adult_mt=kmm.h5\n",
      "26/26 [==============================] - 0s 3ms/step - loss: 0.5460 - accuracy: 0.7298 - val_loss: 0.7206 - val_accuracy: 0.5644\n",
      "Epoch 9/75\n",
      "21/26 [=======================>......] - ETA: 0s - loss: 0.5397 - accuracy: 0.7352\n",
      "Epoch 00009: val_loss improved from 0.72063 to 0.71600, saving model to ../../../models/adult/rs=55/adult_mt=kmm.h5\n",
      "26/26 [==============================] - 0s 4ms/step - loss: 0.5396 - accuracy: 0.7361 - val_loss: 0.7160 - val_accuracy: 0.5828\n",
      "Epoch 10/75\n",
      "22/26 [========================>.....] - ETA: 0s - loss: 0.5327 - accuracy: 0.7407\n",
      "Epoch 00010: val_loss did not improve from 0.71600\n",
      "26/26 [==============================] - 0s 3ms/step - loss: 0.5341 - accuracy: 0.7392 - val_loss: 0.7176 - val_accuracy: 0.5828\n",
      "Epoch 11/75\n",
      "22/26 [========================>.....] - ETA: 0s - loss: 0.5296 - accuracy: 0.7419\n",
      "Epoch 00011: val_loss did not improve from 0.71600\n",
      "26/26 [==============================] - 0s 3ms/step - loss: 0.5294 - accuracy: 0.7426 - val_loss: 0.7168 - val_accuracy: 0.6012\n",
      "Epoch 12/75\n",
      "22/26 [========================>.....] - ETA: 0s - loss: 0.5272 - accuracy: 0.7424\n",
      "Epoch 00012: val_loss did not improve from 0.71600\n",
      "26/26 [==============================] - 0s 3ms/step - loss: 0.5253 - accuracy: 0.7450 - val_loss: 0.7198 - val_accuracy: 0.6074\n",
      "Epoch 13/75\n",
      "21/26 [=======================>......] - ETA: 0s - loss: 0.5217 - accuracy: 0.7484\n",
      "Epoch 00013: val_loss did not improve from 0.71600\n",
      "26/26 [==============================] - 0s 3ms/step - loss: 0.5218 - accuracy: 0.7464 - val_loss: 0.7168 - val_accuracy: 0.6196\n",
      "Epoch 14/75\n",
      "21/26 [=======================>......] - ETA: 0s - loss: 0.5204 - accuracy: 0.7461\n",
      "Epoch 00014: val_loss did not improve from 0.71600\n",
      "26/26 [==============================] - 0s 3ms/step - loss: 0.5187 - accuracy: 0.7482 - val_loss: 0.7183 - val_accuracy: 0.6074\n",
      "Epoch 15/75\n",
      "20/26 [======================>.......] - ETA: 0s - loss: 0.5166 - accuracy: 0.7485\n",
      "Epoch 00015: val_loss did not improve from 0.71600\n",
      "26/26 [==============================] - 0s 3ms/step - loss: 0.5160 - accuracy: 0.7485 - val_loss: 0.7172 - val_accuracy: 0.6135\n",
      "Epoch 16/75\n",
      "20/26 [======================>.......] - ETA: 0s - loss: 0.5158 - accuracy: 0.7471\n",
      "Epoch 00016: val_loss did not improve from 0.71600\n",
      "26/26 [==============================] - 0s 3ms/step - loss: 0.5137 - accuracy: 0.7491 - val_loss: 0.7211 - val_accuracy: 0.6074\n",
      "Epoch 17/75\n",
      "22/26 [========================>.....] - ETA: 0s - loss: 0.5097 - accuracy: 0.7517\n",
      "Epoch 00017: val_loss did not improve from 0.71600\n",
      "26/26 [==============================] - 0s 3ms/step - loss: 0.5116 - accuracy: 0.7502 - val_loss: 0.7256 - val_accuracy: 0.6074\n",
      "Epoch 18/75\n",
      "21/26 [=======================>......] - ETA: 0s - loss: 0.5105 - accuracy: 0.7493\n",
      "Epoch 00018: val_loss did not improve from 0.71600\n",
      "26/26 [==============================] - 0s 3ms/step - loss: 0.5098 - accuracy: 0.7505 - val_loss: 0.7295 - val_accuracy: 0.6074\n",
      "Epoch 19/75\n",
      "22/26 [========================>.....] - ETA: 0s - loss: 0.5082 - accuracy: 0.7516\n",
      "Epoch 00019: val_loss did not improve from 0.71600\n",
      "26/26 [==============================] - 0s 3ms/step - loss: 0.5083 - accuracy: 0.7523 - val_loss: 0.7278 - val_accuracy: 0.6074\n",
      "Epoch 20/75\n",
      "21/26 [=======================>......] - ETA: 0s - loss: 0.5071 - accuracy: 0.7521\n",
      "Epoch 00020: val_loss did not improve from 0.71600\n",
      "26/26 [==============================] - 0s 4ms/step - loss: 0.5067 - accuracy: 0.7523 - val_loss: 0.7321 - val_accuracy: 0.6135\n",
      "Epoch 21/75\n",
      "18/26 [===================>..........] - ETA: 0s - loss: 0.5064 - accuracy: 0.7530\n",
      "Epoch 00021: val_loss did not improve from 0.71600\n",
      "26/26 [==============================] - 0s 4ms/step - loss: 0.5055 - accuracy: 0.7526 - val_loss: 0.7286 - val_accuracy: 0.6258\n",
      "Epoch 22/75\n",
      "21/26 [=======================>......] - ETA: 0s - loss: 0.5035 - accuracy: 0.7533\n",
      "Epoch 00022: val_loss did not improve from 0.71600\n",
      "26/26 [==============================] - 0s 3ms/step - loss: 0.5043 - accuracy: 0.7534 - val_loss: 0.7328 - val_accuracy: 0.6258\n",
      "Epoch 23/75\n",
      "21/26 [=======================>......] - ETA: 0s - loss: 0.5034 - accuracy: 0.7549\n",
      "Epoch 00023: val_loss did not improve from 0.71600\n",
      "26/26 [==============================] - 0s 3ms/step - loss: 0.5034 - accuracy: 0.7540 - val_loss: 0.7251 - val_accuracy: 0.6258\n",
      "Epoch 24/75\n",
      "20/26 [======================>.......] - ETA: 0s - loss: 0.5061 - accuracy: 0.7499\n",
      "Epoch 00024: val_loss did not improve from 0.71600\n",
      "26/26 [==============================] - 0s 3ms/step - loss: 0.5024 - accuracy: 0.7545 - val_loss: 0.7364 - val_accuracy: 0.6258\n",
      "Epoch 25/75\n",
      "20/26 [======================>.......] - ETA: 0s - loss: 0.5025 - accuracy: 0.7543\n",
      "Epoch 00025: val_loss did not improve from 0.71600\n",
      "26/26 [==============================] - 0s 3ms/step - loss: 0.5016 - accuracy: 0.7550 - val_loss: 0.7289 - val_accuracy: 0.6319\n",
      "Epoch 26/75\n",
      "20/26 [======================>.......] - ETA: 0s - loss: 0.5014 - accuracy: 0.7553\n",
      "Epoch 00026: val_loss did not improve from 0.71600\n",
      "26/26 [==============================] - 0s 3ms/step - loss: 0.5008 - accuracy: 0.7551 - val_loss: 0.7411 - val_accuracy: 0.6258\n",
      "Epoch 27/75\n",
      "21/26 [=======================>......] - ETA: 0s - loss: 0.4997 - accuracy: 0.7584\n",
      "Epoch 00027: val_loss did not improve from 0.71600\n",
      "26/26 [==============================] - 0s 3ms/step - loss: 0.5001 - accuracy: 0.7564 - val_loss: 0.7332 - val_accuracy: 0.6319\n",
      "Epoch 28/75\n",
      "21/26 [=======================>......] - ETA: 0s - loss: 0.4989 - accuracy: 0.7563\n",
      "Epoch 00028: val_loss did not improve from 0.71600\n",
      "26/26 [==============================] - 0s 3ms/step - loss: 0.4994 - accuracy: 0.7567 - val_loss: 0.7410 - val_accuracy: 0.6319\n"
     ]
    },
    {
     "name": "stdout",
     "output_type": "stream",
     "text": [
      "Epoch 29/75\n",
      "21/26 [=======================>......] - ETA: 0s - loss: 0.4990 - accuracy: 0.7561\n",
      "Epoch 00029: val_loss did not improve from 0.71600\n",
      "26/26 [==============================] - 0s 3ms/step - loss: 0.4988 - accuracy: 0.7567 - val_loss: 0.7399 - val_accuracy: 0.6319\n",
      "Epoch 30/75\n",
      "21/26 [=======================>......] - ETA: 0s - loss: 0.5019 - accuracy: 0.7544\n",
      "Epoch 00030: val_loss did not improve from 0.71600\n",
      "26/26 [==============================] - 0s 3ms/step - loss: 0.4983 - accuracy: 0.7569 - val_loss: 0.7436 - val_accuracy: 0.6319\n",
      "Epoch 31/75\n",
      "21/26 [=======================>......] - ETA: 0s - loss: 0.4974 - accuracy: 0.7562\n",
      "Epoch 00031: val_loss did not improve from 0.71600\n",
      "26/26 [==============================] - 0s 3ms/step - loss: 0.4979 - accuracy: 0.7564 - val_loss: 0.7409 - val_accuracy: 0.6319\n",
      "Epoch 32/75\n",
      "22/26 [========================>.....] - ETA: 0s - loss: 0.4982 - accuracy: 0.7571\n",
      "Epoch 00032: val_loss did not improve from 0.71600\n",
      "26/26 [==============================] - 0s 3ms/step - loss: 0.4975 - accuracy: 0.7570 - val_loss: 0.7537 - val_accuracy: 0.6319\n",
      "Epoch 33/75\n",
      "20/26 [======================>.......] - ETA: 0s - loss: 0.4941 - accuracy: 0.7602\n",
      "Epoch 00033: val_loss did not improve from 0.71600\n",
      "26/26 [==============================] - 0s 3ms/step - loss: 0.4971 - accuracy: 0.7571 - val_loss: 0.7430 - val_accuracy: 0.6319\n",
      "Epoch 34/75\n",
      "22/26 [========================>.....] - ETA: 0s - loss: 0.4970 - accuracy: 0.7571\n",
      "Epoch 00034: val_loss did not improve from 0.71600\n",
      "26/26 [==============================] - 0s 3ms/step - loss: 0.4967 - accuracy: 0.7569 - val_loss: 0.7502 - val_accuracy: 0.6319\n",
      "Epoch 35/75\n",
      "21/26 [=======================>......] - ETA: 0s - loss: 0.4953 - accuracy: 0.7591\n",
      "Epoch 00035: val_loss did not improve from 0.71600\n",
      "26/26 [==============================] - 0s 3ms/step - loss: 0.4964 - accuracy: 0.7576 - val_loss: 0.7422 - val_accuracy: 0.6319\n",
      "Epoch 36/75\n",
      "21/26 [=======================>......] - ETA: 0s - loss: 0.4951 - accuracy: 0.7593\n",
      "Epoch 00036: val_loss did not improve from 0.71600\n",
      "26/26 [==============================] - 0s 3ms/step - loss: 0.4960 - accuracy: 0.7577 - val_loss: 0.7546 - val_accuracy: 0.6380\n",
      "Epoch 37/75\n",
      "21/26 [=======================>......] - ETA: 0s - loss: 0.4962 - accuracy: 0.7573\n",
      "Epoch 00037: val_loss did not improve from 0.71600\n",
      "26/26 [==============================] - 0s 3ms/step - loss: 0.4959 - accuracy: 0.7574 - val_loss: 0.7418 - val_accuracy: 0.6319\n",
      "Epoch 38/75\n",
      "21/26 [=======================>......] - ETA: 0s - loss: 0.4933 - accuracy: 0.7580\n",
      "Epoch 00038: val_loss did not improve from 0.71600\n",
      "26/26 [==============================] - 0s 3ms/step - loss: 0.4955 - accuracy: 0.7584 - val_loss: 0.7534 - val_accuracy: 0.6319\n",
      "Epoch 39/75\n",
      "21/26 [=======================>......] - ETA: 0s - loss: 0.4962 - accuracy: 0.7588\n",
      "Epoch 00039: val_loss did not improve from 0.71600\n",
      "26/26 [==============================] - 0s 3ms/step - loss: 0.4952 - accuracy: 0.7589 - val_loss: 0.7461 - val_accuracy: 0.6319\n",
      "Epoch 40/75\n",
      "21/26 [=======================>......] - ETA: 0s - loss: 0.4959 - accuracy: 0.7571\n",
      "Epoch 00040: val_loss did not improve from 0.71600\n",
      "26/26 [==============================] - 0s 3ms/step - loss: 0.4950 - accuracy: 0.7585 - val_loss: 0.7579 - val_accuracy: 0.6380\n",
      "Epoch 41/75\n",
      "21/26 [=======================>......] - ETA: 0s - loss: 0.4935 - accuracy: 0.7605\n",
      "Epoch 00041: val_loss did not improve from 0.71600\n",
      "26/26 [==============================] - 0s 3ms/step - loss: 0.4948 - accuracy: 0.7591 - val_loss: 0.7504 - val_accuracy: 0.6319\n",
      "Epoch 42/75\n",
      "20/26 [======================>.......] - ETA: 0s - loss: 0.4942 - accuracy: 0.7608\n",
      "Epoch 00042: val_loss did not improve from 0.71600\n",
      "26/26 [==============================] - 0s 3ms/step - loss: 0.4946 - accuracy: 0.7589 - val_loss: 0.7495 - val_accuracy: 0.6319\n",
      "Epoch 43/75\n",
      "21/26 [=======================>......] - ETA: 0s - loss: 0.4939 - accuracy: 0.7610\n",
      "Epoch 00043: val_loss did not improve from 0.71600\n",
      "26/26 [==============================] - 0s 3ms/step - loss: 0.4944 - accuracy: 0.7593 - val_loss: 0.7526 - val_accuracy: 0.6319\n",
      "Epoch 44/75\n",
      "21/26 [=======================>......] - ETA: 0s - loss: 0.4935 - accuracy: 0.7598\n",
      "Epoch 00044: val_loss did not improve from 0.71600\n",
      "26/26 [==============================] - 0s 3ms/step - loss: 0.4942 - accuracy: 0.7593 - val_loss: 0.7513 - val_accuracy: 0.6319\n",
      "Epoch 45/75\n",
      "22/26 [========================>.....] - ETA: 0s - loss: 0.4947 - accuracy: 0.7591\n",
      "Epoch 00045: val_loss did not improve from 0.71600\n",
      "26/26 [==============================] - 0s 3ms/step - loss: 0.4940 - accuracy: 0.7597 - val_loss: 0.7577 - val_accuracy: 0.6319\n",
      "Epoch 46/75\n",
      "21/26 [=======================>......] - ETA: 0s - loss: 0.4924 - accuracy: 0.7604\n",
      "Epoch 00046: val_loss did not improve from 0.71600\n",
      "26/26 [==============================] - 0s 3ms/step - loss: 0.4939 - accuracy: 0.7601 - val_loss: 0.7583 - val_accuracy: 0.6380\n",
      "Epoch 47/75\n",
      "21/26 [=======================>......] - ETA: 0s - loss: 0.4942 - accuracy: 0.7596\n",
      "Epoch 00047: val_loss did not improve from 0.71600\n",
      "26/26 [==============================] - 0s 3ms/step - loss: 0.4937 - accuracy: 0.7599 - val_loss: 0.7595 - val_accuracy: 0.6380\n",
      "Epoch 48/75\n",
      "21/26 [=======================>......] - ETA: 0s - loss: 0.4935 - accuracy: 0.7604\n",
      "Epoch 00048: val_loss did not improve from 0.71600\n",
      "26/26 [==============================] - 0s 3ms/step - loss: 0.4936 - accuracy: 0.7601 - val_loss: 0.7564 - val_accuracy: 0.6380\n",
      "Epoch 49/75\n",
      "21/26 [=======================>......] - ETA: 0s - loss: 0.4953 - accuracy: 0.7580\n",
      "Epoch 00049: val_loss did not improve from 0.71600\n",
      "26/26 [==============================] - 0s 3ms/step - loss: 0.4935 - accuracy: 0.7598 - val_loss: 0.7615 - val_accuracy: 0.6380\n",
      "Epoch 50/75\n",
      "21/26 [=======================>......] - ETA: 0s - loss: 0.4912 - accuracy: 0.7632\n",
      "Epoch 00050: val_loss did not improve from 0.71600\n",
      "26/26 [==============================] - 0s 3ms/step - loss: 0.4934 - accuracy: 0.7602 - val_loss: 0.7602 - val_accuracy: 0.6380\n",
      "Epoch 51/75\n",
      "22/26 [========================>.....] - ETA: 0s - loss: 0.4938 - accuracy: 0.7594\n",
      "Epoch 00051: val_loss did not improve from 0.71600\n",
      "26/26 [==============================] - 0s 3ms/step - loss: 0.4933 - accuracy: 0.7603 - val_loss: 0.7588 - val_accuracy: 0.6380\n",
      "Epoch 52/75\n",
      "21/26 [=======================>......] - ETA: 0s - loss: 0.4928 - accuracy: 0.7610\n",
      "Epoch 00052: val_loss did not improve from 0.71600\n",
      "26/26 [==============================] - 0s 3ms/step - loss: 0.4931 - accuracy: 0.7604 - val_loss: 0.7581 - val_accuracy: 0.6380\n",
      "Epoch 53/75\n",
      "20/26 [======================>.......] - ETA: 0s - loss: 0.4908 - accuracy: 0.7610\n",
      "Epoch 00053: val_loss did not improve from 0.71600\n",
      "26/26 [==============================] - 0s 3ms/step - loss: 0.4931 - accuracy: 0.7601 - val_loss: 0.7528 - val_accuracy: 0.6319\n",
      "Epoch 54/75\n",
      "20/26 [======================>.......] - ETA: 0s - loss: 0.4963 - accuracy: 0.7587\n",
      "Epoch 00054: val_loss did not improve from 0.71600\n",
      "26/26 [==============================] - 0s 3ms/step - loss: 0.4930 - accuracy: 0.7604 - val_loss: 0.7594 - val_accuracy: 0.6380\n",
      "Epoch 55/75\n",
      "21/26 [=======================>......] - ETA: 0s - loss: 0.4888 - accuracy: 0.7632\n",
      "Epoch 00055: val_loss did not improve from 0.71600\n",
      "26/26 [==============================] - 0s 3ms/step - loss: 0.4929 - accuracy: 0.7603 - val_loss: 0.7591 - val_accuracy: 0.6380\n",
      "Epoch 56/75\n",
      "22/26 [========================>.....] - ETA: 0s - loss: 0.4920 - accuracy: 0.7615\n",
      "Epoch 00056: val_loss did not improve from 0.71600\n",
      "26/26 [==============================] - 0s 3ms/step - loss: 0.4928 - accuracy: 0.7607 - val_loss: 0.7600 - val_accuracy: 0.6380\n",
      "Epoch 57/75\n",
      "21/26 [=======================>......] - ETA: 0s - loss: 0.4916 - accuracy: 0.7625\n",
      "Epoch 00057: val_loss did not improve from 0.71600\n",
      "26/26 [==============================] - 0s 3ms/step - loss: 0.4928 - accuracy: 0.7610 - val_loss: 0.7599 - val_accuracy: 0.6380\n",
      "Epoch 58/75\n",
      "20/26 [======================>.......] - ETA: 0s - loss: 0.4919 - accuracy: 0.7617\n",
      "Epoch 00058: val_loss did not improve from 0.71600\n",
      "26/26 [==============================] - 0s 3ms/step - loss: 0.4927 - accuracy: 0.7607 - val_loss: 0.7559 - val_accuracy: 0.6380\n"
     ]
    },
    {
     "name": "stdout",
     "output_type": "stream",
     "text": [
      "Epoch 59/75\n",
      "21/26 [=======================>......] - ETA: 0s - loss: 0.4945 - accuracy: 0.7598\n",
      "Epoch 00059: val_loss did not improve from 0.71600\n",
      "26/26 [==============================] - 0s 3ms/step - loss: 0.4926 - accuracy: 0.7607 - val_loss: 0.7648 - val_accuracy: 0.6380\n",
      "Epoch 60/75\n",
      "21/26 [=======================>......] - ETA: 0s - loss: 0.4899 - accuracy: 0.7623\n",
      "Epoch 00060: val_loss did not improve from 0.71600\n",
      "26/26 [==============================] - 0s 3ms/step - loss: 0.4926 - accuracy: 0.7607 - val_loss: 0.7610 - val_accuracy: 0.6380\n",
      "Epoch 61/75\n",
      "20/26 [======================>.......] - ETA: 0s - loss: 0.4927 - accuracy: 0.7608\n",
      "Epoch 00061: val_loss did not improve from 0.71600\n",
      "26/26 [==============================] - 0s 3ms/step - loss: 0.4925 - accuracy: 0.7605 - val_loss: 0.7674 - val_accuracy: 0.6380\n",
      "Epoch 62/75\n",
      "20/26 [======================>.......] - ETA: 0s - loss: 0.4935 - accuracy: 0.7602\n",
      "Epoch 00062: val_loss did not improve from 0.71600\n",
      "26/26 [==============================] - 0s 3ms/step - loss: 0.4925 - accuracy: 0.7607 - val_loss: 0.7625 - val_accuracy: 0.6380\n",
      "Epoch 63/75\n",
      "21/26 [=======================>......] - ETA: 0s - loss: 0.4921 - accuracy: 0.7616\n",
      "Epoch 00063: val_loss did not improve from 0.71600\n",
      "26/26 [==============================] - 0s 3ms/step - loss: 0.4924 - accuracy: 0.7606 - val_loss: 0.7628 - val_accuracy: 0.6380\n",
      "Epoch 64/75\n",
      "20/26 [======================>.......] - ETA: 0s - loss: 0.4918 - accuracy: 0.7603\n",
      "Epoch 00064: val_loss did not improve from 0.71600\n",
      "26/26 [==============================] - 0s 4ms/step - loss: 0.4923 - accuracy: 0.7609 - val_loss: 0.7631 - val_accuracy: 0.6380\n",
      "Epoch 65/75\n",
      "21/26 [=======================>......] - ETA: 0s - loss: 0.4911 - accuracy: 0.7624\n",
      "Epoch 00065: val_loss did not improve from 0.71600\n",
      "26/26 [==============================] - 0s 3ms/step - loss: 0.4924 - accuracy: 0.7607 - val_loss: 0.7621 - val_accuracy: 0.6380\n",
      "Epoch 66/75\n",
      "20/26 [======================>.......] - ETA: 0s - loss: 0.4908 - accuracy: 0.7628\n",
      "Epoch 00066: val_loss did not improve from 0.71600\n",
      "26/26 [==============================] - 0s 3ms/step - loss: 0.4923 - accuracy: 0.7611 - val_loss: 0.7671 - val_accuracy: 0.6319\n",
      "Epoch 67/75\n",
      "21/26 [=======================>......] - ETA: 0s - loss: 0.4931 - accuracy: 0.7596\n",
      "Epoch 00067: val_loss did not improve from 0.71600\n",
      "26/26 [==============================] - 0s 3ms/step - loss: 0.4922 - accuracy: 0.7606 - val_loss: 0.7604 - val_accuracy: 0.6380\n",
      "Epoch 68/75\n",
      "21/26 [=======================>......] - ETA: 0s - loss: 0.4942 - accuracy: 0.7600\n",
      "Epoch 00068: val_loss did not improve from 0.71600\n",
      "26/26 [==============================] - 0s 3ms/step - loss: 0.4922 - accuracy: 0.7609 - val_loss: 0.7636 - val_accuracy: 0.6380\n",
      "Epoch 69/75\n",
      "20/26 [======================>.......] - ETA: 0s - loss: 0.4930 - accuracy: 0.7607\n",
      "Epoch 00069: val_loss did not improve from 0.71600\n",
      "26/26 [==============================] - 0s 4ms/step - loss: 0.4922 - accuracy: 0.7605 - val_loss: 0.7635 - val_accuracy: 0.6380\n",
      "Epoch 70/75\n",
      "20/26 [======================>.......] - ETA: 0s - loss: 0.4924 - accuracy: 0.7602\n",
      "Epoch 00070: val_loss did not improve from 0.71600\n",
      "26/26 [==============================] - 0s 3ms/step - loss: 0.4922 - accuracy: 0.7607 - val_loss: 0.7610 - val_accuracy: 0.6380\n",
      "Epoch 71/75\n",
      "21/26 [=======================>......] - ETA: 0s - loss: 0.4913 - accuracy: 0.7615\n",
      "Epoch 00071: val_loss did not improve from 0.71600\n",
      "26/26 [==============================] - 0s 3ms/step - loss: 0.4921 - accuracy: 0.7608 - val_loss: 0.7636 - val_accuracy: 0.6380\n",
      "Epoch 72/75\n",
      "21/26 [=======================>......] - ETA: 0s - loss: 0.4906 - accuracy: 0.7623\n",
      "Epoch 00072: val_loss did not improve from 0.71600\n",
      "26/26 [==============================] - 0s 3ms/step - loss: 0.4921 - accuracy: 0.7607 - val_loss: 0.7665 - val_accuracy: 0.6380\n",
      "Epoch 73/75\n",
      "22/26 [========================>.....] - ETA: 0s - loss: 0.4906 - accuracy: 0.7624\n",
      "Epoch 00073: val_loss did not improve from 0.71600\n",
      "26/26 [==============================] - 0s 3ms/step - loss: 0.4921 - accuracy: 0.7607 - val_loss: 0.7593 - val_accuracy: 0.6380\n",
      "Epoch 74/75\n",
      "21/26 [=======================>......] - ETA: 0s - loss: 0.4919 - accuracy: 0.7613\n",
      "Epoch 00074: val_loss did not improve from 0.71600\n",
      "26/26 [==============================] - 0s 3ms/step - loss: 0.4922 - accuracy: 0.7604 - val_loss: 0.7699 - val_accuracy: 0.6380\n",
      "Epoch 75/75\n",
      "21/26 [=======================>......] - ETA: 0s - loss: 0.4884 - accuracy: 0.7637\n",
      "Epoch 00075: val_loss did not improve from 0.71600\n",
      "26/26 [==============================] - 0s 3ms/step - loss: 0.4921 - accuracy: 0.7607 - val_loss: 0.7668 - val_accuracy: 0.6380\n"
     ]
    },
    {
     "data": {
      "text/plain": [
       "<tensorflow.python.keras.callbacks.History at 0x7efc9451cc50>"
      ]
     },
     "execution_count": 44,
     "metadata": {},
     "output_type": "execute_result"
    }
   ],
   "source": [
    "model.fit(\n",
    "    x_train,\n",
    "    y_train,\n",
    "    batch_size = BATCH_SIZE,\n",
    "    epochs = EPOCHS,\n",
    "    validation_data = (x_hyper_val, y_hyper_val),\n",
    "    callbacks=callbacks,\n",
    ")"
   ]
  },
  {
   "cell_type": "code",
   "execution_count": 45,
   "metadata": {},
   "outputs": [],
   "source": [
    "model.load_weights(KMM_MODEL_SAVEPATH)"
   ]
  },
  {
   "cell_type": "code",
   "execution_count": 46,
   "metadata": {},
   "outputs": [
    {
     "data": {
      "text/plain": [
       "0.5828220858895705"
      ]
     },
     "execution_count": 46,
     "metadata": {},
     "output_type": "execute_result"
    }
   ],
   "source": [
    "# hyper val acc\n",
    "preds_hyper_val = utils.utils.compute_preds(\n",
    "    model,\n",
    "    x_hyper_val,\n",
    "    batch_size=BATCH_SIZE,\n",
    ")\n",
    "(np.argmax(preds_hyper_val, axis=1) == np.argwhere(y_hyper_val)[:,1]).mean()"
   ]
  },
  {
   "cell_type": "code",
   "execution_count": 47,
   "metadata": {},
   "outputs": [
    {
     "data": {
      "text/plain": [
       "0.5839548730805391"
      ]
     },
     "execution_count": 47,
     "metadata": {},
     "output_type": "execute_result"
    }
   ],
   "source": [
    "# test acc\n",
    "preds_test = utils.utils.compute_preds(\n",
    "    model,\n",
    "    x_test,\n",
    "    batch_size=BATCH_SIZE,\n",
    ")\n",
    "(np.argmax(preds_test, axis=1) == np.argwhere(y_test)[:,1]).mean()"
   ]
  },
  {
   "cell_type": "code",
   "execution_count": null,
   "metadata": {},
   "outputs": [],
   "source": []
  },
  {
   "cell_type": "markdown",
   "metadata": {},
   "source": [
    "# Baseline 4: Just Train on Validation Set"
   ]
  },
  {
   "cell_type": "code",
   "execution_count": 48,
   "metadata": {},
   "outputs": [],
   "source": [
    "# make a fresh model\n",
    "model = tf.keras.models.Sequential([\n",
    "    tf.keras.Input(shape=x_val.shape[1]),\n",
    "    tf.keras.layers.Dense(2, activation=tf.nn.softmax),\n",
    "])"
   ]
  },
  {
   "cell_type": "code",
   "execution_count": 49,
   "metadata": {},
   "outputs": [],
   "source": [
    "model.compile(optimizer='sgd', loss='categorical_crossentropy', metrics=['accuracy'])"
   ]
  },
  {
   "cell_type": "code",
   "execution_count": 50,
   "metadata": {},
   "outputs": [],
   "source": [
    "# Need to save the best model by validation loss\n",
    "JV_MODEL_SAVEPATH = utils.utils.get_savepath(MODELS_DIR, \"adult\", \".h5\", mt=\"jv\")\n",
    "save_best = tf.keras.callbacks.ModelCheckpoint(\n",
    "    filepath=JV_MODEL_SAVEPATH,\n",
    "    monitor=\"val_loss\",\n",
    "    mode='min',\n",
    "    verbose=1,\n",
    "    save_best_only=True,\n",
    "    save_weights_only=True,\n",
    ")\n",
    "\n",
    "callbacks = [save_best]"
   ]
  },
  {
   "cell_type": "code",
   "execution_count": 51,
   "metadata": {},
   "outputs": [
    {
     "name": "stdout",
     "output_type": "stream",
     "text": [
      "Epoch 1/75\n",
      "1/1 [==============================] - ETA: 0s - loss: 0.6711 - accuracy: 0.6196\n",
      "Epoch 00001: val_loss improved from inf to 0.68141, saving model to ../../../models/adult/rs=55/adult_mt=jv.h5\n",
      "1/1 [==============================] - 0s 176ms/step - loss: 0.6711 - accuracy: 0.6196 - val_loss: 0.6814 - val_accuracy: 0.6319\n",
      "Epoch 2/75\n",
      "1/1 [==============================] - ETA: 0s - loss: 0.6697 - accuracy: 0.6196\n",
      "Epoch 00002: val_loss improved from 0.68141 to 0.68006, saving model to ../../../models/adult/rs=55/adult_mt=jv.h5\n",
      "1/1 [==============================] - 0s 26ms/step - loss: 0.6697 - accuracy: 0.6196 - val_loss: 0.6801 - val_accuracy: 0.6319\n",
      "Epoch 3/75\n",
      "1/1 [==============================] - ETA: 0s - loss: 0.6683 - accuracy: 0.6196\n",
      "Epoch 00003: val_loss improved from 0.68006 to 0.67877, saving model to ../../../models/adult/rs=55/adult_mt=jv.h5\n",
      "1/1 [==============================] - 0s 23ms/step - loss: 0.6683 - accuracy: 0.6196 - val_loss: 0.6788 - val_accuracy: 0.6319\n",
      "Epoch 4/75\n",
      "1/1 [==============================] - ETA: 0s - loss: 0.6670 - accuracy: 0.6319\n",
      "Epoch 00004: val_loss improved from 0.67877 to 0.67752, saving model to ../../../models/adult/rs=55/adult_mt=jv.h5\n",
      "1/1 [==============================] - 0s 23ms/step - loss: 0.6670 - accuracy: 0.6319 - val_loss: 0.6775 - val_accuracy: 0.6442\n",
      "Epoch 5/75\n",
      "1/1 [==============================] - ETA: 0s - loss: 0.6658 - accuracy: 0.6380\n",
      "Epoch 00005: val_loss improved from 0.67752 to 0.67634, saving model to ../../../models/adult/rs=55/adult_mt=jv.h5\n",
      "1/1 [==============================] - 0s 23ms/step - loss: 0.6658 - accuracy: 0.6380 - val_loss: 0.6763 - val_accuracy: 0.6380\n",
      "Epoch 6/75\n",
      "1/1 [==============================] - ETA: 0s - loss: 0.6646 - accuracy: 0.6380\n",
      "Epoch 00006: val_loss improved from 0.67634 to 0.67520, saving model to ../../../models/adult/rs=55/adult_mt=jv.h5\n",
      "1/1 [==============================] - 0s 23ms/step - loss: 0.6646 - accuracy: 0.6380 - val_loss: 0.6752 - val_accuracy: 0.6319\n",
      "Epoch 7/75\n",
      "1/1 [==============================] - ETA: 0s - loss: 0.6634 - accuracy: 0.6442\n",
      "Epoch 00007: val_loss improved from 0.67520 to 0.67409, saving model to ../../../models/adult/rs=55/adult_mt=jv.h5\n",
      "1/1 [==============================] - 0s 24ms/step - loss: 0.6634 - accuracy: 0.6442 - val_loss: 0.6741 - val_accuracy: 0.6319\n",
      "Epoch 8/75\n",
      "1/1 [==============================] - ETA: 0s - loss: 0.6622 - accuracy: 0.6442\n",
      "Epoch 00008: val_loss improved from 0.67409 to 0.67302, saving model to ../../../models/adult/rs=55/adult_mt=jv.h5\n",
      "1/1 [==============================] - 0s 24ms/step - loss: 0.6622 - accuracy: 0.6442 - val_loss: 0.6730 - val_accuracy: 0.6319\n",
      "Epoch 9/75\n",
      "1/1 [==============================] - ETA: 0s - loss: 0.6610 - accuracy: 0.6442\n",
      "Epoch 00009: val_loss improved from 0.67302 to 0.67197, saving model to ../../../models/adult/rs=55/adult_mt=jv.h5\n",
      "1/1 [==============================] - 0s 26ms/step - loss: 0.6610 - accuracy: 0.6442 - val_loss: 0.6720 - val_accuracy: 0.6380\n",
      "Epoch 10/75\n",
      "1/1 [==============================] - ETA: 0s - loss: 0.6599 - accuracy: 0.6442\n",
      "Epoch 00010: val_loss improved from 0.67197 to 0.67094, saving model to ../../../models/adult/rs=55/adult_mt=jv.h5\n",
      "1/1 [==============================] - 0s 26ms/step - loss: 0.6599 - accuracy: 0.6442 - val_loss: 0.6709 - val_accuracy: 0.6380\n",
      "Epoch 11/75\n",
      "1/1 [==============================] - ETA: 0s - loss: 0.6588 - accuracy: 0.6380\n",
      "Epoch 00011: val_loss improved from 0.67094 to 0.66992, saving model to ../../../models/adult/rs=55/adult_mt=jv.h5\n",
      "1/1 [==============================] - 0s 25ms/step - loss: 0.6588 - accuracy: 0.6380 - val_loss: 0.6699 - val_accuracy: 0.6380\n",
      "Epoch 12/75\n",
      "1/1 [==============================] - ETA: 0s - loss: 0.6576 - accuracy: 0.6442\n",
      "Epoch 00012: val_loss improved from 0.66992 to 0.66892, saving model to ../../../models/adult/rs=55/adult_mt=jv.h5\n",
      "1/1 [==============================] - 0s 24ms/step - loss: 0.6576 - accuracy: 0.6442 - val_loss: 0.6689 - val_accuracy: 0.6442\n",
      "Epoch 13/75\n",
      "1/1 [==============================] - ETA: 0s - loss: 0.6565 - accuracy: 0.6380\n",
      "Epoch 00013: val_loss improved from 0.66892 to 0.66792, saving model to ../../../models/adult/rs=55/adult_mt=jv.h5\n",
      "1/1 [==============================] - 0s 24ms/step - loss: 0.6565 - accuracy: 0.6380 - val_loss: 0.6679 - val_accuracy: 0.6503\n",
      "Epoch 14/75\n",
      "1/1 [==============================] - ETA: 0s - loss: 0.6554 - accuracy: 0.6380\n",
      "Epoch 00014: val_loss improved from 0.66792 to 0.66694, saving model to ../../../models/adult/rs=55/adult_mt=jv.h5\n",
      "1/1 [==============================] - 0s 25ms/step - loss: 0.6554 - accuracy: 0.6380 - val_loss: 0.6669 - val_accuracy: 0.6503\n",
      "Epoch 15/75\n",
      "1/1 [==============================] - ETA: 0s - loss: 0.6543 - accuracy: 0.6380\n",
      "Epoch 00015: val_loss improved from 0.66694 to 0.66596, saving model to ../../../models/adult/rs=55/adult_mt=jv.h5\n",
      "1/1 [==============================] - 0s 24ms/step - loss: 0.6543 - accuracy: 0.6380 - val_loss: 0.6660 - val_accuracy: 0.6564\n",
      "Epoch 16/75\n",
      "1/1 [==============================] - ETA: 0s - loss: 0.6532 - accuracy: 0.6380\n",
      "Epoch 00016: val_loss improved from 0.66596 to 0.66499, saving model to ../../../models/adult/rs=55/adult_mt=jv.h5\n",
      "1/1 [==============================] - 0s 26ms/step - loss: 0.6532 - accuracy: 0.6380 - val_loss: 0.6650 - val_accuracy: 0.6564\n",
      "Epoch 17/75\n",
      "1/1 [==============================] - ETA: 0s - loss: 0.6521 - accuracy: 0.6380\n",
      "Epoch 00017: val_loss improved from 0.66499 to 0.66403, saving model to ../../../models/adult/rs=55/adult_mt=jv.h5\n",
      "1/1 [==============================] - 0s 26ms/step - loss: 0.6521 - accuracy: 0.6380 - val_loss: 0.6640 - val_accuracy: 0.6626\n",
      "Epoch 18/75\n",
      "1/1 [==============================] - ETA: 0s - loss: 0.6510 - accuracy: 0.6380\n",
      "Epoch 00018: val_loss improved from 0.66403 to 0.66307, saving model to ../../../models/adult/rs=55/adult_mt=jv.h5\n",
      "1/1 [==============================] - 0s 24ms/step - loss: 0.6510 - accuracy: 0.6380 - val_loss: 0.6631 - val_accuracy: 0.6626\n",
      "Epoch 19/75\n",
      "1/1 [==============================] - ETA: 0s - loss: 0.6499 - accuracy: 0.6380\n",
      "Epoch 00019: val_loss improved from 0.66307 to 0.66213, saving model to ../../../models/adult/rs=55/adult_mt=jv.h5\n",
      "1/1 [==============================] - 0s 23ms/step - loss: 0.6499 - accuracy: 0.6380 - val_loss: 0.6621 - val_accuracy: 0.6626\n",
      "Epoch 20/75\n",
      "1/1 [==============================] - ETA: 0s - loss: 0.6489 - accuracy: 0.6380\n",
      "Epoch 00020: val_loss improved from 0.66213 to 0.66119, saving model to ../../../models/adult/rs=55/adult_mt=jv.h5\n",
      "1/1 [==============================] - 0s 23ms/step - loss: 0.6489 - accuracy: 0.6380 - val_loss: 0.6612 - val_accuracy: 0.6687\n",
      "Epoch 21/75\n",
      "1/1 [==============================] - ETA: 0s - loss: 0.6478 - accuracy: 0.6380\n",
      "Epoch 00021: val_loss improved from 0.66119 to 0.66026, saving model to ../../../models/adult/rs=55/adult_mt=jv.h5\n",
      "1/1 [==============================] - 0s 25ms/step - loss: 0.6478 - accuracy: 0.6380 - val_loss: 0.6603 - val_accuracy: 0.6687\n",
      "Epoch 22/75\n",
      "1/1 [==============================] - ETA: 0s - loss: 0.6468 - accuracy: 0.6380\n",
      "Epoch 00022: val_loss improved from 0.66026 to 0.65934, saving model to ../../../models/adult/rs=55/adult_mt=jv.h5\n",
      "1/1 [==============================] - 0s 24ms/step - loss: 0.6468 - accuracy: 0.6380 - val_loss: 0.6593 - val_accuracy: 0.6687\n",
      "Epoch 23/75\n",
      "1/1 [==============================] - ETA: 0s - loss: 0.6457 - accuracy: 0.6442\n",
      "Epoch 00023: val_loss improved from 0.65934 to 0.65843, saving model to ../../../models/adult/rs=55/adult_mt=jv.h5\n",
      "1/1 [==============================] - 0s 23ms/step - loss: 0.6457 - accuracy: 0.6442 - val_loss: 0.6584 - val_accuracy: 0.6687\n",
      "Epoch 24/75\n",
      "1/1 [==============================] - ETA: 0s - loss: 0.6447 - accuracy: 0.6442\n",
      "Epoch 00024: val_loss improved from 0.65843 to 0.65752, saving model to ../../../models/adult/rs=55/adult_mt=jv.h5\n",
      "1/1 [==============================] - 0s 24ms/step - loss: 0.6447 - accuracy: 0.6442 - val_loss: 0.6575 - val_accuracy: 0.6687\n",
      "Epoch 25/75\n",
      "1/1 [==============================] - ETA: 0s - loss: 0.6437 - accuracy: 0.6442\n",
      "Epoch 00025: val_loss improved from 0.65752 to 0.65662, saving model to ../../../models/adult/rs=55/adult_mt=jv.h5\n"
     ]
    },
    {
     "name": "stdout",
     "output_type": "stream",
     "text": [
      "1/1 [==============================] - 0s 22ms/step - loss: 0.6437 - accuracy: 0.6442 - val_loss: 0.6566 - val_accuracy: 0.6687\n",
      "Epoch 26/75\n",
      "1/1 [==============================] - ETA: 0s - loss: 0.6426 - accuracy: 0.6503\n",
      "Epoch 00026: val_loss improved from 0.65662 to 0.65572, saving model to ../../../models/adult/rs=55/adult_mt=jv.h5\n",
      "1/1 [==============================] - 0s 25ms/step - loss: 0.6426 - accuracy: 0.6503 - val_loss: 0.6557 - val_accuracy: 0.6687\n",
      "Epoch 27/75\n",
      "1/1 [==============================] - ETA: 0s - loss: 0.6416 - accuracy: 0.6503\n",
      "Epoch 00027: val_loss improved from 0.65572 to 0.65483, saving model to ../../../models/adult/rs=55/adult_mt=jv.h5\n",
      "1/1 [==============================] - 0s 24ms/step - loss: 0.6416 - accuracy: 0.6503 - val_loss: 0.6548 - val_accuracy: 0.6687\n",
      "Epoch 28/75\n",
      "1/1 [==============================] - ETA: 0s - loss: 0.6406 - accuracy: 0.6503\n",
      "Epoch 00028: val_loss improved from 0.65483 to 0.65395, saving model to ../../../models/adult/rs=55/adult_mt=jv.h5\n",
      "1/1 [==============================] - 0s 24ms/step - loss: 0.6406 - accuracy: 0.6503 - val_loss: 0.6539 - val_accuracy: 0.6687\n",
      "Epoch 29/75\n",
      "1/1 [==============================] - ETA: 0s - loss: 0.6396 - accuracy: 0.6503\n",
      "Epoch 00029: val_loss improved from 0.65395 to 0.65307, saving model to ../../../models/adult/rs=55/adult_mt=jv.h5\n",
      "1/1 [==============================] - 0s 25ms/step - loss: 0.6396 - accuracy: 0.6503 - val_loss: 0.6531 - val_accuracy: 0.6687\n",
      "Epoch 30/75\n",
      "1/1 [==============================] - ETA: 0s - loss: 0.6387 - accuracy: 0.6503\n",
      "Epoch 00030: val_loss improved from 0.65307 to 0.65219, saving model to ../../../models/adult/rs=55/adult_mt=jv.h5\n",
      "1/1 [==============================] - 0s 25ms/step - loss: 0.6387 - accuracy: 0.6503 - val_loss: 0.6522 - val_accuracy: 0.6687\n",
      "Epoch 31/75\n",
      "1/1 [==============================] - ETA: 0s - loss: 0.6377 - accuracy: 0.6503\n",
      "Epoch 00031: val_loss improved from 0.65219 to 0.65132, saving model to ../../../models/adult/rs=55/adult_mt=jv.h5\n",
      "1/1 [==============================] - 0s 23ms/step - loss: 0.6377 - accuracy: 0.6503 - val_loss: 0.6513 - val_accuracy: 0.6687\n",
      "Epoch 32/75\n",
      "1/1 [==============================] - ETA: 0s - loss: 0.6367 - accuracy: 0.6503\n",
      "Epoch 00032: val_loss improved from 0.65132 to 0.65046, saving model to ../../../models/adult/rs=55/adult_mt=jv.h5\n",
      "1/1 [==============================] - 0s 24ms/step - loss: 0.6367 - accuracy: 0.6503 - val_loss: 0.6505 - val_accuracy: 0.6687\n",
      "Epoch 33/75\n",
      "1/1 [==============================] - ETA: 0s - loss: 0.6358 - accuracy: 0.6564\n",
      "Epoch 00033: val_loss improved from 0.65046 to 0.64960, saving model to ../../../models/adult/rs=55/adult_mt=jv.h5\n",
      "1/1 [==============================] - 0s 23ms/step - loss: 0.6358 - accuracy: 0.6564 - val_loss: 0.6496 - val_accuracy: 0.6687\n",
      "Epoch 34/75\n",
      "1/1 [==============================] - ETA: 0s - loss: 0.6348 - accuracy: 0.6564\n",
      "Epoch 00034: val_loss improved from 0.64960 to 0.64874, saving model to ../../../models/adult/rs=55/adult_mt=jv.h5\n",
      "1/1 [==============================] - 0s 22ms/step - loss: 0.6348 - accuracy: 0.6564 - val_loss: 0.6487 - val_accuracy: 0.6687\n",
      "Epoch 35/75\n",
      "1/1 [==============================] - ETA: 0s - loss: 0.6339 - accuracy: 0.6564\n",
      "Epoch 00035: val_loss improved from 0.64874 to 0.64788, saving model to ../../../models/adult/rs=55/adult_mt=jv.h5\n",
      "1/1 [==============================] - 0s 24ms/step - loss: 0.6339 - accuracy: 0.6564 - val_loss: 0.6479 - val_accuracy: 0.6687\n",
      "Epoch 36/75\n",
      "1/1 [==============================] - ETA: 0s - loss: 0.6329 - accuracy: 0.6564\n",
      "Epoch 00036: val_loss improved from 0.64788 to 0.64703, saving model to ../../../models/adult/rs=55/adult_mt=jv.h5\n",
      "1/1 [==============================] - 0s 22ms/step - loss: 0.6329 - accuracy: 0.6564 - val_loss: 0.6470 - val_accuracy: 0.6687\n",
      "Epoch 37/75\n",
      "1/1 [==============================] - ETA: 0s - loss: 0.6320 - accuracy: 0.6564\n",
      "Epoch 00037: val_loss improved from 0.64703 to 0.64619, saving model to ../../../models/adult/rs=55/adult_mt=jv.h5\n",
      "1/1 [==============================] - 0s 22ms/step - loss: 0.6320 - accuracy: 0.6564 - val_loss: 0.6462 - val_accuracy: 0.6687\n",
      "Epoch 38/75\n",
      "1/1 [==============================] - ETA: 0s - loss: 0.6311 - accuracy: 0.6564\n",
      "Epoch 00038: val_loss improved from 0.64619 to 0.64535, saving model to ../../../models/adult/rs=55/adult_mt=jv.h5\n",
      "1/1 [==============================] - 0s 23ms/step - loss: 0.6311 - accuracy: 0.6564 - val_loss: 0.6453 - val_accuracy: 0.6687\n",
      "Epoch 39/75\n",
      "1/1 [==============================] - ETA: 0s - loss: 0.6302 - accuracy: 0.6564\n",
      "Epoch 00039: val_loss improved from 0.64535 to 0.64451, saving model to ../../../models/adult/rs=55/adult_mt=jv.h5\n",
      "1/1 [==============================] - 0s 24ms/step - loss: 0.6302 - accuracy: 0.6564 - val_loss: 0.6445 - val_accuracy: 0.6687\n",
      "Epoch 40/75\n",
      "1/1 [==============================] - ETA: 0s - loss: 0.6293 - accuracy: 0.6564\n",
      "Epoch 00040: val_loss improved from 0.64451 to 0.64368, saving model to ../../../models/adult/rs=55/adult_mt=jv.h5\n",
      "1/1 [==============================] - 0s 22ms/step - loss: 0.6293 - accuracy: 0.6564 - val_loss: 0.6437 - val_accuracy: 0.6687\n",
      "Epoch 41/75\n",
      "1/1 [==============================] - ETA: 0s - loss: 0.6284 - accuracy: 0.6564\n",
      "Epoch 00041: val_loss improved from 0.64368 to 0.64285, saving model to ../../../models/adult/rs=55/adult_mt=jv.h5\n",
      "1/1 [==============================] - 0s 26ms/step - loss: 0.6284 - accuracy: 0.6564 - val_loss: 0.6429 - val_accuracy: 0.6687\n",
      "Epoch 42/75\n",
      "1/1 [==============================] - ETA: 0s - loss: 0.6275 - accuracy: 0.6564\n",
      "Epoch 00042: val_loss improved from 0.64285 to 0.64203, saving model to ../../../models/adult/rs=55/adult_mt=jv.h5\n",
      "1/1 [==============================] - 0s 24ms/step - loss: 0.6275 - accuracy: 0.6564 - val_loss: 0.6420 - val_accuracy: 0.6626\n",
      "Epoch 43/75\n",
      "1/1 [==============================] - ETA: 0s - loss: 0.6266 - accuracy: 0.6564\n",
      "Epoch 00043: val_loss improved from 0.64203 to 0.64122, saving model to ../../../models/adult/rs=55/adult_mt=jv.h5\n",
      "1/1 [==============================] - 0s 25ms/step - loss: 0.6266 - accuracy: 0.6564 - val_loss: 0.6412 - val_accuracy: 0.6626\n",
      "Epoch 44/75\n",
      "1/1 [==============================] - ETA: 0s - loss: 0.6258 - accuracy: 0.6564\n",
      "Epoch 00044: val_loss improved from 0.64122 to 0.64041, saving model to ../../../models/adult/rs=55/adult_mt=jv.h5\n",
      "1/1 [==============================] - 0s 25ms/step - loss: 0.6258 - accuracy: 0.6564 - val_loss: 0.6404 - val_accuracy: 0.6626\n",
      "Epoch 45/75\n",
      "1/1 [==============================] - ETA: 0s - loss: 0.6249 - accuracy: 0.6626\n",
      "Epoch 00045: val_loss improved from 0.64041 to 0.63960, saving model to ../../../models/adult/rs=55/adult_mt=jv.h5\n",
      "1/1 [==============================] - 0s 24ms/step - loss: 0.6249 - accuracy: 0.6626 - val_loss: 0.6396 - val_accuracy: 0.6626\n",
      "Epoch 46/75\n",
      "1/1 [==============================] - ETA: 0s - loss: 0.6240 - accuracy: 0.6626\n",
      "Epoch 00046: val_loss improved from 0.63960 to 0.63880, saving model to ../../../models/adult/rs=55/adult_mt=jv.h5\n",
      "1/1 [==============================] - 0s 23ms/step - loss: 0.6240 - accuracy: 0.6626 - val_loss: 0.6388 - val_accuracy: 0.6626\n",
      "Epoch 47/75\n",
      "1/1 [==============================] - ETA: 0s - loss: 0.6232 - accuracy: 0.6626\n",
      "Epoch 00047: val_loss improved from 0.63880 to 0.63801, saving model to ../../../models/adult/rs=55/adult_mt=jv.h5\n",
      "1/1 [==============================] - 0s 25ms/step - loss: 0.6232 - accuracy: 0.6626 - val_loss: 0.6380 - val_accuracy: 0.6626\n",
      "Epoch 48/75\n",
      "1/1 [==============================] - ETA: 0s - loss: 0.6223 - accuracy: 0.6626\n",
      "Epoch 00048: val_loss improved from 0.63801 to 0.63723, saving model to ../../../models/adult/rs=55/adult_mt=jv.h5\n",
      "1/1 [==============================] - 0s 23ms/step - loss: 0.6223 - accuracy: 0.6626 - val_loss: 0.6372 - val_accuracy: 0.6626\n",
      "Epoch 49/75\n",
      "1/1 [==============================] - ETA: 0s - loss: 0.6215 - accuracy: 0.6626\n",
      "Epoch 00049: val_loss improved from 0.63723 to 0.63645, saving model to ../../../models/adult/rs=55/adult_mt=jv.h5\n",
      "1/1 [==============================] - 0s 24ms/step - loss: 0.6215 - accuracy: 0.6626 - val_loss: 0.6364 - val_accuracy: 0.6626\n",
      "Epoch 50/75\n"
     ]
    },
    {
     "name": "stdout",
     "output_type": "stream",
     "text": [
      "1/1 [==============================] - ETA: 0s - loss: 0.6207 - accuracy: 0.6626\n",
      "Epoch 00050: val_loss improved from 0.63645 to 0.63567, saving model to ../../../models/adult/rs=55/adult_mt=jv.h5\n",
      "1/1 [==============================] - 0s 23ms/step - loss: 0.6207 - accuracy: 0.6626 - val_loss: 0.6357 - val_accuracy: 0.6626\n",
      "Epoch 51/75\n",
      "1/1 [==============================] - ETA: 0s - loss: 0.6198 - accuracy: 0.6626\n",
      "Epoch 00051: val_loss improved from 0.63567 to 0.63491, saving model to ../../../models/adult/rs=55/adult_mt=jv.h5\n",
      "1/1 [==============================] - 0s 24ms/step - loss: 0.6198 - accuracy: 0.6626 - val_loss: 0.6349 - val_accuracy: 0.6626\n",
      "Epoch 52/75\n",
      "1/1 [==============================] - ETA: 0s - loss: 0.6190 - accuracy: 0.6626\n",
      "Epoch 00052: val_loss improved from 0.63491 to 0.63415, saving model to ../../../models/adult/rs=55/adult_mt=jv.h5\n",
      "1/1 [==============================] - 0s 25ms/step - loss: 0.6190 - accuracy: 0.6626 - val_loss: 0.6341 - val_accuracy: 0.6626\n",
      "Epoch 53/75\n",
      "1/1 [==============================] - ETA: 0s - loss: 0.6182 - accuracy: 0.6687\n",
      "Epoch 00053: val_loss improved from 0.63415 to 0.63339, saving model to ../../../models/adult/rs=55/adult_mt=jv.h5\n",
      "1/1 [==============================] - 0s 25ms/step - loss: 0.6182 - accuracy: 0.6687 - val_loss: 0.6334 - val_accuracy: 0.6626\n",
      "Epoch 54/75\n",
      "1/1 [==============================] - ETA: 0s - loss: 0.6174 - accuracy: 0.6687\n",
      "Epoch 00054: val_loss improved from 0.63339 to 0.63264, saving model to ../../../models/adult/rs=55/adult_mt=jv.h5\n",
      "1/1 [==============================] - 0s 25ms/step - loss: 0.6174 - accuracy: 0.6687 - val_loss: 0.6326 - val_accuracy: 0.6626\n",
      "Epoch 55/75\n",
      "1/1 [==============================] - ETA: 0s - loss: 0.6166 - accuracy: 0.6687\n",
      "Epoch 00055: val_loss improved from 0.63264 to 0.63190, saving model to ../../../models/adult/rs=55/adult_mt=jv.h5\n",
      "1/1 [==============================] - 0s 27ms/step - loss: 0.6166 - accuracy: 0.6687 - val_loss: 0.6319 - val_accuracy: 0.6626\n",
      "Epoch 56/75\n",
      "1/1 [==============================] - ETA: 0s - loss: 0.6158 - accuracy: 0.6687\n",
      "Epoch 00056: val_loss improved from 0.63190 to 0.63116, saving model to ../../../models/adult/rs=55/adult_mt=jv.h5\n",
      "1/1 [==============================] - 0s 23ms/step - loss: 0.6158 - accuracy: 0.6687 - val_loss: 0.6312 - val_accuracy: 0.6626\n",
      "Epoch 57/75\n",
      "1/1 [==============================] - ETA: 0s - loss: 0.6150 - accuracy: 0.6687\n",
      "Epoch 00057: val_loss improved from 0.63116 to 0.63043, saving model to ../../../models/adult/rs=55/adult_mt=jv.h5\n",
      "1/1 [==============================] - 0s 26ms/step - loss: 0.6150 - accuracy: 0.6687 - val_loss: 0.6304 - val_accuracy: 0.6626\n",
      "Epoch 58/75\n",
      "1/1 [==============================] - ETA: 0s - loss: 0.6142 - accuracy: 0.6687\n",
      "Epoch 00058: val_loss improved from 0.63043 to 0.62970, saving model to ../../../models/adult/rs=55/adult_mt=jv.h5\n",
      "1/1 [==============================] - 0s 23ms/step - loss: 0.6142 - accuracy: 0.6687 - val_loss: 0.6297 - val_accuracy: 0.6687\n",
      "Epoch 59/75\n",
      "1/1 [==============================] - ETA: 0s - loss: 0.6135 - accuracy: 0.6687\n",
      "Epoch 00059: val_loss improved from 0.62970 to 0.62898, saving model to ../../../models/adult/rs=55/adult_mt=jv.h5\n",
      "1/1 [==============================] - 0s 23ms/step - loss: 0.6135 - accuracy: 0.6687 - val_loss: 0.6290 - val_accuracy: 0.6687\n",
      "Epoch 60/75\n",
      "1/1 [==============================] - ETA: 0s - loss: 0.6127 - accuracy: 0.6687\n",
      "Epoch 00060: val_loss improved from 0.62898 to 0.62826, saving model to ../../../models/adult/rs=55/adult_mt=jv.h5\n",
      "1/1 [==============================] - 0s 23ms/step - loss: 0.6127 - accuracy: 0.6687 - val_loss: 0.6283 - val_accuracy: 0.6687\n",
      "Epoch 61/75\n",
      "1/1 [==============================] - ETA: 0s - loss: 0.6119 - accuracy: 0.6687\n",
      "Epoch 00061: val_loss improved from 0.62826 to 0.62755, saving model to ../../../models/adult/rs=55/adult_mt=jv.h5\n",
      "1/1 [==============================] - 0s 24ms/step - loss: 0.6119 - accuracy: 0.6687 - val_loss: 0.6276 - val_accuracy: 0.6687\n",
      "Epoch 62/75\n",
      "1/1 [==============================] - ETA: 0s - loss: 0.6112 - accuracy: 0.6687\n",
      "Epoch 00062: val_loss improved from 0.62755 to 0.62684, saving model to ../../../models/adult/rs=55/adult_mt=jv.h5\n",
      "1/1 [==============================] - 0s 26ms/step - loss: 0.6112 - accuracy: 0.6687 - val_loss: 0.6268 - val_accuracy: 0.6687\n",
      "Epoch 63/75\n",
      "1/1 [==============================] - ETA: 0s - loss: 0.6104 - accuracy: 0.6687\n",
      "Epoch 00063: val_loss improved from 0.62684 to 0.62614, saving model to ../../../models/adult/rs=55/adult_mt=jv.h5\n",
      "1/1 [==============================] - 0s 26ms/step - loss: 0.6104 - accuracy: 0.6687 - val_loss: 0.6261 - val_accuracy: 0.6687\n",
      "Epoch 64/75\n",
      "1/1 [==============================] - ETA: 0s - loss: 0.6096 - accuracy: 0.6687\n",
      "Epoch 00064: val_loss improved from 0.62614 to 0.62545, saving model to ../../../models/adult/rs=55/adult_mt=jv.h5\n",
      "1/1 [==============================] - 0s 23ms/step - loss: 0.6096 - accuracy: 0.6687 - val_loss: 0.6254 - val_accuracy: 0.6687\n",
      "Epoch 65/75\n",
      "1/1 [==============================] - ETA: 0s - loss: 0.6089 - accuracy: 0.6687\n",
      "Epoch 00065: val_loss improved from 0.62545 to 0.62475, saving model to ../../../models/adult/rs=55/adult_mt=jv.h5\n",
      "1/1 [==============================] - 0s 26ms/step - loss: 0.6089 - accuracy: 0.6687 - val_loss: 0.6248 - val_accuracy: 0.6687\n",
      "Epoch 66/75\n",
      "1/1 [==============================] - ETA: 0s - loss: 0.6082 - accuracy: 0.6748\n",
      "Epoch 00066: val_loss improved from 0.62475 to 0.62407, saving model to ../../../models/adult/rs=55/adult_mt=jv.h5\n",
      "1/1 [==============================] - 0s 25ms/step - loss: 0.6082 - accuracy: 0.6748 - val_loss: 0.6241 - val_accuracy: 0.6626\n",
      "Epoch 67/75\n",
      "1/1 [==============================] - ETA: 0s - loss: 0.6074 - accuracy: 0.6748\n",
      "Epoch 00067: val_loss improved from 0.62407 to 0.62338, saving model to ../../../models/adult/rs=55/adult_mt=jv.h5\n",
      "1/1 [==============================] - 0s 32ms/step - loss: 0.6074 - accuracy: 0.6748 - val_loss: 0.6234 - val_accuracy: 0.6564\n",
      "Epoch 68/75\n",
      "1/1 [==============================] - ETA: 0s - loss: 0.6067 - accuracy: 0.6748\n",
      "Epoch 00068: val_loss improved from 0.62338 to 0.62270, saving model to ../../../models/adult/rs=55/adult_mt=jv.h5\n",
      "1/1 [==============================] - 0s 28ms/step - loss: 0.6067 - accuracy: 0.6748 - val_loss: 0.6227 - val_accuracy: 0.6503\n",
      "Epoch 69/75\n",
      "1/1 [==============================] - ETA: 0s - loss: 0.6060 - accuracy: 0.6810\n",
      "Epoch 00069: val_loss improved from 0.62270 to 0.62203, saving model to ../../../models/adult/rs=55/adult_mt=jv.h5\n",
      "1/1 [==============================] - 0s 26ms/step - loss: 0.6060 - accuracy: 0.6810 - val_loss: 0.6220 - val_accuracy: 0.6503\n",
      "Epoch 70/75\n",
      "1/1 [==============================] - ETA: 0s - loss: 0.6052 - accuracy: 0.6810\n",
      "Epoch 00070: val_loss improved from 0.62203 to 0.62136, saving model to ../../../models/adult/rs=55/adult_mt=jv.h5\n",
      "1/1 [==============================] - 0s 25ms/step - loss: 0.6052 - accuracy: 0.6810 - val_loss: 0.6214 - val_accuracy: 0.6503\n",
      "Epoch 71/75\n",
      "1/1 [==============================] - ETA: 0s - loss: 0.6045 - accuracy: 0.6810\n",
      "Epoch 00071: val_loss improved from 0.62136 to 0.62070, saving model to ../../../models/adult/rs=55/adult_mt=jv.h5\n",
      "1/1 [==============================] - 0s 26ms/step - loss: 0.6045 - accuracy: 0.6810 - val_loss: 0.6207 - val_accuracy: 0.6503\n",
      "Epoch 72/75\n",
      "1/1 [==============================] - ETA: 0s - loss: 0.6038 - accuracy: 0.6810\n",
      "Epoch 00072: val_loss improved from 0.62070 to 0.62003, saving model to ../../../models/adult/rs=55/adult_mt=jv.h5\n",
      "1/1 [==============================] - 0s 25ms/step - loss: 0.6038 - accuracy: 0.6810 - val_loss: 0.6200 - val_accuracy: 0.6503\n",
      "Epoch 73/75\n",
      "1/1 [==============================] - ETA: 0s - loss: 0.6031 - accuracy: 0.6810\n",
      "Epoch 00073: val_loss improved from 0.62003 to 0.61938, saving model to ../../../models/adult/rs=55/adult_mt=jv.h5\n",
      "1/1 [==============================] - 0s 23ms/step - loss: 0.6031 - accuracy: 0.6810 - val_loss: 0.6194 - val_accuracy: 0.6503\n",
      "Epoch 74/75\n",
      "1/1 [==============================] - ETA: 0s - loss: 0.6024 - accuracy: 0.6810\n",
      "Epoch 00074: val_loss improved from 0.61938 to 0.61872, saving model to ../../../models/adult/rs=55/adult_mt=jv.h5\n",
      "1/1 [==============================] - 0s 23ms/step - loss: 0.6024 - accuracy: 0.6810 - val_loss: 0.6187 - val_accuracy: 0.6503\n"
     ]
    },
    {
     "name": "stdout",
     "output_type": "stream",
     "text": [
      "Epoch 75/75\n",
      "1/1 [==============================] - ETA: 0s - loss: 0.6017 - accuracy: 0.6810\n",
      "Epoch 00075: val_loss improved from 0.61872 to 0.61808, saving model to ../../../models/adult/rs=55/adult_mt=jv.h5\n",
      "1/1 [==============================] - 0s 25ms/step - loss: 0.6017 - accuracy: 0.6810 - val_loss: 0.6181 - val_accuracy: 0.6503\n"
     ]
    },
    {
     "data": {
      "text/plain": [
       "<tensorflow.python.keras.callbacks.History at 0x7efc621dd910>"
      ]
     },
     "execution_count": 51,
     "metadata": {},
     "output_type": "execute_result"
    }
   ],
   "source": [
    "model.fit(\n",
    "    x_val,\n",
    "    y_val,\n",
    "    batch_size = BATCH_SIZE,\n",
    "    epochs = EPOCHS,\n",
    "    validation_data = (x_hyper_val, y_hyper_val),\n",
    "    callbacks=callbacks,\n",
    ")"
   ]
  },
  {
   "cell_type": "code",
   "execution_count": 52,
   "metadata": {},
   "outputs": [],
   "source": [
    "# see the best saved\n",
    "model.load_weights(JV_MODEL_SAVEPATH)"
   ]
  },
  {
   "cell_type": "code",
   "execution_count": 53,
   "metadata": {},
   "outputs": [
    {
     "data": {
      "text/plain": [
       "0.6503067484662577"
      ]
     },
     "execution_count": 53,
     "metadata": {},
     "output_type": "execute_result"
    }
   ],
   "source": [
    "# hyper val acc\n",
    "preds_hyper_val = utils.utils.compute_preds(\n",
    "    model,\n",
    "    x_hyper_val,\n",
    "    batch_size=BATCH_SIZE,\n",
    ")\n",
    "(np.argmax(preds_hyper_val, axis=1) == np.argwhere(y_hyper_val)[:,1]).mean()"
   ]
  },
  {
   "cell_type": "code",
   "execution_count": 54,
   "metadata": {},
   "outputs": [
    {
     "data": {
      "text/plain": [
       "0.675963647759323"
      ]
     },
     "execution_count": 54,
     "metadata": {},
     "output_type": "execute_result"
    }
   ],
   "source": [
    "# test acc\n",
    "preds_test = utils.utils.compute_preds(\n",
    "    model,\n",
    "    x_test,\n",
    "    batch_size=BATCH_SIZE,\n",
    ")\n",
    "(np.argmax(preds_test, axis=1) == np.argwhere(y_test)[:,1]).mean()"
   ]
  },
  {
   "cell_type": "code",
   "execution_count": null,
   "metadata": {},
   "outputs": [],
   "source": []
  }
 ],
 "metadata": {
  "environment": {
   "name": "tf2-2-3-gpu.2-3.m56",
   "type": "gcloud",
   "uri": "gcr.io/deeplearning-platform-release/tf2-2-3-gpu.2-3:m56"
  },
  "kernelspec": {
   "display_name": "Python 3",
   "language": "python",
   "name": "python3"
  },
  "language_info": {
   "codemirror_mode": {
    "name": "ipython",
    "version": 3
   },
   "file_extension": ".py",
   "mimetype": "text/x-python",
   "name": "python",
   "nbconvert_exporter": "python",
   "pygments_lexer": "ipython3",
   "version": "3.7.8"
  }
 },
 "nbformat": 4,
 "nbformat_minor": 4
}
