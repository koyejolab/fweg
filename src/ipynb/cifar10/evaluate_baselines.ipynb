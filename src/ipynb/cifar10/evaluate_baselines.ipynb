{
 "cells": [
  {
   "cell_type": "code",
   "execution_count": 1,
   "metadata": {},
   "outputs": [],
   "source": [
    "%load_ext autoreload\n",
    "%autoreload 2"
   ]
  },
  {
   "cell_type": "code",
   "execution_count": 2,
   "metadata": {},
   "outputs": [
    {
     "name": "stderr",
     "output_type": "stream",
     "text": [
      "Using TensorFlow backend.\n"
     ]
    }
   ],
   "source": [
    "import pickle\n",
    "import os\n",
    "import csv\n",
    "import numpy as np\n",
    "import tensorflow as tf\n",
    "from sklearn import metrics, model_selection\n",
    "\n",
    "BASE_DIR = '../../../'\n",
    "import sys\n",
    "sys.path.append(BASE_DIR)\n",
    "\n",
    "# custom code\n",
    "import utils.utils\n",
    "CONFIG = utils.utils.load_config(\"../../config.json\")\n",
    "\n",
    "import utils.metrics\n",
    "import utils.record"
   ]
  },
  {
   "cell_type": "code",
   "execution_count": 3,
   "metadata": {},
   "outputs": [
    {
     "name": "stdout",
     "output_type": "stream",
     "text": [
      "15 asym 0.6\n"
     ]
    }
   ],
   "source": [
    "DATASET = os.path.basename(os.getcwd()) # name of folder this file is in\n",
    "RANDOM_SEED = CONFIG['random_seed']\n",
    "TYPE = CONFIG[\"experiment_configs\"][DATASET][\"type\"]\n",
    "NOISE_P = CONFIG[\"experiment_configs\"][DATASET][\"noise_p\"] # chance of flip\n",
    "HYPER_VAL_SPLIT = CONFIG[\"experiment_configs\"][DATASET][\"hyper_val_split\"]\n",
    "\n",
    "BATCH_SIZE = CONFIG[\"experiment_configs\"][DATASET][\"batch_size\"]\n",
    "IMAGE_X = CONFIG[\"experiment_configs\"][DATASET][\"image_x_size\"]\n",
    "IMAGE_Y = CONFIG[\"experiment_configs\"][DATASET][\"image_y_size\"]\n",
    "IMAGE_SIZE = (IMAGE_Y, IMAGE_X)\n",
    "\n",
    "print(RANDOM_SEED, TYPE, NOISE_P)\n",
    "\n",
    "# folders for processed, models\n",
    "DATA_F = os.path.join(BASE_DIR, f\"data/{DATASET}/\")\n",
    "PROCESSED_DIR = os.path.join(BASE_DIR, f'processed/{DATASET}/rs={RANDOM_SEED}')\n",
    "MODELS_DIR = os.path.join(BASE_DIR, f'models/{DATASET}/rs={RANDOM_SEED}')\n",
    "RESULTS_DIR = os.path.join(BASE_DIR, 'results')\n",
    "\n",
    "PROCESSED_SAVEPATH = utils.utils.get_savepath(PROCESSED_DIR, DATASET, \".npz\", t=TYPE, np=NOISE_P)\n",
    "BASE_MODEL_SAVEPATH = utils.utils.get_savepath(MODELS_DIR, DATASET, \".h5\", mt=\"base\", t=TYPE, np=NOISE_P)\n",
    "\n",
    "# base model saved here\n",
    "if not os.path.exists(BASE_MODEL_SAVEPATH):\n",
    "    print(f\"warning: no model has been run for rs={RANDOM_SEED}\")"
   ]
  },
  {
   "cell_type": "code",
   "execution_count": 4,
   "metadata": {},
   "outputs": [],
   "source": [
    "os.makedirs(RESULTS_DIR, exist_ok=True)"
   ]
  },
  {
   "cell_type": "code",
   "execution_count": 5,
   "metadata": {},
   "outputs": [],
   "source": [
    "dat = None\n",
    "with open(PROCESSED_SAVEPATH, 'rb') as f:\n",
    "    dat = np.load(f)\n",
    "    \n",
    "    ixt = dat['x_train']\n",
    "    xt = dat['x_hyper_train']\n",
    "\n",
    "    x_val = dat['x_val']\n",
    "    y_val = dat['y_val']\n",
    "    \n",
    "    x_hyper_val = dat['x_hyper_val']\n",
    "    y_hyper_val = dat['y_hyper_val']\n",
    "\n",
    "    x_test = dat['x_test']\n",
    "    y_test = dat['y_test']"
   ]
  },
  {
   "cell_type": "code",
   "execution_count": 6,
   "metadata": {},
   "outputs": [],
   "source": [
    "model = utils.utils.make_resnet(\n",
    "    depth=2,\n",
    "    random_state=RANDOM_SEED,\n",
    "    input_shape=(*IMAGE_SIZE, 3),\n",
    "    nc=10,\n",
    ")"
   ]
  },
  {
   "cell_type": "code",
   "execution_count": 7,
   "metadata": {},
   "outputs": [],
   "source": [
    "model_types = [\n",
    "    \"base\",\n",
    "    \"ft\",\n",
    "#     \"fc\",\n",
    "#     \"lrw\",\n",
    "#     \"jv\"\n",
    "]\n",
    "\n",
    "metric_list = [\n",
    "    'Accuracy',\n",
    "]"
   ]
  },
  {
   "cell_type": "code",
   "execution_count": 8,
   "metadata": {},
   "outputs": [
    {
     "name": "stdout",
     "output_type": "stream",
     "text": [
      "Results file exists, appending to it...\n"
     ]
    }
   ],
   "source": [
    "os.makedirs(RESULTS_DIR, exist_ok=True)\n",
    "savepath = os.path.join(RESULTS_DIR, f\"results_{DATASET}.csv\")\n",
    "saver = utils.record.Results_Recorder(savepath, DATASET)"
   ]
  },
  {
   "cell_type": "code",
   "execution_count": 9,
   "metadata": {},
   "outputs": [
    {
     "name": "stdout",
     "output_type": "stream",
     "text": [
      "Model Type: base\n",
      "Model Type: ft\n"
     ]
    }
   ],
   "source": [
    "for mt in model_types:\n",
    "    print(f\"Model Type: {mt}\")\n",
    "    modelpath = utils.utils.get_savepath(MODELS_DIR, DATASET, \".h5\", mt=mt, t=TYPE, np=NOISE_P)\n",
    "    model.load_weights(modelpath)\n",
    "    preds_val = utils.utils.compute_preds(\n",
    "        model,\n",
    "        x_val,\n",
    "        batch_size=BATCH_SIZE,\n",
    "    )\n",
    "    preds_hyper_val = utils.utils.compute_preds(\n",
    "        model,\n",
    "        x_hyper_val,\n",
    "        batch_size=BATCH_SIZE,\n",
    "    )\n",
    "    preds_test = utils.utils.compute_preds(\n",
    "        model,\n",
    "        x_test,\n",
    "        batch_size=BATCH_SIZE,\n",
    "    )\n",
    "\n",
    "    preds_val = np.argmax(preds_val, axis=1)\n",
    "    preds_hyper_val = np.argmax(preds_hyper_val, axis=1)\n",
    "    preds_test = np.argmax(preds_test, axis=1)\n",
    "\n",
    "    val_conf = metrics.confusion_matrix(y_val, preds_val, normalize='all')\n",
    "    hyper_val_conf = metrics.confusion_matrix(y_hyper_val, preds_hyper_val, normalize='all')\n",
    "    test_conf = metrics.confusion_matrix(y_test, preds_test, normalize='all')\n",
    "    \n",
    "    for metric in metric_list:\n",
    "        val_score = utils.metrics.eval_metric(val_conf, metric)\n",
    "        hyper_val_score = utils.metrics.eval_metric(hyper_val_conf, metric)\n",
    "        test_score = utils.metrics.eval_metric(test_conf, metric)\n",
    "        \n",
    "        saver.save(RANDOM_SEED, metric, mt, val_score, hyper_val_score, test_score, None)"
   ]
  },
  {
   "cell_type": "code",
   "execution_count": 10,
   "metadata": {},
   "outputs": [],
   "source": [
    "saver.close()"
   ]
  },
  {
   "cell_type": "code",
   "execution_count": null,
   "metadata": {},
   "outputs": [],
   "source": []
  }
 ],
 "metadata": {
  "environment": {
   "name": "tf2-2-3-gpu.2-3.m56",
   "type": "gcloud",
   "uri": "gcr.io/deeplearning-platform-release/tf2-2-3-gpu.2-3:m56"
  },
  "kernelspec": {
   "display_name": "Python 3",
   "language": "python",
   "name": "python3"
  },
  "language_info": {
   "codemirror_mode": {
    "name": "ipython",
    "version": 3
   },
   "file_extension": ".py",
   "mimetype": "text/x-python",
   "name": "python",
   "nbconvert_exporter": "python",
   "pygments_lexer": "ipython3",
   "version": "3.7.8"
  }
 },
 "nbformat": 4,
 "nbformat_minor": 4
}
