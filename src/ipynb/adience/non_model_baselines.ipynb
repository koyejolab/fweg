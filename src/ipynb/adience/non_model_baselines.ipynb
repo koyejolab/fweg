{
 "cells": [
  {
   "cell_type": "markdown",
   "metadata": {},
   "source": [
    "This file contains some additional baselines used in the paper, namely:\n",
    "1. PI-EW (plugin)\n",
    "2. FW val "
   ]
  },
  {
   "cell_type": "code",
   "execution_count": 1,
   "metadata": {},
   "outputs": [],
   "source": [
    "%load_ext autoreload\n",
    "%autoreload 2"
   ]
  },
  {
   "cell_type": "code",
   "execution_count": 2,
   "metadata": {},
   "outputs": [
    {
     "name": "stderr",
     "output_type": "stream",
     "text": [
      "Using TensorFlow backend.\n"
     ]
    }
   ],
   "source": [
    "import pickle\n",
    "import os\n",
    "import csv\n",
    "import numpy as np\n",
    "import tensorflow as tf\n",
    "from sklearn import metrics \n",
    "\n",
    "BASE_DIR = '../../../'\n",
    "import sys\n",
    "sys.path.append(BASE_DIR)\n",
    "\n",
    "# custom code\n",
    "import utils.utils\n",
    "CONFIG = utils.utils.load_config(\"../../config.json\")\n",
    "\n",
    "import utils.metrics\n",
    "import utils.record"
   ]
  },
  {
   "cell_type": "code",
   "execution_count": 3,
   "metadata": {},
   "outputs": [
    {
     "name": "stdout",
     "output_type": "stream",
     "text": [
      "adience 55\n"
     ]
    }
   ],
   "source": [
    "DATASET = os.path.basename(os.getcwd()) # name of folder this file is in\n",
    "RANDOM_SEED = CONFIG['random_seed']\n",
    "EPOCHS = CONFIG[\"experiment_configs\"][DATASET][\"epochs\"]\n",
    "BATCH_SIZE = CONFIG[\"experiment_configs\"][DATASET][\"batch_size\"]\n",
    "IMAGE_X_SIZE = CONFIG[\"experiment_configs\"][DATASET][\"image_x_size\"]\n",
    "IMAGE_Y_SIZE = CONFIG[\"experiment_configs\"][DATASET][\"image_y_size\"]\n",
    "IMAGE_SIZE = (IMAGE_Y_SIZE, IMAGE_X_SIZE)\n",
    "HYPER_VAL_SPLIT = CONFIG['experiment_configs'][DATASET]['hyper_val_split']\n",
    "\n",
    "print(DATASET, RANDOM_SEED)\n",
    "\n",
    "# folders for processed, models\n",
    "DATA_F = os.path.join(BASE_DIR, f\"data/{DATASET}/\")\n",
    "PROCESSED_DIR = os.path.join(BASE_DIR, f'processed/{DATASET}/rs={RANDOM_SEED}')\n",
    "MODELS_DIR = os.path.join(BASE_DIR, f'models/{DATASET}/rs={RANDOM_SEED}')\n",
    "RESULTS_DIR = os.path.join(BASE_DIR, 'results')\n",
    "\n",
    "BASE_MODEL_SAVEPATH = utils.utils.get_savepath(MODELS_DIR, DATASET, \".h5\", mt=\"base\") # mt = model_type\n",
    "\n",
    "# base model saved here\n",
    "if not os.path.exists(BASE_MODEL_SAVEPATH):\n",
    "    print(f\"warning: no model has been run for rs={RANDOM_SEED}\")"
   ]
  },
  {
   "cell_type": "code",
   "execution_count": 4,
   "metadata": {},
   "outputs": [
    {
     "name": "stdout",
     "output_type": "stream",
     "text": [
      "Found 199 files belonging to 2 classes.\n",
      "Found 200 files belonging to 2 classes.\n",
      "Found 3585 files belonging to 2 classes.\n"
     ]
    }
   ],
   "source": [
    "val_ds = tf.keras.preprocessing.image_dataset_from_directory(\n",
    "    directory=os.path.join(PROCESSED_DIR, \"val\"),\n",
    "    batch_size=BATCH_SIZE,\n",
    "    image_size=IMAGE_SIZE,\n",
    "    label_mode='categorical',\n",
    "    follow_links=True,\n",
    "    seed = RANDOM_SEED,\n",
    ")\n",
    "\n",
    "hyper_val_ds = tf.keras.preprocessing.image_dataset_from_directory(\n",
    "    directory=os.path.join(PROCESSED_DIR, \"hyper_val\"),\n",
    "    batch_size=BATCH_SIZE,\n",
    "    image_size=IMAGE_SIZE,\n",
    "    label_mode='categorical',\n",
    "    follow_links=True,\n",
    "    seed = RANDOM_SEED,\n",
    ")\n",
    "\n",
    "test_ds = tf.keras.preprocessing.image_dataset_from_directory(\n",
    "    directory=os.path.join(PROCESSED_DIR, \"test\"),\n",
    "    batch_size=BATCH_SIZE,\n",
    "    image_size=IMAGE_SIZE,\n",
    "    label_mode='categorical',\n",
    "    follow_links=True,\n",
    "    seed = RANDOM_SEED,\n",
    ")"
   ]
  },
  {
   "cell_type": "code",
   "execution_count": 5,
   "metadata": {},
   "outputs": [],
   "source": [
    "'''\n",
    "This will standardize the pixel data\n",
    "'''\n",
    "def preprocess(imgs, labels):\n",
    "    # turn from <0..255> to <0..1>\n",
    "    imgs = imgs / 255.0\n",
    "    means = np.array( [0.5, 0.5, 0.5] )\n",
    "    stds = np.array( [0.5, 0.5, 0.5] )\n",
    "    imgs = (imgs - means) / stds\n",
    "    return imgs, labels"
   ]
  },
  {
   "cell_type": "code",
   "execution_count": 6,
   "metadata": {},
   "outputs": [],
   "source": [
    "val_ds = val_ds.map(preprocess)\n",
    "hyper_val_ds = hyper_val_ds.map(preprocess)\n",
    "test_ds = test_ds.map(preprocess)"
   ]
  },
  {
   "cell_type": "code",
   "execution_count": 7,
   "metadata": {},
   "outputs": [],
   "source": [
    "model = utils.utils.make_resnet(\n",
    "    depth=2,\n",
    "    random_state=RANDOM_SEED,\n",
    "    input_shape=(*IMAGE_SIZE, 3),\n",
    "    nc=2,\n",
    ")\n",
    "model.load_weights(BASE_MODEL_SAVEPATH)"
   ]
  },
  {
   "cell_type": "code",
   "execution_count": 8,
   "metadata": {},
   "outputs": [
    {
     "name": "stderr",
     "output_type": "stream",
     "text": [
      "100%|██████████| 7/7 [00:03<00:00,  2.16it/s]\n",
      "100%|██████████| 7/7 [00:01<00:00,  4.60it/s]\n",
      "100%|██████████| 113/113 [00:23<00:00,  4.75it/s]\n"
     ]
    }
   ],
   "source": [
    "preds_val, y_val = utils.utils.compute_preds(model, val_ds)\n",
    "preds_hyper_val, y_hyper_val = utils.utils.compute_preds(model, hyper_val_ds)\n",
    "preds_test, y_test = utils.utils.compute_preds(model, test_ds)"
   ]
  },
  {
   "cell_type": "code",
   "execution_count": 34,
   "metadata": {},
   "outputs": [],
   "source": [
    "preds_val_full = np.concatenate([preds_val, preds_hyper_val])\n",
    "y_val_full = np.concatenate([y_val, y_hyper_val])"
   ]
  },
  {
   "cell_type": "code",
   "execution_count": 41,
   "metadata": {},
   "outputs": [],
   "source": [
    "METRIC = 'F-measure'\n",
    "CLASSES = 2\n",
    "\n",
    "# for FW_val\n",
    "NUM_ITERS = 100"
   ]
  },
  {
   "cell_type": "code",
   "execution_count": 49,
   "metadata": {},
   "outputs": [],
   "source": [
    "pred_eta_model = {\n",
    "    \"val_full\": preds_val_full,\n",
    "    \"val\": preds_val,\n",
    "    \"hyper_val\": preds_hyper_val,\n",
    "    \"test\": preds_test\n",
    "}"
   ]
  },
  {
   "cell_type": "code",
   "execution_count": null,
   "metadata": {},
   "outputs": [],
   "source": []
  },
  {
   "cell_type": "code",
   "execution_count": 14,
   "metadata": {},
   "outputs": [],
   "source": [
    "from utils.papers_piew import plugin"
   ]
  },
  {
   "cell_type": "code",
   "execution_count": 61,
   "metadata": {},
   "outputs": [],
   "source": [
    "mval_val, mval_test, final_weights = plugin(METRIC, y_val_full, y_test, pred_eta_model, CLASSES)"
   ]
  },
  {
   "cell_type": "code",
   "execution_count": 62,
   "metadata": {},
   "outputs": [
    {
     "name": "stdout",
     "output_type": "stream",
     "text": [
      "Results file exists, appending to it...\n"
     ]
    }
   ],
   "source": [
    "os.makedirs(RESULTS_DIR, exist_ok=True)\n",
    "savepath = os.path.join(RESULTS_DIR, f\"results_{DATASET}.csv\")\n",
    "saver = utils.record.Results_Recorder(savepath, DATASET)\n",
    "saver.save(RANDOM_SEED, METRIC, \"plugin\", mval_val, mval_val, mval_test, None)\n",
    "saver.close()"
   ]
  },
  {
   "cell_type": "code",
   "execution_count": null,
   "metadata": {},
   "outputs": [],
   "source": []
  },
  {
   "cell_type": "code",
   "execution_count": 40,
   "metadata": {},
   "outputs": [],
   "source": [
    "from utils.papers_fw_val import FW_val"
   ]
  },
  {
   "cell_type": "code",
   "execution_count": 51,
   "metadata": {},
   "outputs": [],
   "source": [
    "mval_val_list, mval_hyper_val_list, mval_test_list, grad_norm_list = FW_val(\n",
    "    NUM_ITERS,\n",
    "    METRIC,\n",
    "    y_val,\n",
    "    y_hyper_val,\n",
    "    y_test, \n",
    "    pred_eta_model,\n",
    "    CLASSES,\n",
    "    RANDOM_SEED\n",
    ")"
   ]
  },
  {
   "cell_type": "code",
   "execution_count": 52,
   "metadata": {},
   "outputs": [],
   "source": [
    "best_idx = np.argmax(mval_hyper_val_list)\n",
    "mval_val = mval_val_list[best_idx]\n",
    "mval_hyper_val = mval_hyper_val_list[best_idx]\n",
    "mval_test = mval_test_list[best_idx]"
   ]
  },
  {
   "cell_type": "code",
   "execution_count": 55,
   "metadata": {},
   "outputs": [
    {
     "data": {
      "text/plain": [
       "(0.7734674200404332, 0.7246409793543266, 0.7388613058579313)"
      ]
     },
     "execution_count": 55,
     "metadata": {},
     "output_type": "execute_result"
    }
   ],
   "source": [
    "mval_val, mval_hyper_val, mval_test"
   ]
  },
  {
   "cell_type": "code",
   "execution_count": 57,
   "metadata": {},
   "outputs": [
    {
     "name": "stdout",
     "output_type": "stream",
     "text": [
      "Results file exists, appending to it...\n"
     ]
    }
   ],
   "source": [
    "os.makedirs(RESULTS_DIR, exist_ok=True)\n",
    "savepath = os.path.join(RESULTS_DIR, f\"results_{DATASET}.csv\")\n",
    "saver = utils.record.Results_Recorder(savepath, DATASET)\n",
    "saver.save(RANDOM_SEED, METRIC, \"fw_val\", mval_val, mval_hyper_val, mval_test, None)\n",
    "saver.close()"
   ]
  },
  {
   "cell_type": "code",
   "execution_count": null,
   "metadata": {},
   "outputs": [],
   "source": []
  }
 ],
 "metadata": {
  "environment": {
   "name": "tf2-2-3-gpu.2-3.m56",
   "type": "gcloud",
   "uri": "gcr.io/deeplearning-platform-release/tf2-2-3-gpu.2-3:m56"
  },
  "kernelspec": {
   "display_name": "Python 3",
   "language": "python",
   "name": "python3"
  },
  "language_info": {
   "codemirror_mode": {
    "name": "ipython",
    "version": 3
   },
   "file_extension": ".py",
   "mimetype": "text/x-python",
   "name": "python",
   "nbconvert_exporter": "python",
   "pygments_lexer": "ipython3",
   "version": "3.7.8"
  }
 },
 "nbformat": 4,
 "nbformat_minor": 4
}
